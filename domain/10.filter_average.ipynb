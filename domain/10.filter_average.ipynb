{
 "cells": [
  {
   "cell_type": "markdown",
   "metadata": {},
   "source": [
    "# 평균값 필터링\n",
    "- 마스크로 씌워진 영역의 입력 화소들을 가져와서 그 화소들의 평균을 구하여 출력 화소로 지정하는 방법이다. 마스크 영역의 화소값들을 평균하기 때문에 블러링 효과가 나타난다. 회선에서 블러링 마스크를 적용한 것과 결과가 같다 "
   ]
  },
  {
   "cell_type": "code",
   "execution_count": 1,
   "metadata": {},
   "outputs": [],
   "source": [
    "import numpy as np, cv2"
   ]
  },
  {
   "cell_type": "code",
   "execution_count": 2,
   "metadata": {},
   "outputs": [],
   "source": [
    "def average_filter(image, ksize):\n",
    "    rows, cols = image.shape[:2]\n",
    "    dst = np.zeros((rows, cols), np.uint8)\n",
    "    center = ksize // 2                                 # 마스크 절반 크기\n",
    "\n",
    "    for i in range(rows):           # 입력 영상 순회\n",
    "        for j in range(cols):\n",
    "            y1, y2 = i - center, i + center + 1        # 마스크 높이 범위\n",
    "            x1, x2 = j - center, j + center + 1        # 마스크 너비 범위\n",
    "            if y1 < 0 or y2 > rows or x1 < 0 or x2 > cols :\n",
    "                dst[i, j] = image[i, j]\n",
    "            else:\n",
    "                mask = image[y1:y2, x1:x2]                 # 범위 지정\n",
    "                dst[i, j] = cv2.mean(mask)[0]\n",
    "    return dst"
   ]
  },
  {
   "cell_type": "code",
   "execution_count": 3,
   "metadata": {},
   "outputs": [],
   "source": [
    "image = cv2.imread(\"img/filter_avg.jpg\", cv2.IMREAD_GRAYSCALE)\n",
    "if image is None: raise Exception(\"영상파일 읽기 오류\")"
   ]
  },
  {
   "cell_type": "code",
   "execution_count": 4,
   "metadata": {},
   "outputs": [],
   "source": [
    "avg_img  = average_filter(image, 5)                    # 사용자 정의 평균값 필터 함수\n",
    "blur_img = cv2.blur(image, (5, 5), borderType=cv2.BORDER_CONSTANT) # OpenCV의 블러링 함수\n",
    "box_img  = cv2.boxFilter(image, ddepth=-1, ksize=(5, 5))   # OpenCV의 박스 필터 함수\n"
   ]
  },
  {
   "cell_type": "code",
   "execution_count": 5,
   "metadata": {},
   "outputs": [
    {
     "data": {
      "text/plain": [
       "-1"
      ]
     },
     "execution_count": 5,
     "metadata": {},
     "output_type": "execute_result"
    }
   ],
   "source": [
    "cv2.imshow(\"image\", image),\n",
    "cv2.imshow(\"avg_img\", avg_img)\n",
    "cv2.imshow(\"blur_img\", box_img)\n",
    "cv2.imshow(\"box_img\", box_img)\n",
    "cv2.waitKey(0)"
   ]
  },
  {
   "cell_type": "markdown",
   "metadata": {},
   "source": [
    "![result](img/10_result.png)"
   ]
  },
  {
   "cell_type": "code",
   "execution_count": null,
   "metadata": {},
   "outputs": [],
   "source": []
  }
 ],
 "metadata": {
  "kernelspec": {
   "display_name": "Python 3",
   "language": "python",
   "name": "python3"
  },
  "language_info": {
   "codemirror_mode": {
    "name": "ipython",
    "version": 3
   },
   "file_extension": ".py",
   "mimetype": "text/x-python",
   "name": "python",
   "nbconvert_exporter": "python",
   "pygments_lexer": "ipython3",
   "version": "3.7.7"
  }
 },
 "nbformat": 4,
 "nbformat_minor": 4
}
