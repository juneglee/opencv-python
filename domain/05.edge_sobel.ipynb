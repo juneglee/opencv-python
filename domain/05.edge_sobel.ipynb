{
 "cells": [
  {
   "cell_type": "markdown",
   "metadata": {},
   "source": [
    "# 소벨(Soble) 마스크\n",
    "- 소벨 마스크는 에지 추출을 위한 가장 대표적인 1차 미분 연산자 이다. 마스쿠의 구성은 프리위 마스크와 유시하지만 중심 계수의 차분에 대한 비중을 2배로 키운 것이 특징이다.\n",
    "- 소벨 마스크도 수직 마스크의 회선 결과와 수평 마스크의 회선 결과의 크기로 구성된다. 수직, 수평 방향의 에지도 잘 추출하며, 특히, 중심계수의 차분 비중을 높였기 때문에 대각선 방향의 에지도 잘 검출한다 "
   ]
  },
  {
   "cell_type": "code",
   "execution_count": 1,
   "metadata": {},
   "outputs": [],
   "source": [
    "import numpy as np, cv2"
   ]
  },
  {
   "cell_type": "code",
   "execution_count": 2,
   "metadata": {},
   "outputs": [],
   "source": [
    "def filter(image, mask):\n",
    "    rows, cols = image.shape[:2]\n",
    "    dst = np.zeros((rows, cols), np.float32)                     # 회선 결과 저장 행렬\n",
    "    xcenter, ycenter = mask.shape[1]//2, mask.shape[0]//2       # 마스크 중심 좌표\n",
    "\n",
    "    for i in range(ycenter, rows - ycenter):                    # 입력 행렬 반복 순회\n",
    "        for j in range(xcenter, cols - xcenter):\n",
    "            y1, y2 = i - ycenter, i + ycenter + 1               # 관심영역 높이 범위\n",
    "            x1, x2 = j - xcenter, j + xcenter + 1               # 관심영역 너비 범위\n",
    "            roi = image[y1:y2, x1:x2].astype(\"float32\")         # 관심영역 형변환\n",
    "\n",
    "            tmp = cv2.multiply(roi, mask)                       # 회선 적용 - OpenCV 곱셈\n",
    "            dst[i, j] = cv2.sumElems(tmp)[0]                    # 출력화소 저장\n",
    "    return dst \n",
    "\n",
    "def differential(image, data1, data2):\n",
    "    # 입력 인자로 마스크 행렬 초기화\n",
    "    mask1 = np.array(data1, np.float32).reshape(3, 3)\n",
    "    mask2 = np.array(data2, np.float32).reshape(3, 3)\n",
    "\n",
    "    # 사용자 정의 회선 함수\n",
    "    dst1 = filter(image, mask1)\n",
    "    dst2 = filter(image, mask2)\n",
    "    dst = cv2.magnitude(dst1, dst2);  # 회선 결과 두 행렬의 크기 계산\n",
    "\n",
    "    # dst1, dst2 = np.abs(dst1), np.abs(dst2)  # 회선 결과 행렬 양수 변경\n",
    "    dst = cv2.convertScaleAbs(dst)\n",
    "    dst1 = cv2.convertScaleAbs(dst1)\n",
    "    dst2 = cv2.convertScaleAbs(dst2)\n",
    "    return dst, dst1, dst2"
   ]
  },
  {
   "cell_type": "code",
   "execution_count": 3,
   "metadata": {},
   "outputs": [],
   "source": [
    "image = cv2.imread(\"img/edge.jpg\", cv2.IMREAD_GRAYSCALE)\n",
    "if image is None: raise Exception(\"영상파일 읽기 오류\")"
   ]
  },
  {
   "cell_type": "code",
   "execution_count": 4,
   "metadata": {},
   "outputs": [],
   "source": [
    "data1 = [-1, 0, 1,                  # 수직 마스크\n",
    "         -2, 0, 2,\n",
    "         -1, 0, 1]\n",
    "data2 = [-1,-2,-1,                 # 수평 마스크\n",
    "          0, 0, 0,\n",
    "          1, 2, 1]\n",
    "dst, dst1, dst2 = differential(image, data1, data2)     # 두 방향 회선 및 크기(에지 강도) 계산"
   ]
  },
  {
   "cell_type": "code",
   "execution_count": 5,
   "metadata": {},
   "outputs": [],
   "source": [
    "# OpenCV 제공 소벨 에지 계산\n",
    "dst3 = cv2.Sobel(np.float32(image), cv2.CV_32F, 1, 0, 3)  # x방향 미분 - 수직 마스크\n",
    "dst4 = cv2.Sobel(np.float32(image), cv2.CV_32F, 0, 1, 3)  # y방향 미분 - 수평 마스크\n",
    "dst3 = cv2.convertScaleAbs(dst3)                          # 절댓값 및 uint8 형변환\n",
    "dst4 = cv2.convertScaleAbs(dst4)"
   ]
  },
  {
   "cell_type": "code",
   "execution_count": 6,
   "metadata": {},
   "outputs": [
    {
     "data": {
      "text/plain": [
       "-1"
      ]
     },
     "execution_count": 6,
     "metadata": {},
     "output_type": "execute_result"
    }
   ],
   "source": [
    "cv2.imshow(\"dst- sobel edge\", dst)\n",
    "cv2.imshow(\"dst1- vertical_mask\", dst1)\n",
    "cv2.imshow(\"dst2- horizontal_mask\", dst2)\n",
    "cv2.imshow(\"dst3- vertical_OpenCV\", dst3)\n",
    "cv2.imshow(\"dst4- horizontal_OpenCV\", dst4)\n",
    "cv2.waitKey(0)"
   ]
  },
  {
   "cell_type": "markdown",
   "metadata": {},
   "source": [
    "![result](img/05_result.png)"
   ]
  },
  {
   "cell_type": "markdown",
   "metadata": {},
   "source": [
    "- 수직과 수평 마스크를 적용해서 회선을 수행한 dst1, dst2 영상과 OpenCV에서 제공하는 cv2.Sobel() 함수를 이용해서 수직, 수평 에지를 구한 dst3, dst4의 이미지가 같은 것을 확인할 수 있다\n",
    "- 영상처리 응용에서 필요한 에지들은 대부분 특정 뱡향의 에지들이다. 따라서 수평이나 수직의 단일 방향 에지를 검출하고자 할때가 종종 있으며, 이 경웨 두 개의 마스크르 같이 적용하지 않고, 하나의 마스크만 적용할 수 있다."
   ]
  },
  {
   "cell_type": "code",
   "execution_count": null,
   "metadata": {},
   "outputs": [],
   "source": []
  }
 ],
 "metadata": {
  "kernelspec": {
   "display_name": "Python 3",
   "language": "python",
   "name": "python3"
  },
  "language_info": {
   "codemirror_mode": {
    "name": "ipython",
    "version": 3
   },
   "file_extension": ".py",
   "mimetype": "text/x-python",
   "name": "python",
   "nbconvert_exporter": "python",
   "pygments_lexer": "ipython3",
   "version": "3.7.7"
  }
 },
 "nbformat": 4,
 "nbformat_minor": 4
}
