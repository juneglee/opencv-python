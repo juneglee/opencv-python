{
 "cells": [
  {
   "cell_type": "markdown",
   "metadata": {},
   "source": [
    "# 라플라시안 에지 검출\n",
    "- 2차 미분 연산자로 라플라시안이 있다. 라플라시안은 피에르시몽 라플라스(Pierre-Sinom Laplace) 라는 프랑스의 수학자 이름을 따서 지은 것\n",
    "- 라플라시안은 함수 f에 대한 그래디언트의 발산으로 정의된다. \n",
    "- 3x3 크기의 마스크를 예로 라플라시안 마스크 공식에 적용하면, 중심 계수를 4배로 하고 상하 좌우 화소를 중심계수와 반대 부호를 갖게 구성한다. 그리고 마스크 원소의 전체 합은 0이 되어야 한다 \n",
    "- 라플라시안은 중심계수와 4방향 혹은 8방향의 주변화소와 차분을 합하여 에지를 검출하기 대문에 주변 화소에 잡음 성분이 있으면 잡음 성분에 매우 민감하여 실제보다 더 많은 에지를 검출하는 경향이 있다 "
   ]
  },
  {
   "cell_type": "code",
   "execution_count": 1,
   "metadata": {},
   "outputs": [],
   "source": [
    "import numpy as np, cv2"
   ]
  },
  {
   "cell_type": "code",
   "execution_count": 2,
   "metadata": {},
   "outputs": [],
   "source": [
    "image = cv2.imread(\"img/laplacian.jpg\", cv2.IMREAD_GRAYSCALE)\n",
    "if image is None: raise Exception(\"영상파일 읽기 오류\")"
   ]
  },
  {
   "cell_type": "code",
   "execution_count": 3,
   "metadata": {},
   "outputs": [],
   "source": [
    "data1 = [[0, 1, 0],          # 4 방향 필터\n",
    "         [1, 4, 1],\n",
    "         [0, 1, 0]]\n",
    "data2 = [[-1, -1, -1],      # 8 방향 필터\n",
    "         [-1, 8, -1],\n",
    "         [-1, -1, -1]]"
   ]
  },
  {
   "cell_type": "code",
   "execution_count": 4,
   "metadata": {},
   "outputs": [],
   "source": [
    "mask4 = np.array(data1, np.int16)   # 음수가 있으므로 자료형이 int8인 행렬 선언\n",
    "mask8 = np.array(data2, np.int16)"
   ]
  },
  {
   "cell_type": "code",
   "execution_count": 5,
   "metadata": {},
   "outputs": [],
   "source": [
    "# OpenCV 함수 cv2.filter2D() 통한 라플라시안 수행\n",
    "dst1 = cv2.filter2D(image, cv2.CV_16S, mask4)\n",
    "dst2 = cv2.filter2D(image, cv2.CV_16S, mask8)\n",
    "dst3 = cv2.Laplacian(image, cv2.CV_16S, 1)      # OpenCV 라플라시안 수행 함수"
   ]
  },
  {
   "cell_type": "code",
   "execution_count": 8,
   "metadata": {},
   "outputs": [
    {
     "data": {
      "text/plain": [
       "-1"
      ]
     },
     "execution_count": 8,
     "metadata": {},
     "output_type": "execute_result"
    }
   ],
   "source": [
    "cv2.imshow(\"image\", image)\n",
    "cv2.imshow(\"filter2D 4-direction\", cv2.convertScaleAbs(dst1))\n",
    "cv2.imshow(\"filter2D 8-direction\", cv2.convertScaleAbs(dst2))\n",
    "cv2.imshow(\"Laplacian_OpenCV\", cv2.convertScaleAbs(dst3))\n",
    "cv2.waitKey(0)"
   ]
  },
  {
   "cell_type": "markdown",
   "metadata": {},
   "source": [
    "![result](img/06_result.png)"
   ]
  },
  {
   "cell_type": "code",
   "execution_count": null,
   "metadata": {},
   "outputs": [],
   "source": []
  }
 ],
 "metadata": {
  "kernelspec": {
   "display_name": "Python 3",
   "language": "python",
   "name": "python3"
  },
  "language_info": {
   "codemirror_mode": {
    "name": "ipython",
    "version": 3
   },
   "file_extension": ".py",
   "mimetype": "text/x-python",
   "name": "python",
   "nbconvert_exporter": "python",
   "pygments_lexer": "ipython3",
   "version": "3.7.7"
  }
 },
 "nbformat": 4,
 "nbformat_minor": 4
}
