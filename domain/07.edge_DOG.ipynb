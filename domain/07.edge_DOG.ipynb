{
 "cells": [
  {
   "cell_type": "markdown",
   "metadata": {},
   "source": [
    "# LoG와 DoG\n",
    "- 라플라시안은 잡음에 민감한 단점이 있다. 그래서 잡음을 먼저 제거하고 라플리사안을 수행한다면 잡음에 강한 에지 검출이 가능한다 \n",
    "- 잡음 제거 방법으로는 미디언 필터링 혹은 최댓값/최솟값 필터링 등을 수행. 그러나 이런 방법들은 비선형 공간 필터링이기 때문에 마스크가 큰 경우 속도 문제가 있다. \n",
    "\n",
    "- LoG (Laplacian of Gaussian) : 잡음을 제거해 주는 선형 공간 필터를 선택하여 회선을 하고, 그 후에 라플라시안 마스코 회선 \n",
    "- DoG (Difference of Gaussian): 가우시안 수무딩 필터링의 차를 이용하여 에지를 검출 "
   ]
  },
  {
   "cell_type": "code",
   "execution_count": 1,
   "metadata": {},
   "outputs": [],
   "source": [
    "import numpy as np, cv2"
   ]
  },
  {
   "cell_type": "code",
   "execution_count": 2,
   "metadata": {},
   "outputs": [],
   "source": [
    "image = cv2.imread(\"img/dog.jpg\", cv2.IMREAD_GRAYSCALE)\n",
    "if image is None: raise Exception(\"영상파일 읽기 오류\")"
   ]
  },
  {
   "cell_type": "code",
   "execution_count": 3,
   "metadata": {},
   "outputs": [],
   "source": [
    "gaus = cv2.GaussianBlur(image, (9,9), 0, 0)            # 가우시안 마스크 적용\n",
    "dst1 = cv2.Laplacian(gaus, cv2.CV_16S, 9)             # 라플라시안 수행"
   ]
  },
  {
   "cell_type": "code",
   "execution_count": 4,
   "metadata": {},
   "outputs": [],
   "source": [
    "gaus1 = cv2.GaussianBlur(image, (3, 3), 0)          # 가우사안 블러링\n",
    "gaus2 = cv2.GaussianBlur(image, (9, 9), 0)\n",
    "dst2 = gaus1 - gaus2          # DoG 수행"
   ]
  },
  {
   "cell_type": "code",
   "execution_count": 5,
   "metadata": {},
   "outputs": [
    {
     "data": {
      "text/plain": [
       "-1"
      ]
     },
     "execution_count": 5,
     "metadata": {},
     "output_type": "execute_result"
    }
   ],
   "source": [
    "cv2.imshow(\"image\", image)\n",
    "cv2.imshow(\"dst1 - LoG\", dst1.astype(\"uint8\"))\n",
    "cv2.imshow(\"dst2 - DoG\", dst2)\n",
    "cv2.waitKey(0)"
   ]
  },
  {
   "cell_type": "markdown",
   "metadata": {},
   "source": [
    "![result](img/07_result.png)"
   ]
  },
  {
   "cell_type": "code",
   "execution_count": null,
   "metadata": {},
   "outputs": [],
   "source": []
  }
 ],
 "metadata": {
  "kernelspec": {
   "display_name": "Python 3",
   "language": "python",
   "name": "python3"
  },
  "language_info": {
   "codemirror_mode": {
    "name": "ipython",
    "version": 3
   },
   "file_extension": ".py",
   "mimetype": "text/x-python",
   "name": "python",
   "nbconvert_exporter": "python",
   "pygments_lexer": "ipython3",
   "version": "3.7.7"
  }
 },
 "nbformat": 4,
 "nbformat_minor": 4
}
