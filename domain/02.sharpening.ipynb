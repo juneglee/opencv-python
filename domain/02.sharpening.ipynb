{
 "cells": [
  {
   "cell_type": "markdown",
   "metadata": {},
   "source": [
    "# 회선 이용 샤프닝\n",
    "- 블러링이 이웃 화소의 차이를 감소시켜서 부드럽게 만드는 것이라면, 샤프닝은 반대로 입력 화소에서 이웃 화소끼리 차이를 크게 되도록 출력 화소를 만들어서 날카로운 느낌이 나게 만드는 것이다. "
   ]
  },
  {
   "cell_type": "code",
   "execution_count": 1,
   "metadata": {},
   "outputs": [],
   "source": [
    "import numpy as np, cv2"
   ]
  },
  {
   "cell_type": "code",
   "execution_count": 2,
   "metadata": {},
   "outputs": [],
   "source": [
    "# 회선 수행 함수 - 행렬 처리 방식\n",
    "def filter(image, mask):\n",
    "    rows, cols = image.shape[:2]\n",
    "    dst = np.zeros((rows, cols), np.float32)                     # 회선 결과 저장 행렬\n",
    "    xcenter, ycenter = mask.shape[1]//2, mask.shape[0]//2       # 마스크 중심 좌표\n",
    "\n",
    "    for i in range(ycenter, rows - ycenter):                    # 입력 행렬 반복 순회\n",
    "        for j in range(xcenter, cols - xcenter):\n",
    "            y1, y2 = i - ycenter, i + ycenter + 1               # 관심영역 높이 범위\n",
    "            x1, x2 = j - xcenter, j + xcenter + 1               # 관심영역 너비 범위\n",
    "            roi = image[y1:y2, x1:x2].astype(\"float32\")         # 관심영역 형변환\n",
    "\n",
    "            tmp = cv2.multiply(roi, mask)                       # 회선 적용 - OpenCV 곱셈\n",
    "            dst[i, j] = cv2.sumElems(tmp)[0]                    # 출력화소 저장\n",
    "    return dst                                                  # 자료형 변환하여 반환\n"
   ]
  },
  {
   "cell_type": "code",
   "execution_count": 3,
   "metadata": {},
   "outputs": [],
   "source": [
    "image = cv2.imread(\"img/filter_sharpen.jpg\", cv2.IMREAD_GRAYSCALE) # 영상 읽기\n",
    "if image is None: raise Exception(\"영상파일 읽기 오류\")"
   ]
  },
  {
   "cell_type": "code",
   "execution_count": 4,
   "metadata": {},
   "outputs": [],
   "source": [
    "# 샤프닝 마스크 원소 지정 \n",
    "data1 = [0, -1, 0,\n",
    "        -1, 5, -1,\n",
    "         0, -1, 0]\n",
    "data2 = [[-1, -1, -1],\n",
    "         [-1, 9, -1],\n",
    "         [-1, -1, -1]]\n",
    "mask1 = np.array(data1, np.float32).reshape(3, 3)\n",
    "mask2 = np.array(data2, np.float32)\n",
    "\n",
    "sharpen1 = filter(image, mask1)                     # 회선 수행 – 저자 구현 함\n",
    "sharpen2 = filter(image, mask2) \n",
    "sharpen1 = cv2.convertScaleAbs(sharpen1)\n",
    "sharpen2 = cv2.convertScaleAbs(sharpen2)"
   ]
  },
  {
   "cell_type": "code",
   "execution_count": 5,
   "metadata": {},
   "outputs": [
    {
     "data": {
      "text/plain": [
       "-1"
      ]
     },
     "execution_count": 5,
     "metadata": {},
     "output_type": "execute_result"
    }
   ],
   "source": [
    "cv2.imshow(\"image\", image)\n",
    "cv2.imshow(\"sharpen1\", cv2.convertScaleAbs(sharpen1))  # 윈도우 표시 위한 형변환\n",
    "cv2.imshow(\"sharpen2\", cv2.convertScaleAbs(sharpen2))\n",
    "cv2.waitKey(0)"
   ]
  },
  {
   "cell_type": "markdown",
   "metadata": {},
   "source": [
    "![result](img/02_result.png)"
   ]
  },
  {
   "cell_type": "code",
   "execution_count": null,
   "metadata": {},
   "outputs": [],
   "source": []
  }
 ],
 "metadata": {
  "kernelspec": {
   "display_name": "Python 3",
   "language": "python",
   "name": "python3"
  },
  "language_info": {
   "codemirror_mode": {
    "name": "ipython",
    "version": 3
   },
   "file_extension": ".py",
   "mimetype": "text/x-python",
   "name": "python",
   "nbconvert_exporter": "python",
   "pygments_lexer": "ipython3",
   "version": "3.7.7"
  }
 },
 "nbformat": 4,
 "nbformat_minor": 4
}
