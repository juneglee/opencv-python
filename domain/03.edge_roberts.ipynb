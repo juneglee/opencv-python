{
 "cells": [
  {
   "cell_type": "code",
   "execution_count": 1,
   "metadata": {},
   "outputs": [],
   "source": [
    "import numpy as np, cv2"
   ]
  },
  {
   "cell_type": "code",
   "execution_count": 2,
   "metadata": {},
   "outputs": [],
   "source": [
    "# 회선 수행 함수 - 행렬 처리 방식\n",
    "def filter(image, mask):\n",
    "    rows, cols = image.shape[:2]\n",
    "    dst = np.zeros((rows, cols), np.float32)                     # 회선 결과 저장 행렬\n",
    "    xcenter, ycenter = mask.shape[1]//2, mask.shape[0]//2       # 마스크 중심 좌표\n",
    "\n",
    "    for i in range(ycenter, rows - ycenter):                    # 입력 행렬 반복 순회\n",
    "        for j in range(xcenter, cols - xcenter):\n",
    "            y1, y2 = i - ycenter, i + ycenter + 1               # 관심영역 높이 범위\n",
    "            x1, x2 = j - xcenter, j + xcenter + 1               # 관심영역 너비 범위\n",
    "            roi = image[y1:y2, x1:x2].astype(\"float32\")         # 관심영역 형변환\n",
    "\n",
    "            tmp = cv2.multiply(roi, mask)                       # 회선 적용 - OpenCV 곱셈\n",
    "            dst[i, j] = cv2.sumElems(tmp)[0]                    # 출력화소 저장\n",
    "    return dst                                                  # 자료형 변환하여 반환"
   ]
  },
  {
   "cell_type": "code",
   "execution_count": 3,
   "metadata": {},
   "outputs": [],
   "source": [
    "def differential(image, data1, data2):\n",
    "    mask1 = np.array(data1, np.float32).reshape(3, 3)\n",
    "    mask2 = np.array(data2, np.float32).reshape(3, 3)\n",
    "\n",
    "    dst1 = filter(image, mask1)\n",
    "    dst2 = filter(image, mask2)\n",
    "    dst = cv2.magnitude(dst1, dst2)                # 회선 결과인 두 행렬의 크기 계산\n",
    "    dst1, dst2 = np.abs(dst1), np.abs(dst2)  # 회선 결과 행렬 양수 변경\n",
    "\n",
    "    dst = np.clip(dst, 0, 255).astype(\"uint8\")\n",
    "    dst1 = np.clip(dst1, 0, 255).astype(\"uint8\")\n",
    "    dst2 = np.clip(dst2, 0, 255).astype(\"uint8\")\n",
    "    return dst, dst1, dst2\n"
   ]
  },
  {
   "cell_type": "code",
   "execution_count": 4,
   "metadata": {},
   "outputs": [],
   "source": [
    "image = cv2.imread(\"img/edge.jpg\", cv2.IMREAD_GRAYSCALE)\n",
    "if image is None: raise Exception(\"영상파일 읽기 오류\")\n",
    "    "
   ]
  },
  {
   "cell_type": "code",
   "execution_count": 5,
   "metadata": {},
   "outputs": [],
   "source": [
    "data1 = [-1, 0, 0,\n",
    "          0, 1, 0,\n",
    "          0, 0, 0]\n",
    "data2 = [ 0, 0, -1,\n",
    "          0, 1, 0,\n",
    "          0, 0, 0]\n",
    "dst, dst1, dst2 = differential(image, data1, data2)  \t\t# 회선 수행 및 두 방향의 크기 계산\n"
   ]
  },
  {
   "cell_type": "code",
   "execution_count": 6,
   "metadata": {},
   "outputs": [
    {
     "data": {
      "text/plain": [
       "-1"
      ]
     },
     "execution_count": 6,
     "metadata": {},
     "output_type": "execute_result"
    }
   ],
   "source": [
    "cv2.imshow(\"image\", image)\n",
    "cv2.imshow(\"roberts edge\", dst)\n",
    "cv2.imshow(\"dst1\", dst1)\n",
    "cv2.imshow(\"dst2\", dst2)\n",
    "cv2.waitKey(0)"
   ]
  },
  {
   "cell_type": "markdown",
   "metadata": {},
   "source": [
    "![result](img/03_result.png)"
   ]
  },
  {
   "cell_type": "code",
   "execution_count": null,
   "metadata": {},
   "outputs": [],
   "source": []
  }
 ],
 "metadata": {
  "kernelspec": {
   "display_name": "Python 3",
   "language": "python",
   "name": "python3"
  },
  "language_info": {
   "codemirror_mode": {
    "name": "ipython",
    "version": 3
   },
   "file_extension": ".py",
   "mimetype": "text/x-python",
   "name": "python",
   "nbconvert_exporter": "python",
   "pygments_lexer": "ipython3",
   "version": "3.7.7"
  }
 },
 "nbformat": 4,
 "nbformat_minor": 4
}
