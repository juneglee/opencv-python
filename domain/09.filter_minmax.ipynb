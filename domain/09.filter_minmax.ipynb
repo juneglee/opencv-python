{
 "cells": [
  {
   "cell_type": "markdown",
   "metadata": {},
   "source": [
    "# 최댓값/최솟값 필터링\n",
    "- 입력 영상의 줌심 화소에서 마스크로 씌워진 영역의 입력 화소들을 가져와 계수를 구성하고 그중에서 최댓값과 최솟값을 출력 화소로 결정하는 방법이다. 측, 최댓값 필터링은 게수중에서 최대값을 통과시켜 출력 화소가 되고, 최솟값 필터링은 최솟값을 통과시켜 출력 화소가 된다. "
   ]
  },
  {
   "cell_type": "code",
   "execution_count": 1,
   "metadata": {},
   "outputs": [],
   "source": [
    "import numpy as np, cv2"
   ]
  },
  {
   "cell_type": "code",
   "execution_count": 2,
   "metadata": {},
   "outputs": [],
   "source": [
    "def minmax_filter(image, ksize, mode):\n",
    "    rows, cols = image.shape[:2]\n",
    "    dst = np.zeros((rows, cols), np.uint8)\n",
    "    center = ksize // 2                                 # 마스크 절반 크기\n",
    "\n",
    "    for i in range(center, rows - center):             # 입력 영상 순회\n",
    "        for j in range(center, cols - center):\n",
    "            # 마스크 영역 행렬 처리 방식\n",
    "            y1, y2 = i - center, i + center + 1          # 마스크 높이 범위\n",
    "            x1, x2 = j - center, j + center + 1          # 마스크 너비 범위\n",
    "            mask = image[y1:y2, x1:x2]                   # 마스크 영역\n",
    "            dst[i, j] = cv2.minMaxLoc(mask)[mode]\n",
    "    return dst"
   ]
  },
  {
   "cell_type": "code",
   "execution_count": 3,
   "metadata": {},
   "outputs": [],
   "source": [
    "image = cv2.imread(\"img/min_max.jpg\", cv2.IMREAD_GRAYSCALE)\n",
    "if image is None: raise Exception(\"영상파일 읽기 오류\")"
   ]
  },
  {
   "cell_type": "code",
   "execution_count": 4,
   "metadata": {},
   "outputs": [],
   "source": [
    "minfilter_img = minmax_filter(image, 3, 0)               \t# 3x3 마스크 최솟값 필터링\n",
    "maxfilter_img = minmax_filter(image, 3, 1)               \t# 3x3 마스크 최솟값 필터링"
   ]
  },
  {
   "cell_type": "code",
   "execution_count": 5,
   "metadata": {},
   "outputs": [
    {
     "data": {
      "text/plain": [
       "-1"
      ]
     },
     "execution_count": 5,
     "metadata": {},
     "output_type": "execute_result"
    }
   ],
   "source": [
    "cv2.imshow(\"image\", image)\n",
    "cv2.imshow(\"minfilter_img\", minfilter_img)\n",
    "cv2.imshow(\"maxfilter_img\", maxfilter_img)\n",
    "cv2.waitKey(0)"
   ]
  },
  {
   "cell_type": "markdown",
   "metadata": {},
   "source": [
    "![result](img/09_result.png)"
   ]
  },
  {
   "cell_type": "code",
   "execution_count": null,
   "metadata": {},
   "outputs": [],
   "source": []
  }
 ],
 "metadata": {
  "kernelspec": {
   "display_name": "Python 3",
   "language": "python",
   "name": "python3"
  },
  "language_info": {
   "codemirror_mode": {
    "name": "ipython",
    "version": 3
   },
   "file_extension": ".py",
   "mimetype": "text/x-python",
   "name": "python",
   "nbconvert_exporter": "python",
   "pygments_lexer": "ipython3",
   "version": "3.7.7"
  }
 },
 "nbformat": 4,
 "nbformat_minor": 4
}
