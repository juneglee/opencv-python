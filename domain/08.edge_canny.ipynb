{
 "cells": [
  {
   "cell_type": "markdown",
   "metadata": {},
   "source": [
    "# 캐니 에지 검출 \n",
    "- 영상 내에서 잡음은 다른 부분과 경계를 이루는 경우가 많다. 대부분의 에지 검출 방법이 이 잡음들을 에지로 검출하게 된다. 이 문제를 해결하는 방법으로 캐니 에지 검출 기법이 있다 \n",
    "\n",
    "- 캐니 에지 알고리믄은 4단계의 알고리즘으로 구성되어 있다 \n",
    "    1. 블러링을 통한 노이즈 제거 (가우시안 블러링)\n",
    "    2. 화소 기울기 (gradiant)의 강도와 방향 검출(소벨 마스크)\n",
    "    3. 비최대치 억제 (non-maximum suppression)\n",
    "    4. 이력 임계값(hysteresis threshold)으로 에지 검출 "
   ]
  },
  {
   "cell_type": "code",
   "execution_count": 1,
   "metadata": {},
   "outputs": [],
   "source": [
    "import numpy as np, cv2"
   ]
  },
  {
   "cell_type": "code",
   "execution_count": 2,
   "metadata": {},
   "outputs": [],
   "source": [
    "def nonmax_suppression(sobel, direct):\n",
    "    rows, cols = sobel.shape[:2]\n",
    "    dst = np.zeros((rows, cols), np.float32)\n",
    "    for i in range(1, rows - 1):\n",
    "        for j in range(1, cols - 1):\n",
    "            # 행렬 처리를 통해 이웃 화소 가져오기\n",
    "            values = sobel[i-1:i+2, j-1:j+2].flatten()\n",
    "            first = [3, 0, 1, 2]\n",
    "            id = first[direct[i, j]]\n",
    "            v1, v2 = values[id], values[8-id]\n",
    "\n",
    "            ## if 문으로 이웃 화소 가져오기\n",
    "            # if direct[i, j] == 0: # 기울기 방향 0도\n",
    "            # v1, v2 = sobel[i, j–1], sobel[i, j+1]\n",
    "            # if direct[i, j] == 1: # 기울기 방향 45도\n",
    "            # v1, v2 = sobel[i–1, j–1], sobel[i+1, j+1]\n",
    "            # if direct[i, j] == 2: # 기울기 방향 90도\n",
    "            # v1, v2 = sobel[i–1, j], sobel[i+1, j]\n",
    "            # if direct[i, j] == 3 # 기울기 방향 135도\n",
    "            # v1, v2 = sobel[i+1, j–1], sobel[i–1, j+1]\n",
    "\n",
    "            dst[i, j] = sobel[i, j] if (v1 < sobel[i , j] > v2) else 0\n",
    "    return dst"
   ]
  },
  {
   "cell_type": "code",
   "execution_count": 3,
   "metadata": {},
   "outputs": [],
   "source": [
    "def trace(max_sobel, i, j, low):\n",
    "    h, w = max_sobel.shape\n",
    "    if (0 <= i < h and 0 <= j < w) == False: return  # 추적 화소 범위 확인\n",
    "    if pos_ck[i, j] == 0 and max_sobel[i, j] > low:\n",
    "        pos_ck[i, j] = 255\n",
    "        canny[i, j] = 255\n",
    "\n",
    "        trace(max_sobel, i - 1, j - 1, low)# 추적 함수 재귀 호출 - 8방향 추적\n",
    "        trace(max_sobel, i    , j - 1, low)\n",
    "        trace(max_sobel, i + 1, j - 1, low)\n",
    "        trace(max_sobel, i - 1, j    , low)\n",
    "        trace(max_sobel, i + 1, j    , low)\n",
    "        trace(max_sobel, i - 1, j + 1, low)\n",
    "        trace(max_sobel, i    , j + 1, low)\n",
    "        trace(max_sobel, i + 1, j + 1, low)"
   ]
  },
  {
   "cell_type": "code",
   "execution_count": 4,
   "metadata": {},
   "outputs": [],
   "source": [
    "def hysteresis_th(max_sobel, low, high):                # 이력 임계값 수행\n",
    "    rows, cols = max_sobel.shape[:2]\n",
    "    for i in range(1, rows - 1):  # 에지 영상 순회\n",
    "        for j in range(1, cols - 1):\n",
    "            if max_sobel[i, j] > high:  trace(max_sobel, i, j, low)  # 추적 시작"
   ]
  },
  {
   "cell_type": "code",
   "execution_count": 5,
   "metadata": {},
   "outputs": [],
   "source": [
    "image = cv2.imread(\"img/canny.jpg\", cv2.IMREAD_GRAYSCALE)\n",
    "if image is None: raise Exception(\"영상 파일 읽기 오류\")"
   ]
  },
  {
   "cell_type": "code",
   "execution_count": 6,
   "metadata": {},
   "outputs": [],
   "source": [
    "pos_ck = np.zeros(image.shape[:2], np.uint8)\n",
    "canny = np.zeros(image.shape[:2], np.uint8)"
   ]
  },
  {
   "cell_type": "code",
   "execution_count": 7,
   "metadata": {},
   "outputs": [],
   "source": [
    "# 사용자 정의 캐니 에지\n",
    "gaus_img = cv2.GaussianBlur(image, (5, 5), 0.3)\n",
    "Gx = cv2.Sobel(np.float32(gaus_img), cv2.CV_32F, 1, 0, 3)  # x방향 마스크\n",
    "Gy = cv2.Sobel(np.float32(gaus_img), cv2.CV_32F, 0, 1, 3)  # y방향 마스크\n",
    "sobel = np.fabs(Gx) + np.fabs(Gy)  # 두 행렬 절댓값 덧셈\n",
    "# sobel = cv2.magnitude(Gx, Gy)                            # 두 행렬 벡터 크기"
   ]
  },
  {
   "cell_type": "code",
   "execution_count": 9,
   "metadata": {},
   "outputs": [],
   "source": [
    "directs = cv2.phase(Gx, Gy) / (np.pi / 4)\n",
    "directs = directs.astype(int) % 4\n",
    "max_sobel = nonmax_suppression(sobel, directs)   # 비최대치 억제\n",
    "hysteresis_th(max_sobel, 100, 150)          # 이력 임계값\n",
    "\n",
    "canny2 = cv2.Canny(image, 100, 150)                 # OpenCV 캐니 에지"
   ]
  },
  {
   "cell_type": "code",
   "execution_count": 10,
   "metadata": {},
   "outputs": [
    {
     "data": {
      "text/plain": [
       "-1"
      ]
     },
     "execution_count": 10,
     "metadata": {},
     "output_type": "execute_result"
    }
   ],
   "source": [
    "cv2.imshow(\"image\", image)\n",
    "cv2.imshow(\"canny\", canny)                 # 사용자 정의 캐니\n",
    "cv2.imshow(\"OpenCV_Canny\", canny2)           # OpenCV 캐니 에지\n",
    "cv2.waitKey(0)"
   ]
  },
  {
   "cell_type": "markdown",
   "metadata": {},
   "source": [
    "![result](img/08_result.png)"
   ]
  },
  {
   "cell_type": "code",
   "execution_count": null,
   "metadata": {},
   "outputs": [],
   "source": []
  }
 ],
 "metadata": {
  "kernelspec": {
   "display_name": "Python 3",
   "language": "python",
   "name": "python3"
  },
  "language_info": {
   "codemirror_mode": {
    "name": "ipython",
    "version": 3
   },
   "file_extension": ".py",
   "mimetype": "text/x-python",
   "name": "python",
   "nbconvert_exporter": "python",
   "pygments_lexer": "ipython3",
   "version": "3.7.7"
  }
 },
 "nbformat": 4,
 "nbformat_minor": 4
}
