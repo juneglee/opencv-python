{
 "cells": [
  {
   "cell_type": "markdown",
   "id": "4209f0d3",
   "metadata": {},
   "source": [
    "# 성별 분류 알고리즘"
   ]
  },
  {
   "cell_type": "code",
   "execution_count": 3,
   "id": "667adb1a",
   "metadata": {},
   "outputs": [],
   "source": [
    "import cv2\n",
    "from header.utils import preprocessing,correct_image, detect_object\n",
    "from header.classify import classify, display\n",
    "from header.histogram import make_masks, calc_histo"
   ]
  },
  {
   "cell_type": "code",
   "execution_count": 4,
   "id": "35710bba",
   "metadata": {},
   "outputs": [],
   "source": [
    "face_cascade = cv2.CascadeClassifier(\"data/haarcascade_frontalface_alt2.xml\")  # 정면 검출기\n",
    "eye_cascade = cv2.CascadeClassifier(\"data/haarcascade_eye.xml\")  # 눈 검출기"
   ]
  },
  {
   "cell_type": "code",
   "execution_count": 6,
   "id": "db97f5e5",
   "metadata": {},
   "outputs": [
    {
     "name": "stdout",
     "output_type": "stream",
     "text": [
      "01g: Man - 유사도 [입술-얼굴: -0.020 윗-귀밑머리: -0.072]\n",
      "02g: Man - 유사도 [입술-얼굴: 0.089 윗-귀밑머리: 0.014]\n",
      "03g: Man - 유사도 [입술-얼굴: 0.236 윗-귀밑머리: -0.021]\n",
      "04g: Man - 유사도 [입술-얼굴: 0.292 윗-귀밑머리: -0.007]\n",
      "05g: Man - 유사도 [입술-얼굴: 0.150 윗-귀밑머리: 0.092]\n",
      "06g: Man - 유사도 [입술-얼굴: 0.279 윗-귀밑머리: 0.168]\n"
     ]
    }
   ],
   "source": [
    "no, max_no, cnt = 0, 60, 1\n",
    "while True:\n",
    "    no = no + cnt\n",
    "    image, gray = preprocessing(no)                             # 전처리 수행\n",
    "    if image is None:\n",
    "        print(\"%02d.jpg: 영상 파일 없음\" % no)\n",
    "        if no < 0 : no = max_no\n",
    "        elif no >= max_no: no = 0\n",
    "        continue\n",
    "\n",
    "    faces = face_cascade.detectMultiScale(gray, 1.1, 2, 0, (100, 100))\n",
    "    if faces.any():\n",
    "        x, y, w, h = faces[0]\n",
    "        face_image = image[y:y+h, x:x+w]  # 얼굴 영역 영상 가져오기\n",
    "        eyes = eye_cascade.detectMultiScale(face_image, 1.15, 7, 0, (25, 20))\n",
    "\n",
    "        if len(eyes) == 2:\n",
    "            face_center = (x + w // 2, y + h // 2)\n",
    "            eye_centers = [(x + ex + ew // 2, y + ey + eh // 2) for ex, ey, ew, eh in eyes]\n",
    "            corr_image, corr_centers = correct_image(image, face_center, eye_centers)  # 기울기 보정\n",
    "\n",
    "            sub_roi = detect_object(face_center, faces[0])      # 머리 및 입술영역 검출\n",
    "            masks = make_masks(sub_roi, corr_image.shape[:2])      # 4개 마스크 생성\n",
    "            sims = calc_histo(corr_image, sub_roi, masks)\t    # 4개 히스토그램 생성\n",
    "\n",
    "            classify(corr_image, sims, no)                        # 성별 분류 및 표시\n",
    "            display(corr_image, face_center, corr_centers, sub_roi) # 얼굴, 눈 표시\n",
    "        else: print(\"%02d.jpg: 눈 미검출\" % no)\n",
    "    else: print(\"%02d.jpg: 얼굴 미검출\" % no)\n",
    "\n",
    "    key = cv2.waitKeyEx(0)                          # 키 이벤트 대기\n",
    "    if key == 2490368: cnt =  1                # 윗쪽 화살표 키이면 다음 영상\n",
    "    elif key == 2621440: cnt = -1                  # 아래쪽 화살표 키이면 이전 영상\n",
    "    elif key == 32 or key == 27: break              # 프로그램 종료 조건"
   ]
  },
  {
   "cell_type": "markdown",
   "id": "f8236395",
   "metadata": {},
   "source": [
    "![reuslt](data/gender_result01.png)"
   ]
  },
  {
   "cell_type": "markdown",
   "id": "9acf1ed9",
   "metadata": {},
   "source": [
    "![reuslt](data/gender_result02.png)"
   ]
  },
  {
   "cell_type": "code",
   "execution_count": null,
   "id": "f7e8d440",
   "metadata": {},
   "outputs": [],
   "source": []
  }
 ],
 "metadata": {
  "kernelspec": {
   "display_name": "Python 3",
   "language": "python",
   "name": "python3"
  },
  "language_info": {
   "codemirror_mode": {
    "name": "ipython",
    "version": 3
   },
   "file_extension": ".py",
   "mimetype": "text/x-python",
   "name": "python",
   "nbconvert_exporter": "python",
   "pygments_lexer": "ipython3",
   "version": "3.7.7"
  }
 },
 "nbformat": 4,
 "nbformat_minor": 5
}
