{
 "cells": [
  {
   "cell_type": "markdown",
   "id": "e205e5f5",
   "metadata": {},
   "source": [
    "# 입술 영역 및 머리 영역 검출 "
   ]
  },
  {
   "cell_type": "code",
   "execution_count": 1,
   "id": "171a974e",
   "metadata": {},
   "outputs": [],
   "source": [
    "from header.utils import *                            # 전처리 및 영역 검출 함수 임포트"
   ]
  },
  {
   "cell_type": "code",
   "execution_count": 2,
   "id": "bdb2f652",
   "metadata": {},
   "outputs": [],
   "source": [
    "face_cascade = cv2.CascadeClassifier(\"data/haarcascade_frontalface_alt2.xml\")  # 정면 검출기\n",
    "eye_cascade = cv2.CascadeClassifier(\"data/haarcascade_eye.xml\")  # 눈 검출기\n",
    "image, gray = preprocessing(34)  # 전처리\n",
    "if image is None: raise Exception(\"영상 파일을 읽기 에러\")"
   ]
  },
  {
   "cell_type": "code",
   "execution_count": 3,
   "id": "f229dd65",
   "metadata": {},
   "outputs": [
    {
     "data": {
      "text/plain": [
       "-1"
      ]
     },
     "execution_count": 3,
     "metadata": {},
     "output_type": "execute_result"
    }
   ],
   "source": [
    "faces = face_cascade.detectMultiScale(gray, 1.1, 2, 0, (100, 100));  # 얼굴 검출\n",
    "\n",
    "if faces.any() :\n",
    "    x, y, w, h = faces[0]\n",
    "    face_image = image[y:y+h, x:x+w]  # 얼굴 영역 영상 가져오기\n",
    "    eyes = eye_cascade.detectMultiScale(face_image, 1.15, 7, 0, (25, 20))  # 눈 검출\n",
    "\n",
    "    if len(eyes) == 2:\n",
    "        face_center = (x + w//2, y + h//2)\n",
    "        eye_centers  = [[x+ex+ew//2, y+ey+eh//2] for ex,ey,ew,eh in eyes]\n",
    "        corr_image, corr_center = correct_image(image, face_center, eye_centers )  # 기울기 보정\n",
    "\n",
    "        rois = detect_object(face_center, faces[0])  # 머리 및 입술영역 검출\n",
    "\n",
    "        cv2.rectangle(corr_image, rois[0], (255, 0, 255), 2)\n",
    "        cv2.rectangle(corr_image, rois[1], (255, 0, 255), 2)\n",
    "        cv2.rectangle(corr_image, rois[2], (255, 0, 0), 2)\n",
    "        cv2.circle(corr_image, tuple(corr_center[0]), 5, (0, 255, 0), 2)\n",
    "        cv2.circle(corr_image, tuple(corr_center[1]), 5, (0, 255, 0), 2)\n",
    "        cv2.circle(corr_image, face_center, 3, (0, 0, 255), 2)\n",
    "        cv2.imshow(\"correct_image\", corr_image)\n",
    "    else:\n",
    "        print(\"눈 미검출\")\n",
    "else:\n",
    "    cv2.imshow(\"image\", image)\n",
    "cv2.waitKey(0)"
   ]
  },
  {
   "cell_type": "markdown",
   "id": "7bc4411d",
   "metadata": {},
   "source": [
    "![reuslt](data/detect_result.png)"
   ]
  },
  {
   "cell_type": "code",
   "execution_count": null,
   "id": "7fd940f8",
   "metadata": {},
   "outputs": [],
   "source": []
  }
 ],
 "metadata": {
  "kernelspec": {
   "display_name": "Python 3",
   "language": "python",
   "name": "python3"
  },
  "language_info": {
   "codemirror_mode": {
    "name": "ipython",
    "version": 3
   },
   "file_extension": ".py",
   "mimetype": "text/x-python",
   "name": "python",
   "nbconvert_exporter": "python",
   "pygments_lexer": "ipython3",
   "version": "3.7.7"
  }
 },
 "nbformat": 4,
 "nbformat_minor": 5
}
