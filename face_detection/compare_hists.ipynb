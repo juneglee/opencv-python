{
 "cells": [
  {
   "cell_type": "markdown",
   "id": "d076830c",
   "metadata": {},
   "source": [
    "# 영역별 유사도 계산 "
   ]
  },
  {
   "cell_type": "code",
   "execution_count": 1,
   "id": "c7f17a23",
   "metadata": {},
   "outputs": [],
   "source": [
    "from header.utils import *                   # 검출기 적재 및 전처리 함수\n",
    "from header.histogram import *                  # 히스토그램 비교 관련 함수"
   ]
  },
  {
   "cell_type": "code",
   "execution_count": 4,
   "id": "377c36b8",
   "metadata": {},
   "outputs": [],
   "source": [
    "face_cascade = cv2.CascadeClassifier(\"data/haarcascade_frontalface_alt2.xml\")  # 정면 검출기\n",
    "eye_cascade = cv2.CascadeClassifier(\"data/haarcascade_eye.xml\")  # 눈 검출기\n",
    "image, gray = preprocessing(34)  # 전처리\n",
    "if image is None: raise Exception(\"영상 파일을 읽기 에러\")"
   ]
  },
  {
   "cell_type": "code",
   "execution_count": 6,
   "id": "04fa7e50",
   "metadata": {},
   "outputs": [
    {
     "name": "stdout",
     "output_type": "stream",
     "text": [
      "입술-얼굴 유사도: 0.21\n",
      "윗-귀밑머리 유사도: 0.44\n"
     ]
    }
   ],
   "source": [
    "faces = face_cascade.detectMultiScale(gray, 1.1, 2, 0, (100, 100))  # 얼굴 검출\n",
    "if faces.any():\n",
    "    x, y, w, h = faces[0]\n",
    "    face_image = image[y:y + h, x:x + w]  # 얼굴 영역 영상 가져오기\n",
    "    eyes = eye_cascade.detectMultiScale(face_image, 1.15, 7, 0, (25, 20))  # 눈 검출\n",
    "\n",
    "    if len(eyes) == 2:\n",
    "        face_center = (x + w // 2, y + h // 2)\n",
    "        eye_centers = [(x + ex + ew // 2, y + ey + eh // 2) for ex, ey, ew, eh in eyes]\n",
    "        corr_image, corr_center = correct_image(image, face_center, eye_centers)  # 기울기 보정\n",
    "\n",
    "        rois = detect_object(face_center, faces[0])  # 머리 및 입술영역 검출\n",
    "        masks = make_masks(rois, corr_image.shape[:2])  # 4개 마스크 생성\n",
    "        sim = calc_histo(corr_image, rois, masks)  # 4개 히스토그램 생성\n",
    "\n",
    "        print(\"입술-얼굴 유사도: %4.2f\" % sim[0])\n",
    "        print(\"윗-귀밑머리 유사도: %4.2f\" % sim[1])\n",
    "    else:\n",
    "        print(\"눈 미검출\")\n",
    "else:\n",
    "    print(\"얼굴 미검출\")"
   ]
  },
  {
   "cell_type": "code",
   "execution_count": null,
   "id": "1095c9c9",
   "metadata": {},
   "outputs": [],
   "source": []
  }
 ],
 "metadata": {
  "kernelspec": {
   "display_name": "Python 3",
   "language": "python",
   "name": "python3"
  },
  "language_info": {
   "codemirror_mode": {
    "name": "ipython",
    "version": 3
   },
   "file_extension": ".py",
   "mimetype": "text/x-python",
   "name": "python",
   "nbconvert_exporter": "python",
   "pygments_lexer": "ipython3",
   "version": "3.7.7"
  }
 },
 "nbformat": 4,
 "nbformat_minor": 5
}
