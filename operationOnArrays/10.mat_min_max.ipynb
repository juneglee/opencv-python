{
 "cells": [
  {
   "cell_type": "markdown",
   "metadata": {},
   "source": [
    "# 원소의 최솟값과 최댓값"
   ]
  },
  {
   "cell_type": "markdown",
   "metadata": {},
   "source": [
    "- cv2.min(src1, scr2[, dst]) : 두 입력 배열의 원소 간 비교하여 적은 값을 출력 배열로 반환\n",
    "- cv2.max(src1, scr2[, dst]) : 두 입력 배열의 원소 간 비교하여 큰 값을 배열로 반환 \n",
    "- cv2.minMaxLoc(src[, mask]) : 입력 배열에서 최솟값과 최댓값, 최솟값과 최댓값을 갖는 원소 위치를 반환 \n",
    "    - scr : 입력 배열\n",
    "    - minVal, maxVal : 최솟값, 최댓값\n",
    "    - minLoc, maxLoc : 최솟값, 최댓값을 갖는 원소 위치(정수형 튜플)"
   ]
  },
  {
   "cell_type": "code",
   "execution_count": 1,
   "metadata": {},
   "outputs": [],
   "source": [
    "import numpy as np, cv2"
   ]
  },
  {
   "cell_type": "code",
   "execution_count": 2,
   "metadata": {},
   "outputs": [],
   "source": [
    "data = [10, 200, 5 , 7 ,  9,\n",
    "        15, 35 , 60, 80, 170,\n",
    "        100, 2 , 55, 37, 70]\n",
    "m1 = np.reshape(data, (3, 5))   # 리스트를 행태변환하여 행렬 생성\n",
    "m2 = np.full((3, 5), 50)              # 원소값 50인 행렬 생성\n",
    "\n",
    "m_min = cv2.min(m1, 30)                  # 두 행렬 원소 간 최솟값을 행렬로 저장\n",
    "m_max = cv2.max(m1, m2)                  # 두 행렬 최댓값 계산\n"
   ]
  },
  {
   "cell_type": "code",
   "execution_count": 4,
   "metadata": {},
   "outputs": [
    {
     "name": "stdout",
     "output_type": "stream",
     "text": [
      "[m1] = \n",
      "[[ 10 200   5   7   9]\n",
      " [ 15  35  60  80 170]\n",
      " [100   2  55  37  70]]\n",
      "\n",
      "[m_min] = \n",
      "[[10 30  5  7  9]\n",
      " [15 30 30 30 30]\n",
      " [30  2 30 30 30]]\n",
      "\n",
      "[m_max] = \n",
      "[[ 50 200  50  50  50]\n",
      " [ 50  50  60  80 170]\n",
      " [100  50  55  50  70]]\n",
      "\n"
     ]
    }
   ],
   "source": [
    "## 행렬의 최솟값/최댓값과 그 좌표들을 반환\n",
    "min_val, max_val, min_loc, max_loc = cv2.minMaxLoc(m1)\n",
    "\n",
    "print(\"[m1] = \\n%s\\n\" % m1)\n",
    "print(\"[m_min] = \\n%s\\n\" % m_min)\n",
    "print(\"[m_max] = \\n%s\\n\" % m_max)\n"
   ]
  },
  {
   "cell_type": "code",
   "execution_count": 5,
   "metadata": {},
   "outputs": [
    {
     "name": "stdout",
     "output_type": "stream",
     "text": [
      "m1 행렬 최솟값 좌표 (1, 2), 최솟값: 2\n",
      "m1 행렬 최댓값 좌표 (1, 0), 최댓값: 200\n"
     ]
    }
   ],
   "source": [
    "# min_loc와 max_loc 좌표는 (y, x)이므로 행렬의 좌표 위차와 반대임\n",
    "print(\"m1 행렬 최솟값 좌표 %s, 최솟값: %d\" %(min_loc, min_val) )\n",
    "print(\"m1 행렬 최댓값 좌표 %s, 최댓값: %d\" %(max_loc, max_val) )"
   ]
  },
  {
   "cell_type": "code",
   "execution_count": null,
   "metadata": {},
   "outputs": [],
   "source": []
  }
 ],
 "metadata": {
  "kernelspec": {
   "display_name": "Python 3",
   "language": "python",
   "name": "python3"
  },
  "language_info": {
   "codemirror_mode": {
    "name": "ipython",
    "version": 3
   },
   "file_extension": ".py",
   "mimetype": "text/x-python",
   "name": "python",
   "nbconvert_exporter": "python",
   "pygments_lexer": "ipython3",
   "version": "3.7.7"
  }
 },
 "nbformat": 4,
 "nbformat_minor": 4
}
