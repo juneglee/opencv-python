{
 "cells": [
  {
   "cell_type": "markdown",
   "metadata": {},
   "source": [
    "# 통계 관련 함수"
   ]
  },
  {
   "cell_type": "markdown",
   "metadata": {},
   "source": [
    "- cv2.sumElems(src) : 배열의 각 채널별로 원소들의 합 N을 계산"
   ]
  },
  {
   "cell_type": "markdown",
   "metadata": {},
   "source": [
    "- cv2.mean(src[, mask]) : 배열의 각 채널별로 원소들의 평균을 계산\n",
    "    - mask : 연산 마스크- 마스크가 0이 아닌 좌표만 연산 수행 "
   ]
  },
  {
   "cell_type": "markdown",
   "metadata": {},
   "source": [
    "- cv2.meanStdDev(src[, mean[, stddev[, mask]]]) : 배열 원소들의 평균과 표준편차를 계산\n",
    "    - src 1개에서 4개 채널을 갖는 입력 배열\n",
    "    - mean : 계산된 평균이 반환되는 출력 인수, np.float64형으로 반환 \n",
    "    - stddev : 계산된 표준편차가 반환되는 출력 인수, np.float64형으로 반환\n",
    "    - mask : 연산 마스크- 마스크가 0이 아닌 좌표만 연산 수행 "
   ]
  },
  {
   "cell_type": "markdown",
   "metadata": {},
   "source": [
    "- cv2.countNonZero(src) : 0이 아닌 배열 원소를 개수 N을 반환 "
   ]
  },
  {
   "cell_type": "markdown",
   "metadata": {},
   "source": [
    "- cv2.reduce(src, dim, rtype[, dst[, dtype]]) : 행렬을 열방향/행방향으로 옵션 상수 (rtype)에 따라 축소)\n",
    "    - src : 2차원 입력 배열 (np.float32형, np.float64형만 수행 가능)\n",
    "    - dst : 출력벡터, 감소 방향과 타입은 dim, dtype 인수에 따라 정해짐\n",
    "    - dim : 행렬이 축소될 대 차원 감소 첨자 \n",
    "        - 0 : 열 방향으로 연산하여 1행으로 축소\n",
    "        - 1 : 행 방향으로 연산하여 1열으로 감소 \n",
    "    - dtpye : 감소된 백터의 자료형\n",
    "    - rtype : 축소 연산 \n",
    "    \n",
    "| 옵션 상수 | 값 | 설명 |\n",
    "|:------|:-- |:------|\n",
    "| cv2.REDUCE_SUM | 0 | 행렬의 모든 행(열) 들을 합 |\n",
    "| cv2.REDUCE_AVG | 1 | 행렬의 모든 행(열) 들을 평균 |\n",
    "| cv2.REDUCE_MAX | 2 | 행렬의 모든 행(열) 들을 최댓값 |\n",
    "| cv2.REDUCE_MIN | 3 | 행렬의 모든 행(열) 들을 최솟값 |\n"
   ]
  },
  {
   "cell_type": "markdown",
   "metadata": {},
   "source": [
    "- cv2.sort(src, flag[, dst]) : 행렬의 각 행 혹은 각 열의 방향으로 정렬\n",
    "    - src : 단일 채널 입력 배열\n",
    "    - dst : 정렬된 출력 배열\n",
    "    - flag : 연산 플래그 \n",
    "\n",
    "| 옵션 상수 | 값 | 설명 |\n",
    "|:------|:-- |:------|\n",
    "| cv2.SORT_EVERY_ROW | 0 | 각 행을 독립적으로 정렬 |\n",
    "| cv2.SORT_EVERY_COLUMN | 1 | 각 열을 독립적으로 정렬 |\n",
    "| cv2.SORT_ASCENDING | 0 | 오름차순으로 정렬 |\n",
    "| cv2.SORT_DESCENDING | 16 | 내림차순으로 정렬 |"
   ]
  },
  {
   "cell_type": "markdown",
   "metadata": {},
   "source": [
    "- cv2.sortldx(src, flags[, dst]) : 행렬의 각 행 혹은 각 열로 적렬한다. 출력배열(dst)에 정렬된 원소는 첨자들을 저장한다 "
   ]
  },
  {
   "cell_type": "code",
   "execution_count": null,
   "metadata": {},
   "outputs": [],
   "source": []
  }
 ],
 "metadata": {
  "kernelspec": {
   "display_name": "Python 3",
   "language": "python",
   "name": "python3"
  },
  "language_info": {
   "codemirror_mode": {
    "name": "ipython",
    "version": 3
   },
   "file_extension": ".py",
   "mimetype": "text/x-python",
   "name": "python",
   "nbconvert_exporter": "python",
   "pygments_lexer": "ipython3",
   "version": "3.7.7"
  }
 },
 "nbformat": 4,
 "nbformat_minor": 4
}
