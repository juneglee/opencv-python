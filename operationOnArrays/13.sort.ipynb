{
 "cells": [
  {
   "cell_type": "markdown",
   "metadata": {},
   "source": [
    "# 행렬 원소 정렬"
   ]
  },
  {
   "cell_type": "code",
   "execution_count": 1,
   "metadata": {},
   "outputs": [],
   "source": [
    "import numpy as np, cv2"
   ]
  },
  {
   "cell_type": "code",
   "execution_count": 2,
   "metadata": {},
   "outputs": [],
   "source": [
    "m = np.random.randint(0,100, 15).reshape(3,5)           # 임의 난수 생성\n",
    "# 행렬 원소 정렬\n",
    "sort1 = cv2.sort(m, cv2.SORT_EVERY_ROW)                       # 행단위 오름차순\n",
    "sort2 = cv2.sort(m, cv2.SORT_EVERY_COLUMN)                    # 열단위(세로) 오름차순\n",
    "sort3 = cv2.sort(m, cv2.SORT_EVERY_ROW + cv2.SORT_DESCENDING) # 행단위(가로) 내림차순\n",
    "sort4 = np.sort(m, axis=1)                                      # 세로축 정렬\n",
    "sort5 = np.sort(m, axis=0)                                      # 가로축 정렬\n",
    "sort6 = np.sort(m, axis=1)[:, ::-1]                             # 가로축 내림차순 정렬\n"
   ]
  },
  {
   "cell_type": "code",
   "execution_count": 3,
   "metadata": {},
   "outputs": [
    {
     "name": "stdout",
     "output_type": "stream",
     "text": [
      "[m] = \n",
      "[[72  0  6 70 75]\n",
      " [90 45 53 80 26]\n",
      " [83 17 51 67 13]]\n",
      "\n",
      "[sort1] = \n",
      "[[ 0  6 70 72 75]\n",
      " [26 45 53 80 90]\n",
      " [13 17 51 67 83]]\n",
      "\n",
      "[sort2] = \n",
      "[[72  0  6 67 13]\n",
      " [83 17 51 70 26]\n",
      " [90 45 53 80 75]]\n",
      "\n",
      "[sort3] = \n",
      "[[75 72 70  6  0]\n",
      " [90 80 53 45 26]\n",
      " [83 67 51 17 13]]\n",
      "\n",
      "[sort4] = \n",
      "[[ 0  6 70 72 75]\n",
      " [26 45 53 80 90]\n",
      " [13 17 51 67 83]]\n",
      "\n",
      "[sort5] = \n",
      "[[72  0  6 67 13]\n",
      " [83 17 51 70 26]\n",
      " [90 45 53 80 75]]\n",
      "\n",
      "[sort6] = \n",
      "[[75 72 70  6  0]\n",
      " [90 80 53 45 26]\n",
      " [83 67 51 17 13]]\n",
      "\n"
     ]
    }
   ],
   "source": [
    "titles= ['m','sort1','sort2','sort3','sort4','sort5', 'sort6']\n",
    "for title in titles:\n",
    "        print(\"[%s] = \\n%s\\n\" %(title, eval(title)))\n"
   ]
  },
  {
   "cell_type": "code",
   "execution_count": null,
   "metadata": {},
   "outputs": [],
   "source": []
  }
 ],
 "metadata": {
  "kernelspec": {
   "display_name": "Python 3",
   "language": "python",
   "name": "python3"
  },
  "language_info": {
   "codemirror_mode": {
    "name": "ipython",
    "version": 3
   },
   "file_extension": ".py",
   "mimetype": "text/x-python",
   "name": "python",
   "nbconvert_exporter": "python",
   "pygments_lexer": "ipython3",
   "version": "3.7.7"
  }
 },
 "nbformat": 4,
 "nbformat_minor": 4
}
