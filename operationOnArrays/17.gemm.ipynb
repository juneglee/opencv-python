{
 "cells": [
  {
   "cell_type": "markdown",
   "metadata": {},
   "source": [
    "# 행렬 연산 함수"
   ]
  },
  {
   "cell_type": "markdown",
   "metadata": {},
   "source": [
    "- cv2.gemm(src1, src2, alpha, src3, beta[, dst[, flags]]) : 일반화된 행렬 곱셈을 수행\n",
    "    - scr1, src2 : 행렬 곱을 위한 두 입력 행렬(np.float32/np.float64형 2채널까지 가능)\n",
    "    - alpha : 행렬 곱에 대한 가중치 \n",
    "    - src3 : 행렬 곱에 더해지는 델타 행렬 \n",
    "    - beta : src3 행렬에 곱해지는 가중치 \n",
    "    - flags : 연산 플래그 - 옵션을 조합하여 입력 행렬들을 전치 \n",
    "\n",
    "| 옵션 | 값 | 설명 |\n",
    "|:------|:------|:------|\n",
    "| cv2.GEMM_1_T | 1 | src1을 전치 |\n",
    "| cv2.GEMM_2_T | 2 | src2을 전치 |\n",
    "| cv2.GEMM_3_T | 4 | src3을 전치 |\n"
   ]
  },
  {
   "cell_type": "markdown",
   "metadata": {},
   "source": [
    "- cv2.perspectiveTransform(src, m[, dst]) : 입력 베터들에 대해서 투영 (perspective) 변환 m을 수행\n",
    "    - src : 좌표로 변환될 2채널 혹은 3채널의 부동 소수점 배열\n",
    "    - dst : src 와 같은 크기와 타입의 출력 배열\n",
    "    - m : 3x3 혹은 4x4 부동소수점의 투영 변환 행렬 "
   ]
  },
  {
   "cell_type": "code",
   "execution_count": 1,
   "metadata": {},
   "outputs": [],
   "source": [
    "import numpy as np, cv2"
   ]
  },
  {
   "cell_type": "code",
   "execution_count": 2,
   "metadata": {},
   "outputs": [],
   "source": [
    "src1 = np.array([1, 2, 3, 1, 2, 3], np.float32).reshape(2, 3) # 2x3 행렬 선언\n",
    "src2 = np.array([1, 2, 3, 4, 5, 6], np.float32).reshape(2, 3)\n",
    "src3 = np.array([1, 2, 1, 2, 1, 2], np.float32).reshape(3, 2) # 3x2 행렬 선언\n",
    "alpha, beta = 1.0, 1.0"
   ]
  },
  {
   "cell_type": "code",
   "execution_count": 3,
   "metadata": {},
   "outputs": [],
   "source": [
    "dst1 = cv2.gemm(src1, src2, alpha, None, beta, flags=cv2.GEMM_1_T)\n",
    "dst2 = cv2.gemm(src1, src2, alpha, None, beta, flags=cv2.GEMM_2_T)\n",
    "dst3 = cv2.gemm(src1, src3, alpha, None, beta)"
   ]
  },
  {
   "cell_type": "code",
   "execution_count": 4,
   "metadata": {},
   "outputs": [
    {
     "name": "stdout",
     "output_type": "stream",
     "text": [
      "[src1] = \n",
      "[[1. 2. 3.]\n",
      " [1. 2. 3.]]\n",
      "\n",
      "[src1] = \n",
      "[[1. 2. 3.]\n",
      " [1. 2. 3.]]\n",
      "\n",
      "[src1] = \n",
      "[[1. 2. 3.]\n",
      " [1. 2. 3.]]\n",
      "\n",
      "[dst1] = \n",
      "[[ 5.  7.  9.]\n",
      " [10. 14. 18.]\n",
      " [15. 21. 27.]]\n",
      "\n",
      "[dst2] = \n",
      "[[14. 32.]\n",
      " [14. 32.]]\n",
      "\n",
      "[dst3] = \n",
      "[[ 6. 12.]\n",
      " [ 6. 12.]]\n",
      "\n"
     ]
    }
   ],
   "source": [
    "titles = ['src1','src1','src1','dst1','dst2','dst3']\n",
    "for title in titles:\n",
    "    print(\"[%s] = \\n%s\\n\" % (title, eval(title)))"
   ]
  },
  {
   "cell_type": "code",
   "execution_count": null,
   "metadata": {},
   "outputs": [],
   "source": []
  }
 ],
 "metadata": {
  "kernelspec": {
   "display_name": "Python 3",
   "language": "python",
   "name": "python3"
  },
  "language_info": {
   "codemirror_mode": {
    "name": "ipython",
    "version": 3
   },
   "file_extension": ".py",
   "mimetype": "text/x-python",
   "name": "python",
   "nbconvert_exporter": "python",
   "pygments_lexer": "ipython3",
   "version": "3.7.7"
  }
 },
 "nbformat": 4,
 "nbformat_minor": 4
}
