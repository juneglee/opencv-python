{
 "cells": [
  {
   "cell_type": "markdown",
   "metadata": {},
   "source": [
    "# 정렬 인덱스 반환"
   ]
  },
  {
   "cell_type": "code",
   "execution_count": 1,
   "metadata": {},
   "outputs": [],
   "source": [
    "import numpy as np, cv2"
   ]
  },
  {
   "cell_type": "code",
   "execution_count": 2,
   "metadata": {},
   "outputs": [],
   "source": [
    "m = np.random.randint(0,100, 15).reshape(3,5)           # 임의 난수 생성\n",
    "\n",
    "m_sort1 = cv2.sortIdx(m, cv2.SORT_EVERY_ROW)        # 행렬 원소의 원본 좌표\n",
    "m_sort2 = cv2.sortIdx(m, cv2.SORT_EVERY_COLUMN)\n",
    "m_sort3 = np.argsort(m, axis=0)                         # 세로축 정렬\n"
   ]
  },
  {
   "cell_type": "code",
   "execution_count": 3,
   "metadata": {},
   "outputs": [
    {
     "name": "stdout",
     "output_type": "stream",
     "text": [
      "[m1] = \n",
      "[[10 31 46 87 84]\n",
      " [43 47 29 43 23]\n",
      " [61 35 76 45 66]]\n",
      "\n",
      "[m_sort1] = \n",
      "[[0 1 2 4 3]\n",
      " [4 2 0 3 1]\n",
      " [1 3 0 4 2]]\n",
      "\n",
      "[m_sort2] = \n",
      "[[0 0 1 1 1]\n",
      " [1 2 0 2 2]\n",
      " [2 1 2 0 0]]\n",
      "\n",
      "[m_sort3] = \n",
      "[[0 0 1 1 1]\n",
      " [1 2 0 2 2]\n",
      " [2 1 2 0 0]]\n",
      "\n"
     ]
    }
   ],
   "source": [
    "print(\"[m1] = \\n%s\\n\" % m)\n",
    "print(\"[m_sort1] = \\n%s\\n\" % m_sort1)\n",
    "print(\"[m_sort2] = \\n%s\\n\" % m_sort2)\n",
    "print(\"[m_sort3] = \\n%s\\n\" % m_sort3)\n"
   ]
  },
  {
   "cell_type": "code",
   "execution_count": null,
   "metadata": {},
   "outputs": [],
   "source": []
  }
 ],
 "metadata": {
  "kernelspec": {
   "display_name": "Python 3",
   "language": "python",
   "name": "python3"
  },
  "language_info": {
   "codemirror_mode": {
    "name": "ipython",
    "version": 3
   },
   "file_extension": ".py",
   "mimetype": "text/x-python",
   "name": "python",
   "nbconvert_exporter": "python",
   "pygments_lexer": "ipython3",
   "version": "3.7.7"
  }
 },
 "nbformat": 4,
 "nbformat_minor": 4
}
