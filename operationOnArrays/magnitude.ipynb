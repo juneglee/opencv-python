{
 "cells": [
  {
   "cell_type": "markdown",
   "metadata": {},
   "source": [
    "# 행렬 크기 및 위상 연산"
   ]
  },
  {
   "cell_type": "code",
   "execution_count": 1,
   "metadata": {},
   "outputs": [],
   "source": [
    "import numpy as np, cv2"
   ]
  },
  {
   "cell_type": "code",
   "execution_count": 2,
   "metadata": {},
   "outputs": [],
   "source": [
    "x = np.array([1, 2, 3, 5, 10], np.float32)            # 리스트를 numpy array로 변환\n",
    "y = np.array([2, 5, 7, 2, 9]).astype(\"float32\")\n"
   ]
  },
  {
   "cell_type": "code",
   "execution_count": 3,
   "metadata": {},
   "outputs": [],
   "source": [
    "mag = cv2.magnitude(x, y)                   # 크기 계산\n",
    "ang = cv2.phase(x, y)                       # 각도(방향) 계산\n",
    "p_mag, p_ang  = cv2.cartToPolar(x, y)  # 극좌표로 변환\n",
    "x2, y2 = cv2.polarToCart(p_mag, p_ang)  # 직교좌표로 변한"
   ]
  },
  {
   "cell_type": "code",
   "execution_count": 4,
   "metadata": {},
   "outputs": [
    {
     "name": "stdout",
     "output_type": "stream",
     "text": [
      "[x] 형태: (5,) 원소: [ 1.  2.  3.  5. 10.]\n",
      "[mag] 형태: (5, 1) 원소: [[ 2.236068 ]\n",
      " [ 5.3851647]\n",
      " [ 7.6157737]\n",
      " [ 5.3851647]\n",
      " [13.453624 ]]\n"
     ]
    }
   ],
   "source": [
    "print(\"[x] 형태: %s 원소: %s\" % ( x.shape, x))\n",
    "print(\"[mag] 형태: %s 원소: %s\" % ( mag.shape, mag))"
   ]
  },
  {
   "cell_type": "code",
   "execution_count": 5,
   "metadata": {},
   "outputs": [
    {
     "name": "stdout",
     "output_type": "stream",
     "text": [
      ">>>열벡터를 1행에 출력하는 방법\n",
      "[m_mag] = [[ 2.236068   5.3851647  7.6157737  5.3851647 13.453624 ]]\n",
      "[p_mag] = [ 2.236068   5.3851647  7.6157737  5.3851647 13.453624 ]\n",
      "[p_ang] = [1.1071129 1.1902124 1.1658309 0.3805839 0.7329612]\n",
      "[x_mat2] = [1.0000718 2.000388  3.000516  4.999845  9.998684 ]\n",
      "[y_mat2] = [1.9999641 4.9998446 6.999779  2.0003877 9.00146  ]\n"
     ]
    }
   ],
   "source": [
    "print(\">>>열벡터를 1행에 출력하는 방법\")\n",
    "print(\"[m_mag] = %s\" % mag.T)\n",
    "print(\"[p_mag] = %s\" % np.ravel(p_mag))\n",
    "print(\"[p_ang] = %s\" % np.ravel(p_ang))\n",
    "print(\"[x_mat2] = %s\" % x2.flatten())\n",
    "print(\"[y_mat2] = %s\" % y2.flatten())"
   ]
  },
  {
   "cell_type": "code",
   "execution_count": null,
   "metadata": {},
   "outputs": [],
   "source": []
  }
 ],
 "metadata": {
  "kernelspec": {
   "display_name": "Python 3",
   "language": "python",
   "name": "python3"
  },
  "language_info": {
   "codemirror_mode": {
    "name": "ipython",
    "version": 3
   },
   "file_extension": ".py",
   "mimetype": "text/x-python",
   "name": "python",
   "nbconvert_exporter": "python",
   "pygments_lexer": "ipython3",
   "version": "3.7.7"
  }
 },
 "nbformat": 4,
 "nbformat_minor": 4
}
