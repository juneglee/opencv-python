{
 "cells": [
  {
   "cell_type": "markdown",
   "metadata": {},
   "source": [
    "# 원소의 절댓값 연산"
   ]
  },
  {
   "cell_type": "markdown",
   "metadata": {},
   "source": [
    "- cv2.absdiff(src1, src2[, dst]) : 두 배열간 각 원소간 차분 절댓값을 게산한다 \n",
    "- cv2.convertScaleAbs(src[, dst[, alpha[, beta]]]) : 입력 배열의 각 원소에 alpha 만큼 배율을 곱하고 beta 만큼 더한 후에 절댓밧을 계산한 결과를 8비트 자료형으로 변환\n",
    "    - alpha : 입력 배열의 각 원소에 곱해지는 스케일 팩터(scale factor)\n",
    "    - beta : 스케일 된 값에 더해지는 델타 옵션 \n"
   ]
  },
  {
   "cell_type": "code",
   "execution_count": 2,
   "metadata": {},
   "outputs": [],
   "source": [
    "import numpy as np, cv2"
   ]
  },
  {
   "cell_type": "code",
   "execution_count": 3,
   "metadata": {},
   "outputs": [],
   "source": [
    "image1 = cv2.imread(\"img/abs_test1.jpg\", cv2.IMREAD_GRAYSCALE) # 명암도 영상 읽기\n",
    "image2 = cv2.imread(\"img/abs_test2.jpg\", cv2.IMREAD_GRAYSCALE)\n",
    "if image1 is None or image2 is None: raise Exception(\"영상 파일 읽기 오류 발생\")"
   ]
  },
  {
   "cell_type": "code",
   "execution_count": 4,
   "metadata": {},
   "outputs": [],
   "source": [
    "dif_img1 = cv2.subtract(image1, image2)                     # 차분 연산\n",
    "dif_img2 = cv2.subtract(np.int16(image1), np.int16(image2)) # 음수 보전 위해\n",
    "abs_dif1 = np.absolute(dif_img2).astype('uint8')\n",
    "abs_dif2 = cv2.absdiff(image1, image2)              # 차분 절댓값 계산\n"
   ]
  },
  {
   "cell_type": "code",
   "execution_count": 5,
   "metadata": {},
   "outputs": [
    {
     "name": "stdout",
     "output_type": "stream",
     "text": [
      "[dif_img1(roi) uint8] = \n",
      "[[ 0  0  0  0  9 12  7]\n",
      " [ 0  0  0  0  4  9  3]\n",
      " [ 0  0  0 15  0  4  0]]\n",
      "\n",
      "[dif_img2(roi) int16]  = \n",
      "[[-100 -106  -80   -6    9   12    7]\n",
      " [-105 -109  -72   -4    4    9    3]\n",
      " [-106 -109  -58   15   -1    4    0]]\n",
      "\n",
      "[abs_dif1(roi)] = \n",
      "[[100 106  80   6   9  12   7]\n",
      " [105 109  72   4   4   9   3]\n",
      " [106 109  58  15   1   4   0]]\n",
      "\n",
      "[abs_dif2(roi)] = \n",
      "[[100 106  80   6   9  12   7]\n",
      " [105 109  72   4   4   9   3]\n",
      " [106 109  58  15   1   4   0]]\n",
      "\n"
     ]
    }
   ],
   "source": [
    "x, y, w, h = 100, 100, 7, 3\n",
    "print(\"[dif_img1(roi) uint8] = \\n%s\\n\" % dif_img1[y:y+h, x:x+w])\n",
    "print(\"[dif_img2(roi) int16]  = \\n%s\\n\"  % dif_img2[y:y+h, x:x+w])\n",
    "print(\"[abs_dif1(roi)] = \\n%s\\n\" % abs_dif1[y:y+h, x:x+w])\n",
    "print(\"[abs_dif2(roi)] = \\n%s\\n\" % abs_dif2[y:y+h, x:x+w])\n"
   ]
  },
  {
   "cell_type": "code",
   "execution_count": 6,
   "metadata": {},
   "outputs": [
    {
     "data": {
      "text/plain": [
       "-1"
      ]
     },
     "execution_count": 6,
     "metadata": {},
     "output_type": "execute_result"
    }
   ],
   "source": [
    "titles = ['image1', 'image2', 'dif_img1', 'abs_dif1','abs_dif2']\n",
    "for title in titles:\n",
    "    cv2.imshow(title, eval(title))\n",
    "cv2.waitKey(0)"
   ]
  },
  {
   "cell_type": "markdown",
   "metadata": {},
   "source": [
    "![reulst](img/10_result.png)"
   ]
  },
  {
   "cell_type": "code",
   "execution_count": null,
   "metadata": {},
   "outputs": [],
   "source": []
  }
 ],
 "metadata": {
  "kernelspec": {
   "display_name": "Python 3",
   "language": "python",
   "name": "python3"
  },
  "language_info": {
   "codemirror_mode": {
    "name": "ipython",
    "version": 3
   },
   "file_extension": ".py",
   "mimetype": "text/x-python",
   "name": "python",
   "nbconvert_exporter": "python",
   "pygments_lexer": "ipython3",
   "version": "3.7.7"
  }
 },
 "nbformat": 4,
 "nbformat_minor": 4
}
