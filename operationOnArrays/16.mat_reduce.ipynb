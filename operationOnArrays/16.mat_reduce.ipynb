{
 "cells": [
  {
   "cell_type": "markdown",
   "metadata": {},
   "source": [
    "# 행렬 축소 연산"
   ]
  },
  {
   "cell_type": "code",
   "execution_count": 1,
   "metadata": {},
   "outputs": [],
   "source": [
    "import numpy as np, cv2"
   ]
  },
  {
   "cell_type": "code",
   "execution_count": 2,
   "metadata": {},
   "outputs": [],
   "source": [
    "m = np.random.rand(3,5) * 1000//10\n",
    "\n",
    "reduce_sum = cv2.reduce(m, dim=0, rtype=cv2.REDUCE_SUM) # 0 - 열방향 축소\n",
    "reduce_avg = cv2.reduce(m, dim=1, rtype=cv2.REDUCE_AVG) # 1 - 행방향 축소\n",
    "reduce_max = cv2.reduce(m, dim=0, rtype=cv2.REDUCE_MAX)\n",
    "reduce_min = cv2.reduce(m, dim=1, rtype=cv2.REDUCE_MIN)"
   ]
  },
  {
   "cell_type": "code",
   "execution_count": 3,
   "metadata": {},
   "outputs": [
    {
     "name": "stdout",
     "output_type": "stream",
     "text": [
      "[m1] = \n",
      "[[78. 19. 51. 55.  2.]\n",
      " [11. 44. 70. 71. 55.]\n",
      " [45. 77. 16. 63. 45.]]\n",
      "\n",
      "[m_reduce_sum] = [134. 140. 137. 189. 102.]\n",
      "[m_reduce_avg] = [41.  50.2 49.2]\n",
      "[m_reduce_max] = [78. 77. 70. 71. 55.]\n",
      "[m_reduce_min] = [ 2. 11. 16.]\n"
     ]
    }
   ],
   "source": [
    "print(\"[m1] = \\n%s\\n\" %m)\n",
    "print(\"[m_reduce_sum] =\", reduce_sum.flatten())\n",
    "print(\"[m_reduce_avg] =\", reduce_avg.flatten())\n",
    "print(\"[m_reduce_max] =\", reduce_max.flatten())\n",
    "print(\"[m_reduce_min] =\", reduce_min.flatten())\n"
   ]
  },
  {
   "cell_type": "code",
   "execution_count": null,
   "metadata": {},
   "outputs": [],
   "source": []
  }
 ],
 "metadata": {
  "kernelspec": {
   "display_name": "Python 3",
   "language": "python",
   "name": "python3"
  },
  "language_info": {
   "codemirror_mode": {
    "name": "ipython",
    "version": 3
   },
   "file_extension": ".py",
   "mimetype": "text/x-python",
   "name": "python",
   "nbconvert_exporter": "python",
   "pygments_lexer": "ipython3",
   "version": "3.7.7"
  }
 },
 "nbformat": 4,
 "nbformat_minor": 4
}
