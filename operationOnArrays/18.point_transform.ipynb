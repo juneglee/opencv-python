{
 "cells": [
  {
   "cell_type": "markdown",
   "metadata": {},
   "source": [
    "# gemm을 이용한 회전 변환"
   ]
  },
  {
   "cell_type": "code",
   "execution_count": 1,
   "metadata": {},
   "outputs": [],
   "source": [
    "import numpy as np, cv2"
   ]
  },
  {
   "cell_type": "code",
   "execution_count": 2,
   "metadata": {},
   "outputs": [],
   "source": [
    "theta = 20 * np.pi / 180                        # 회전할 라디안 각도 계산\n",
    "rot_mat = np.array([[np.cos(theta), -np.sin(theta)],\n",
    "                    [np.sin(theta),  np.cos(theta)]] , np.float32)            # 넘파이 행렬 생성\n"
   ]
  },
  {
   "cell_type": "code",
   "execution_count": 3,
   "metadata": {},
   "outputs": [],
   "source": [
    "pts1 = np.array([(250, 30), (400, 70),\n",
    "                 (350, 250), (150, 200)], np.float32)\n",
    "pts2 = cv2.gemm(pts1, rot_mat, 1, None, 1, flags=cv2.GEMM_2_T )\n"
   ]
  },
  {
   "cell_type": "code",
   "execution_count": 4,
   "metadata": {},
   "outputs": [
    {
     "name": "stdout",
     "output_type": "stream",
     "text": [
      "pts1[0] = [250.  30.], pst2[0]= [224.66255  113.695816]\n",
      "pts1[1] = [400.  70.], pst2[1]= [351.93564 202.58655]\n",
      "pts1[2] = [350. 250.], pst2[2]= [243.38737 354.63022]\n",
      "pts1[3] = [150. 200.], pst2[3]= [ 72.54986 239.24155]\n"
     ]
    }
   ],
   "source": [
    "for i, (pt1, pt2) in enumerate(zip(pts1, pts2)):\n",
    "    print(\"pts1[%d] = %s, pst2[%d]= %s\" %(i, pt1, i, pt2))\n"
   ]
  },
  {
   "cell_type": "code",
   "execution_count": 5,
   "metadata": {},
   "outputs": [
    {
     "data": {
      "text/plain": [
       "-1"
      ]
     },
     "execution_count": 5,
     "metadata": {},
     "output_type": "execute_result"
    }
   ],
   "source": [
    "## 영상 생성 및 4개의 좌표 그리기\n",
    "image = np.full((400, 500, 3), 255, np.uint8)\n",
    "cv2.polylines(image, [np.int32(pts1)], True, (0, 255, 0), 2)\n",
    "cv2.polylines(image, [np.int32(pts2)], True, (255, 0, 0), 3)\n",
    "cv2.imshow(\"image\", image)\n",
    "cv2.waitKey(0)"
   ]
  },
  {
   "cell_type": "markdown",
   "metadata": {},
   "source": [
    "![result](img/19_result.png)"
   ]
  },
  {
   "cell_type": "code",
   "execution_count": null,
   "metadata": {},
   "outputs": [],
   "source": []
  }
 ],
 "metadata": {
  "kernelspec": {
   "display_name": "Python 3",
   "language": "python",
   "name": "python3"
  },
  "language_info": {
   "codemirror_mode": {
    "name": "ipython",
    "version": 3
   },
   "file_extension": ".py",
   "mimetype": "text/x-python",
   "name": "python",
   "nbconvert_exporter": "python",
   "pygments_lexer": "ipython3",
   "version": "3.7.7"
  }
 },
 "nbformat": 4,
 "nbformat_minor": 4
}
