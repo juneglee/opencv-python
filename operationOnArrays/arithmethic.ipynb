{
 "cells": [
  {
   "cell_type": "markdown",
   "metadata": {},
   "source": [
    "# 산출 연산 함수 \n",
    "\n",
    "### 사칙연산"
   ]
  },
  {
   "cell_type": "markdown",
   "metadata": {},
   "source": [
    "- cv2.add(src1, src2[, dst[, mask[, dtype]]]) : 두 개의 배열 혹은 배열과 스칼라의 각 원소 간 합을 계산\n",
    "    - src1 : 첫 번째 입력 배열 혹은 스칼라 \n",
    "    - src2 : 두 번째 입력 배열 혹은 스칼라 \n",
    "    - dst : 계산된 결과의 출력 배열\n",
    "    - mask : 연산 마스크 : 0이 아닌 마스크 원소의 위치만 연산 수행(8비트 단일 채널)\n",
    "    - dtype : 출력 배열의 깊이 "
   ]
  },
  {
   "cell_type": "markdown",
   "metadata": {},
   "source": [
    "- cv2.subtract(src1, src2[, dst[, mask[, dtype]]]) : 두 개의 배열 혹은 배열과 스칼라의 각 원소 간 차분을 계산한다. \n",
    "    - add() 함수와 인수 동일 "
   ]
  },
  {
   "cell_type": "markdown",
   "metadata": {},
   "source": [
    "- cv2.multiply(src1, src2[, dst[, scale[, dtype]]]) : 두 배열의 각 원소 간 곱을 계산 \n",
    "    - scale : 두 배열의 원소 간 곱할 때 추가로 곱해주는 배율"
   ]
  },
  {
   "cell_type": "markdown",
   "metadata": {},
   "source": [
    "- cv2.divide(src1, src2[, dst[, scale[, dtype]]]) : 두 배열의 각 원소 간 나눗셈을 수행\n",
    "- cv2.divide(scale, src2[, dst[, dtype]]) : 스칼라값과 행렬 원소 간 나눗셈을 수행"
   ]
  },
  {
   "cell_type": "markdown",
   "metadata": {},
   "source": [
    "- cv2.addWeighted(src1, alpha, src2, beta, gamma[, dst[, dtype]]) : 두 배열의 각 원소에 가중치를 곱한 후에 가중된(weighted) 합을 계산\n",
    "    - alpha : 첫 번째 배열의 모든 원소에 대한 가충치\n",
    "    - beta : 두 번째 배열의 모든 원소에 대한 가충치\n",
    "    - gamma : 두 배열의 원소 간 합에 추가로 더해주는 스칼라\n",
    "    "
   ]
  },
  {
   "cell_type": "code",
   "execution_count": 1,
   "metadata": {},
   "outputs": [],
   "source": [
    "import numpy as np, cv2"
   ]
  },
  {
   "cell_type": "code",
   "execution_count": 2,
   "metadata": {},
   "outputs": [],
   "source": [
    "m1 = np.full((3, 6), 10, np.uint8)\t\t\t# 단일 채널 생성 및 초기화\n",
    "m2 = np.full((3, 6), 50, np.uint8)\n",
    "m_mask = np.zeros(m1.shape, np.uint8)\t\t# 마스크 생성\n",
    "m_mask[ :, 3: ] = 1 "
   ]
  },
  {
   "cell_type": "code",
   "execution_count": 3,
   "metadata": {},
   "outputs": [],
   "source": [
    "m_add1 = cv2.add(m1, m2)                    # 행렬 덧셈\n",
    "m_add2 = cv2.add(m1, m2, mask=m_mask)       # 관심 영역만 덧셈 수행"
   ]
  },
  {
   "cell_type": "code",
   "execution_count": 4,
   "metadata": {},
   "outputs": [],
   "source": [
    "# 행렬 나눗셈 수행\n",
    "m_div1 = cv2.divide(m1, m2)\n",
    "m1 = m1.astype(np.float32)                  # 형변환 - 소수 부분 보존\n",
    "m2 = np.float32(m2)\n",
    "m_div2 = cv2.divide(m1, m2)"
   ]
  },
  {
   "cell_type": "code",
   "execution_count": 5,
   "metadata": {},
   "outputs": [
    {
     "name": "stdout",
     "output_type": "stream",
     "text": [
      "[m1] = \n",
      "[[10. 10. 10. 10. 10. 10.]\n",
      " [10. 10. 10. 10. 10. 10.]\n",
      " [10. 10. 10. 10. 10. 10.]] \n",
      "\n",
      "[m2] = \n",
      "[[50. 50. 50. 50. 50. 50.]\n",
      " [50. 50. 50. 50. 50. 50.]\n",
      " [50. 50. 50. 50. 50. 50.]] \n",
      "\n",
      "[m_mask] = \n",
      "[[0 0 0 1 1 1]\n",
      " [0 0 0 1 1 1]\n",
      " [0 0 0 1 1 1]] \n",
      "\n",
      "[m_add1] = \n",
      "[[60 60 60 60 60 60]\n",
      " [60 60 60 60 60 60]\n",
      " [60 60 60 60 60 60]] \n",
      "\n",
      "[m_add2] = \n",
      "[[ 0  0  0 60 60 60]\n",
      " [ 0  0  0 60 60 60]\n",
      " [ 0  0  0 60 60 60]] \n",
      "\n",
      "[m_div1] = \n",
      "[[0 0 0 0 0 0]\n",
      " [0 0 0 0 0 0]\n",
      " [0 0 0 0 0 0]] \n",
      "\n",
      "[m_div2] = \n",
      "[[0.2 0.2 0.2 0.2 0.2 0.2]\n",
      " [0.2 0.2 0.2 0.2 0.2 0.2]\n",
      " [0.2 0.2 0.2 0.2 0.2 0.2]] \n",
      "\n"
     ]
    }
   ],
   "source": [
    "titles = ['m1', 'm2', 'm_mask','m_add1','m_add2','m_div1', 'm_div2']\n",
    "for title in titles:\n",
    "    print(\"[%s] = \\n%s \\n\" % (title, eval(title)))"
   ]
  },
  {
   "cell_type": "code",
   "execution_count": null,
   "metadata": {},
   "outputs": [],
   "source": []
  }
 ],
 "metadata": {
  "kernelspec": {
   "display_name": "Python 3",
   "language": "python",
   "name": "python3"
  },
  "language_info": {
   "codemirror_mode": {
    "name": "ipython",
    "version": 3
   },
   "file_extension": ".py",
   "mimetype": "text/x-python",
   "name": "python",
   "nbconvert_exporter": "python",
   "pygments_lexer": "ipython3",
   "version": "3.7.7"
  }
 },
 "nbformat": 4,
 "nbformat_minor": 4
}
