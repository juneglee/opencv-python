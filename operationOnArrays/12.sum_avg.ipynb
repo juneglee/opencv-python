{
 "cells": [
  {
   "cell_type": "markdown",
   "metadata": {},
   "source": [
    "# 행렬 합/평균 연산"
   ]
  },
  {
   "cell_type": "code",
   "execution_count": 1,
   "metadata": {},
   "outputs": [],
   "source": [
    "import numpy as np, cv2"
   ]
  },
  {
   "cell_type": "code",
   "execution_count": 2,
   "metadata": {},
   "outputs": [],
   "source": [
    "image = cv2.imread(\"img/sum_test.jpg\", cv2.IMREAD_GRAYSCALE)\n",
    "if image is None: raise Exception(\"영상 파일 읽기 오류 발생\")"
   ]
  },
  {
   "cell_type": "code",
   "execution_count": 3,
   "metadata": {},
   "outputs": [],
   "source": [
    "mask = np.zeros(image.shape[:2], np.uint8)\n",
    "mask[60:160, 20:120] = 255                      # 관심영역을 지정한 후, 255를 할당\n",
    "\n",
    "sum_value   = cv2.sumElems(image)               # 채널별 합 구하기\n",
    "mean_value1 = cv2.mean(image)                   # 결과 튜플로 반환\n",
    "mean_value2 = cv2.mean(image, mask)"
   ]
  },
  {
   "cell_type": "code",
   "execution_count": 4,
   "metadata": {},
   "outputs": [
    {
     "name": "stdout",
     "output_type": "stream",
     "text": [
      "sum_value 자료형: <class 'tuple'> <class 'float'>\n",
      "[sum_value] =  (16055130.0, 0.0, 0.0, 0.0)\n",
      "[mean_value1] =  (133.79275, 0.0, 0.0, 0.0)\n",
      "[mean_value2] =  (84.0789, 0.0, 0.0, 0.0)\n",
      "\n"
     ]
    }
   ],
   "source": [
    "print('sum_value 자료형:', type(sum_value), type(sum_value[0]))\n",
    "print(\"[sum_value] = \", sum_value)\n",
    "print(\"[mean_value1] = \", mean_value1)\n",
    "print(\"[mean_value2] = \", mean_value2)\n",
    "print()"
   ]
  },
  {
   "cell_type": "code",
   "execution_count": 5,
   "metadata": {},
   "outputs": [
    {
     "name": "stdout",
     "output_type": "stream",
     "text": [
      "mean 자료형: <class 'numpy.ndarray'> <class 'numpy.float64'>\n",
      "[mean] =  [133.79275]\n",
      "[stddev] =  [67.6170204]\n",
      "\n"
     ]
    }
   ],
   "source": [
    "# 평균과 표준편차 결과 저장\n",
    "mean, stddev = cv2.meanStdDev(image)              # 결과를 행렬(numpy array)로 반환\n",
    "mean2, stddev2 = cv2.meanStdDev(image, mask=mask) # 마스크가 255인 영역만 계산\n",
    "print('mean 자료형:', type(mean), type(mean[0][0]))               # 반환 튜플의 원소는 ndarray\n",
    "print(\"[mean] = \"  , mean.flatten())              # 벡터 변환후 출력\n",
    "print(\"[stddev] = \", stddev.flatten())\n",
    "print( )"
   ]
  },
  {
   "cell_type": "code",
   "execution_count": 6,
   "metadata": {},
   "outputs": [
    {
     "name": "stdout",
     "output_type": "stream",
     "text": [
      "[mean2] =  [84.0789]\n",
      "[stddev2] =  [56.57720455]\n"
     ]
    }
   ],
   "source": [
    "print(\"[mean2] = \",  mean2.flatten())\n",
    "print(\"[stddev2] = \", stddev2.flatten())"
   ]
  },
  {
   "cell_type": "code",
   "execution_count": 7,
   "metadata": {},
   "outputs": [
    {
     "data": {
      "text/plain": [
       "-1"
      ]
     },
     "execution_count": 7,
     "metadata": {},
     "output_type": "execute_result"
    }
   ],
   "source": [
    "cv2.imshow(\"image\", image)\n",
    "cv2.imshow(\"mask\", mask)\n",
    "cv2.waitKey(0)"
   ]
  },
  {
   "cell_type": "markdown",
   "metadata": {},
   "source": [
    "![result](img/12_result.png)"
   ]
  },
  {
   "cell_type": "code",
   "execution_count": null,
   "metadata": {},
   "outputs": [],
   "source": []
  }
 ],
 "metadata": {
  "kernelspec": {
   "display_name": "Python 3",
   "language": "python",
   "name": "python3"
  },
  "language_info": {
   "codemirror_mode": {
    "name": "ipython",
    "version": 3
   },
   "file_extension": ".py",
   "mimetype": "text/x-python",
   "name": "python",
   "nbconvert_exporter": "python",
   "pygments_lexer": "ipython3",
   "version": "3.7.7"
  }
 },
 "nbformat": 4,
 "nbformat_minor": 4
}
