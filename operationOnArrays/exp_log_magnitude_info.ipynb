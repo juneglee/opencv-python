{
 "cells": [
  {
   "cell_type": "markdown",
   "metadata": {},
   "source": [
    "# 지수, 로그, 제곱근 관련 함수"
   ]
  },
  {
   "cell_type": "markdown",
   "metadata": {},
   "source": [
    "- cv2.exp(src[, dst]) : 모든 배열 원소의 지수(exponent)를 계산\n",
    "    - src, dst : 입력 배열, 입력 배열과 같은 크기와 타입의 출력 배열 "
   ]
  },
  {
   "cell_type": "markdown",
   "metadata": {},
   "source": [
    "- cv2.log(src[, dst]) : 모든 배열 원소의 접대값에 대한 자연 로그를 계산"
   ]
  },
  {
   "cell_type": "markdown",
   "metadata": {},
   "source": [
    "- cv2.sqrt(src[, dst]) : 모든 배열 원소의 대해 제곱근을 계산"
   ]
  },
  {
   "cell_type": "markdown",
   "metadata": {},
   "source": [
    "- cv2.pow(src, power[, dst]) : 모든 배열 원소에 대해 제곱 승수를 계산\n",
    "    - power : 제곱 승수"
   ]
  },
  {
   "cell_type": "markdown",
   "metadata": {},
   "source": [
    "- cv2.magnitude(x, y[, magnitude]) : 2차원 배열들의 크기를 계산 \n",
    "    - x, y : x, y 좌표들의 입력 배열\n",
    "    - magnitude : 입력 배열과 같은 크기의 출력 배열"
   ]
  },
  {
   "cell_type": "markdown",
   "metadata": {},
   "source": [
    "- cv2.phase(x, y[, angle[, angleInDegrees]]) : 2차원 배열의 회전 각도를 계산\n",
    "    - angle : 각도들의 출력 배열\n",
    "    - angleInDegrees : True (각을 degree(도)로 측정), False (각을 라디안(redian)으로 측정)"
   ]
  },
  {
   "cell_type": "markdown",
   "metadata": {},
   "source": [
    "- cv2.cartToPolar(x, y[, magnitude[, angle[, angleInDegrees]]]) : 2차원 배열들의 크기와 각도를 계산"
   ]
  },
  {
   "cell_type": "markdown",
   "metadata": {},
   "source": [
    "- cv2.polarToCart(magnitude, angle[, x[, y[, angleInDegrees]]]) : 각도와 크기로부터 2차원 배열들의 좌표를 계산"
   ]
  },
  {
   "cell_type": "code",
   "execution_count": null,
   "metadata": {},
   "outputs": [],
   "source": []
  }
 ],
 "metadata": {
  "kernelspec": {
   "display_name": "Python 3",
   "language": "python",
   "name": "python3"
  },
  "language_info": {
   "codemirror_mode": {
    "name": "ipython",
    "version": 3
   },
   "file_extension": ".py",
   "mimetype": "text/x-python",
   "name": "python",
   "nbconvert_exporter": "python",
   "pygments_lexer": "ipython3",
   "version": "3.7.7"
  }
 },
 "nbformat": 4,
 "nbformat_minor": 4
}
