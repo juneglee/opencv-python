{
 "cells": [
  {
   "cell_type": "markdown",
   "metadata": {},
   "source": [
    "# 채널 처리 함수"
   ]
  },
  {
   "cell_type": "markdown",
   "metadata": {},
   "source": [
    "- 컬러 영상은 파란색(B), 녹색(G), 빨간색(R) 각기 독립적인 2차원 정보를 합쳐 놓은 배열이라고 정의 \n",
    "- 파이썬에서는 넘파이 배열에 영상정보를 담을 수 있으며, 일련의 3개 원소로 하나의 컬러 화소가 구성되며, 화소 단위로 순회한다. \n",
    "- 컬러 배열을 분리하면 각 채널을 단일 채널 행렬로 구성할 수 있으며, 세부적인 영상처리에 이용할 수 있다 "
   ]
  },
  {
   "cell_type": "markdown",
   "metadata": {},
   "source": [
    "- cv2.merge(mv[, dst]): 여러 개의 단일 채널 배열을 다채널 배열로 합성한다 \n",
    "    - mv : 합성될 입력 배열 혹은 벡터, 합성될 단일 채널 배열들의 크기와 깊이가 동일해야 한다 \n",
    "    - dst : 입력 배열과 같은 크기와 같은 깊이의 출력 배열"
   ]
  },
  {
   "cell_type": "markdown",
   "metadata": {},
   "source": [
    "- cv2.split(m[, dst]): 다채널 배열을 여러 개의 단일 채널 배열로 분리한다 \n",
    "    - m : 입력되는 다채널 배열\n",
    "    - mv : 분리되어 반환되는 단일 채널 배열들의 벡터 "
   ]
  },
  {
   "cell_type": "code",
   "execution_count": 1,
   "metadata": {},
   "outputs": [],
   "source": [
    "import numpy as np\n",
    "import cv2\n"
   ]
  },
  {
   "cell_type": "code",
   "execution_count": 2,
   "metadata": {},
   "outputs": [],
   "source": [
    "# numpy array이용해 단일 채널 3개 생성\n",
    "ch0 = np.zeros((2, 4), np.uint8) + 10           # 0원소 행렬 선언 후 10 더하기\n",
    "ch1 = np.ones((2, 4), np.uint8) * 20            # 1원소 행렬 선언 후 20 곱하기\n",
    "ch2 = np.zeros((2, 4), np.uint8); ch2[:] = 30   # 0원소 행렬 선언 후 행렬원소값 30 지정\n"
   ]
  },
  {
   "cell_type": "code",
   "execution_count": 3,
   "metadata": {},
   "outputs": [],
   "source": [
    "list_bgr = [ch0, ch1, ch2]                      # 단일 채널들을 모아 리스트 구성\n",
    "merge_bgr = cv2.merge(list_bgr)                 # 채널 합성\n",
    "split_bgr = cv2.split(merge_bgr)                # 채널 분리: 컬러영상--> 3채널 분리"
   ]
  },
  {
   "cell_type": "code",
   "execution_count": 4,
   "metadata": {},
   "outputs": [
    {
     "name": "stdout",
     "output_type": "stream",
     "text": [
      "split_bgr 행렬 형태  (3, 2, 4)\n",
      "merge_bgr 행렬 형태 (2, 4, 3)\n"
     ]
    }
   ],
   "source": [
    "print('split_bgr 행렬 형태 ', np.array(split_bgr).shape)\n",
    "print('merge_bgr 행렬 형태', merge_bgr.shape)"
   ]
  },
  {
   "cell_type": "code",
   "execution_count": 11,
   "metadata": {},
   "outputs": [
    {
     "name": "stdout",
     "output_type": "stream",
     "text": [
      "[ch0] = \n",
      "[[10 10 10 10]\n",
      " [10 10 10 10]]\n",
      "\n",
      "[ch1] = \n",
      "[[20 20 20 20]\n",
      " [20 20 20 20]]\n",
      "\n",
      "[ch2] = \n",
      "[[30 30 30 30]\n",
      " [30 30 30 30]]\n"
     ]
    }
   ],
   "source": [
    "print(\"[ch0] = \\n%s\\n\" % ch0)                     # 단일 채널 원소 출력\n",
    "print(\"[ch1] = \\n%s\\n\" % ch1)\n",
    "print(\"[ch2] = \\n%s\" % ch2)"
   ]
  },
  {
   "cell_type": "code",
   "execution_count": 8,
   "metadata": {},
   "outputs": [
    {
     "name": "stdout",
     "output_type": "stream",
     "text": [
      "[merge_bgr] = \n",
      " [[[10 20 30]\n",
      "  [10 20 30]\n",
      "  [10 20 30]\n",
      "  [10 20 30]]\n",
      "\n",
      " [[10 20 30]\n",
      "  [10 20 30]\n",
      "  [10 20 30]\n",
      "  [10 20 30]]]\n",
      "\n"
     ]
    }
   ],
   "source": [
    "print(\"[merge_bgr] = \\n %s\\n\" % merge_bgr)       # 다중 채널 원소 출력"
   ]
  },
  {
   "cell_type": "code",
   "execution_count": 12,
   "metadata": {},
   "outputs": [
    {
     "name": "stdout",
     "output_type": "stream",
     "text": [
      "[split_bgr[0]] =\n",
      "[[10 10 10 10]\n",
      " [10 10 10 10]]\n",
      " \n",
      "[split_bgr[1]] =\n",
      "[[20 20 20 20]\n",
      " [20 20 20 20]]\n",
      " \n",
      "[split_bgr[2]] =\n",
      "[[30 30 30 30]\n",
      " [30 30 30 30]] \n"
     ]
    }
   ],
   "source": [
    "print(\"[split_bgr[0]] =\\n%s\\n \" % split_bgr[0])\n",
    "print(\"[split_bgr[1]] =\\n%s\\n \" % split_bgr[1])\n",
    "print(\"[split_bgr[2]] =\\n%s \" % split_bgr[2])"
   ]
  },
  {
   "cell_type": "code",
   "execution_count": null,
   "metadata": {},
   "outputs": [],
   "source": []
  }
 ],
 "metadata": {
  "kernelspec": {
   "display_name": "Python 3",
   "language": "python",
   "name": "python3"
  },
  "language_info": {
   "codemirror_mode": {
    "name": "ipython",
    "version": 3
   },
   "file_extension": ".py",
   "mimetype": "text/x-python",
   "name": "python",
   "nbconvert_exporter": "python",
   "pygments_lexer": "ipython3",
   "version": "3.7.7"
  }
 },
 "nbformat": 4,
 "nbformat_minor": 4
}
