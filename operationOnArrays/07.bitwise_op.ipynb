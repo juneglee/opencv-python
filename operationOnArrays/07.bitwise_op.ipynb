{
 "cells": [
  {
   "cell_type": "markdown",
   "metadata": {},
   "source": [
    "# 논리(비트) 연산함수"
   ]
  },
  {
   "cell_type": "markdown",
   "metadata": {},
   "source": [
    "- cv2.bitwise_and(src1,src2[, dst[, mask]]) : 두 배열의 원소 간 혹은 배열 원소와 스칼라 간의 비트별 논리곱(AND) 연산을 수행 \n",
    "\n",
    "- cv2.bitwise_or(src1,src2[, dst[, mask]]) : 두 배열의 원소 간 혹은 배열 원소와 스칼라 간의 비트별 논리합(OR) 연산을 수행 \n",
    "\n",
    "- cv2.bitwise_xor(src1,src2[, dst[, mask]]) : 두 배열의 원소 간 혹은 배열 원소와 스칼라 간의 비트별 배타적 논리합(XOR) 연산을 수행 \n",
    "\n",
    "- cv2.bitwise_not(src[, dst[, mask]]) : 입력 배열의 모든 원소마다 비트 보수 연산을 수행  "
   ]
  },
  {
   "cell_type": "code",
   "execution_count": 1,
   "metadata": {},
   "outputs": [],
   "source": [
    "import numpy as np, cv2"
   ]
  },
  {
   "cell_type": "code",
   "execution_count": 2,
   "metadata": {},
   "outputs": [],
   "source": [
    "image1 = np.zeros((300, 300), np.uint8)     \t\t# 300행, 300열 검은색 영상 생성\n",
    "image2 = image1.copy()"
   ]
  },
  {
   "cell_type": "code",
   "execution_count": 3,
   "metadata": {},
   "outputs": [
    {
     "data": {
      "text/plain": [
       "array([[255, 255, 255, ...,   0,   0,   0],\n",
       "       [255, 255, 255, ...,   0,   0,   0],\n",
       "       [255, 255, 255, ...,   0,   0,   0],\n",
       "       ...,\n",
       "       [255, 255, 255, ...,   0,   0,   0],\n",
       "       [255, 255, 255, ...,   0,   0,   0],\n",
       "       [255, 255, 255, ...,   0,   0,   0]], dtype=uint8)"
      ]
     },
     "execution_count": 3,
     "metadata": {},
     "output_type": "execute_result"
    }
   ],
   "source": [
    "h, w = image1.shape[:2]\n",
    "cx,cy  = w//2, h//2\n",
    "cv2.circle(image1, (cx,cy), 100, 255, -1)      \t\t# 중심에 원 그리기\n",
    "cv2.rectangle(image2, (0,0, cx, h), 255, -1)"
   ]
  },
  {
   "cell_type": "code",
   "execution_count": 4,
   "metadata": {},
   "outputs": [],
   "source": [
    "image3 = cv2.bitwise_or(image1, image2)     \t# 원소 간 논리합\n",
    "image4 = cv2.bitwise_and(image1, image2)    \t# 원소 간 논리곱\n",
    "image5 = cv2.bitwise_xor(image1, image2)    \t# 원소 간 배타적 논리합\n",
    "image6 = cv2.bitwise_not(image1)            \t# 행렬 반전"
   ]
  },
  {
   "cell_type": "code",
   "execution_count": 5,
   "metadata": {},
   "outputs": [
    {
     "data": {
      "text/plain": [
       "-1"
      ]
     },
     "execution_count": 5,
     "metadata": {},
     "output_type": "execute_result"
    }
   ],
   "source": [
    "cv2.imshow(\"image1\", image1);\t\t\tcv2.imshow(\"image2\", image2)\n",
    "cv2.imshow(\"bitwise_or\", image3);\t\tcv2.imshow(\"bitwise_and\", image4)\n",
    "cv2.imshow(\"bitwise_xor\", image5);\tcv2.imshow(\"bitwise_not\", image6)\n",
    "cv2.waitKey(0)"
   ]
  },
  {
   "cell_type": "markdown",
   "metadata": {},
   "source": [
    "![result](img/07_result.png)"
   ]
  },
  {
   "cell_type": "code",
   "execution_count": null,
   "metadata": {},
   "outputs": [],
   "source": []
  }
 ],
 "metadata": {
  "kernelspec": {
   "display_name": "Python 3",
   "language": "python",
   "name": "python3"
  },
  "language_info": {
   "codemirror_mode": {
    "name": "ipython",
    "version": 3
   },
   "file_extension": ".py",
   "mimetype": "text/x-python",
   "name": "python",
   "nbconvert_exporter": "python",
   "pygments_lexer": "ipython3",
   "version": "3.7.7"
  }
 },
 "nbformat": 4,
 "nbformat_minor": 4
}
