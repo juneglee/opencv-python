{
 "cells": [
  {
   "cell_type": "markdown",
   "metadata": {},
   "source": [
    "# 컬러 채널 분리"
   ]
  },
  {
   "cell_type": "code",
   "execution_count": 1,
   "metadata": {},
   "outputs": [],
   "source": [
    "import cv2"
   ]
  },
  {
   "cell_type": "code",
   "execution_count": 2,
   "metadata": {},
   "outputs": [],
   "source": [
    "image = cv2.imread( \"img/color.jpg\", cv2.IMREAD_COLOR)   # 영상 읽기\n",
    "if image is None: raise Exception(\"영상 파일 읽기 오류 발생\")  # 예외 처리\n",
    "if image.ndim != 3: raise Exception(\"컬러 영상 아님\")\n",
    "    "
   ]
  },
  {
   "cell_type": "code",
   "execution_count": 3,
   "metadata": {},
   "outputs": [],
   "source": [
    "bgr = cv2.split(image)                      # 채널 분리: 컬러영상--> 3채널 분리\n",
    "# blue, green, red = cv2.split(image)"
   ]
  },
  {
   "cell_type": "code",
   "execution_count": 4,
   "metadata": {},
   "outputs": [
    {
     "name": "stdout",
     "output_type": "stream",
     "text": [
      "bgr 자료형: <class 'list'> <class 'numpy.ndarray'> <class 'numpy.uint8'>\n",
      "bgr 원소개수: 3\n"
     ]
    }
   ],
   "source": [
    "print(\"bgr 자료형:\",  type(bgr), type(bgr[0]), type(bgr[0][0][0]))\n",
    "print(\"bgr 원소개수:\", len(bgr))"
   ]
  },
  {
   "cell_type": "code",
   "execution_count": 5,
   "metadata": {},
   "outputs": [
    {
     "data": {
      "text/plain": [
       "-1"
      ]
     },
     "execution_count": 5,
     "metadata": {},
     "output_type": "execute_result"
    }
   ],
   "source": [
    "# 각 채널을 윈도우에 띄우기 \n",
    "cv2.imshow(\"image\", image)\n",
    "cv2.imshow(\"Blue channel\" , bgr[0])         # blue 채널\n",
    "cv2.imshow(\"Green channel\", bgr[1])         # green 채널\n",
    "cv2.imshow(\"Red channel\"  , bgr[2])         # red 채널\n",
    "# cv2.imshow(\"Blue channel\" , image[:,:,0])         \t# 넘파이 객체 인덱싱\n",
    "# cv2.imshow(\"Green channel\", image[:,:,1])\n",
    "# cv2.imshow(\"Red channel\"  , image[:,:,2])\n",
    "cv2.waitKey()"
   ]
  },
  {
   "cell_type": "markdown",
   "metadata": {},
   "source": [
    "![result](img/03_result.png)"
   ]
  },
  {
   "cell_type": "code",
   "execution_count": null,
   "metadata": {},
   "outputs": [],
   "source": []
  }
 ],
 "metadata": {
  "kernelspec": {
   "display_name": "Python 3",
   "language": "python",
   "name": "python3"
  },
  "language_info": {
   "codemirror_mode": {
    "name": "ipython",
    "version": 3
   },
   "file_extension": ".py",
   "mimetype": "text/x-python",
   "name": "python",
   "nbconvert_exporter": "python",
   "pygments_lexer": "ipython3",
   "version": "3.7.7"
  }
 },
 "nbformat": 4,
 "nbformat_minor": 4
}
