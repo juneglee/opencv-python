{
 "cells": [
  {
   "cell_type": "markdown",
   "metadata": {},
   "source": [
    "# 역행렬의 계산 방법에 대한 옵션(flags) 값과 설명"
   ]
  },
  {
   "cell_type": "markdown",
   "metadata": {},
   "source": [
    "- cv2.invert(src,[, dst[, flags]]) : 행렬의 역행렬을 계산한다 (입력 행렬이 정방 행렬이 아니면 의사 역행렬 계산)\n",
    "    - src : M x N 크기의 부동 소수점 입력 행렬 \n",
    "    - dst : src 와 크기와 타입이 같은 출력 행렬\n",
    "    - flags : 역행렬의 게산 방법에 대한 플래그 \n"
   ]
  },
  {
   "cell_type": "markdown",
   "metadata": {},
   "source": [
    "- cv2.solve(src1, src2[, dst[, flags]]) : 연립 방정식이나 최소자승 문제를 해결\n",
    "    - src1 : 연립방적식의 개수 행렬\n",
    "    - src2 : 연립방적식의 상수 행렬\n",
    "    - dst : 출력 행렬\n",
    "    - flags : 풀이 (역행렬 계산 플러그) 방법 "
   ]
  },
  {
   "cell_type": "markdown",
   "metadata": {},
   "source": [
    "# flags 옵션의 역행렬의 계산 방법 "
   ]
  },
  {
   "cell_type": "markdown",
   "metadata": {},
   "source": [
    "| 옵션 | 값 | 설명 |\n",
    "|:------|:------|:------|\n",
    "| cv2.DECOMP_LU | 0 | 가우시안 소거법으로 역행렬 계산 - 입력 행렬은 역행렬이 존재하는 정방행렬 |\n",
    "| cv2.DECOMP_SVD | 1 | 특이치 분해 방법으로 역행렬 계산 - 입력 행렬이 정방행렬이 아닌 경우 의사 역행렬 계산 |\n",
    "| cv2.DECOMP_CHOLESKY | 3 | 츌레스키(cholesky) 분해로 역행렬 계산 - 입력 행렬이 역행렬이 존재하는 정방행렬, 대칭행렬이며 양의 정부호 행렬 |\n"
   ]
  },
  {
   "cell_type": "code",
   "execution_count": 1,
   "metadata": {},
   "outputs": [],
   "source": [
    "import numpy as np, cv2"
   ]
  },
  {
   "cell_type": "code",
   "execution_count": 2,
   "metadata": {},
   "outputs": [],
   "source": [
    "data = [ 3, 0, 6, -3, 4, 2, -5,-1, 9]\t\t\t\t    # 1차원 리스트 생성\n",
    "m1 = np.array(data, np.float32).reshape(3,3)\n",
    "m2 = np.array([36, 10, 28], np.float32)"
   ]
  },
  {
   "cell_type": "code",
   "execution_count": 3,
   "metadata": {},
   "outputs": [
    {
     "name": "stdout",
     "output_type": "stream",
     "text": [
      "[inv] = \n",
      "[[ 0.15079366 -0.02380952 -0.0952381 ]\n",
      " [ 0.06746032  0.22619048 -0.0952381 ]\n",
      " [ 0.09126984  0.01190476  0.04761905]]\n",
      "\n",
      "[dst1] = [2.5238097 2.0238094 4.7380953]\n",
      "[dst2] = [2.5238097 2.0238097 4.7380953]\n",
      "[dst3] = [2.5238094 2.0238094 4.7380953]\n"
     ]
    }
   ],
   "source": [
    "ret, inv = cv2.invert(m1, cv2.DECOMP_LU)                # 역행렬 계산\n",
    "if ret:\n",
    "    dst1 = inv.dot(m2)                                  # numpy 제공 행렬곱 함수\n",
    "    dst2 = cv2.gemm(inv, m2, 1, None, 1)                # OpenC 제공 행렬곱 함수\n",
    "    ret, dst3 = cv2.solve(m1, m2, cv2.DECOMP_LU)        # 연립방정식 풀이\n",
    "\n",
    "    print(\"[inv] = \\n%s\\n\" % inv)\n",
    "    print(\"[dst1] =\", dst1.flatten())                   # 다행 1열 행렬을 한행에 표시\n",
    "    print(\"[dst2] =\", dst2.flatten())                   # 행렬을 벡터로 변환\n",
    "    print(\"[dst3] =\", dst3.flatten())                   # 행렬을 벡터로 변환\n",
    "else:\n",
    "    print(\"역행렬이 존재하지 않습니다.\")"
   ]
  },
  {
   "cell_type": "code",
   "execution_count": 4,
   "metadata": {},
   "outputs": [
    {
     "name": "stdout",
     "output_type": "stream",
     "text": [
      "[inv] = \n",
      "[[ 0.15079366 -0.02380952 -0.0952381 ]\n",
      " [ 0.06746032  0.22619048 -0.0952381 ]\n",
      " [ 0.09126984  0.01190476  0.04761905]]\n",
      "\n",
      "[dst1] = [2.5238097 2.0238094 4.7380953]\n",
      "[dst2] = [2.5238097 2.0238097 4.7380953]\n",
      "[dst3] = [2.5238094 2.0238094 4.7380953]\n"
     ]
    }
   ],
   "source": [
    "ret, inv = cv2.invert(m1, cv2.DECOMP_SVD)                # 역행렬 계산\n",
    "if ret:\n",
    "    dst1 = inv.dot(m2)                                  # numpy 제공 행렬곱 함수\n",
    "    dst2 = cv2.gemm(inv, m2, 1, None, 1)                # OpenC 제공 행렬곱 함수\n",
    "    ret, dst3 = cv2.solve(m1, m2, cv2.DECOMP_SVD)        # 연립방정식 풀이\n",
    "\n",
    "    print(\"[inv] = \\n%s\\n\" % inv)\n",
    "    print(\"[dst1] =\", dst1.flatten())                   # 다행 1열 행렬을 한행에 표시\n",
    "    print(\"[dst2] =\", dst2.flatten())                   # 행렬을 벡터로 변환\n",
    "    print(\"[dst3] =\", dst3.flatten())                   # 행렬을 벡터로 변환\n",
    "else:\n",
    "    print(\"역행렬이 존재하지 않습니다.\")"
   ]
  },
  {
   "cell_type": "code",
   "execution_count": 5,
   "metadata": {},
   "outputs": [
    {
     "name": "stdout",
     "output_type": "stream",
     "text": [
      "[inv] = \n",
      "[[ 0.15079366 -0.02380952 -0.0952381 ]\n",
      " [ 0.06746032  0.22619048 -0.0952381 ]\n",
      " [ 0.09126984  0.01190476  0.04761905]]\n",
      "\n",
      "[dst1] = [2.5238097 2.0238094 4.7380953]\n",
      "[dst2] = [2.5238097 2.0238097 4.7380953]\n",
      "[dst3] = [2.5238094 2.0238094 4.7380953]\n"
     ]
    }
   ],
   "source": [
    "ret, inv = cv2.invert(m1, cv2.DECOMP_CHOLESKY)                # 역행렬 계산\n",
    "if ret:\n",
    "    dst1 = inv.dot(m2)                                  # numpy 제공 행렬곱 함수\n",
    "    dst2 = cv2.gemm(inv, m2, 1, None, 1)                # OpenC 제공 행렬곱 함수\n",
    "    ret, dst3 = cv2.solve(m1, m2, cv2.DECOMP_CHOLESKY)        # 연립방정식 풀이\n",
    "\n",
    "    print(\"[inv] = \\n%s\\n\" % inv)\n",
    "    print(\"[dst1] =\", dst1.flatten())                   # 다행 1열 행렬을 한행에 표시\n",
    "    print(\"[dst2] =\", dst2.flatten())                   # 행렬을 벡터로 변환\n",
    "    print(\"[dst3] =\", dst3.flatten())                   # 행렬을 벡터로 변환\n",
    "else:\n",
    "    print(\"역행렬이 존재하지 않습니다.\")"
   ]
  },
  {
   "cell_type": "code",
   "execution_count": null,
   "metadata": {},
   "outputs": [],
   "source": []
  }
 ],
 "metadata": {
  "kernelspec": {
   "display_name": "Python 3",
   "language": "python",
   "name": "python3"
  },
  "language_info": {
   "codemirror_mode": {
    "name": "ipython",
    "version": 3
   },
   "file_extension": ".py",
   "mimetype": "text/x-python",
   "name": "python",
   "nbconvert_exporter": "python",
   "pygments_lexer": "ipython3",
   "version": "3.7.7"
  }
 },
 "nbformat": 4,
 "nbformat_minor": 4
}
