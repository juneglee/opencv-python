{
 "cells": [
  {
   "cell_type": "code",
   "execution_count": 1,
   "metadata": {},
   "outputs": [],
   "source": [
    "import numpy as np, cv2"
   ]
  },
  {
   "cell_type": "code",
   "execution_count": 2,
   "metadata": {},
   "outputs": [],
   "source": [
    "def print_rects(rects):\n",
    "    print(\"-\" * 46)                             \t# 라인 출력\n",
    "    print(\"사각형 원소\\t\\t랜덤 사각형 정보\\t\\t  크기\")\n",
    "    print(\"-\" * 46)\n",
    "    for i, (x,y, w,h, a) in enumerate(rects):\t\t# 저장 데이터 출력\n",
    "         print(\"rects[%i] = [(%3d,%3d) from (%3d,%3d)] %5d\" %(i, x, y, w, h, a))\n",
    "    print()\n"
   ]
  },
  {
   "cell_type": "code",
   "execution_count": 3,
   "metadata": {},
   "outputs": [],
   "source": [
    "rands = np.zeros((5, 5), np.uint16)        \t\t    # 5행 4열 행렬 생성\n",
    "starts = cv2.randn(rands[:, :2 ], 100, 50)     \t\t# 0~4행까지 시작좌표 랜덤 생성\n",
    "ends = cv2.randn(rands[:, 2:-1], 300, 50)       \t\t# 5~9행까지 종료좌표 랜덤 생성\n"
   ]
  },
  {
   "cell_type": "code",
   "execution_count": 4,
   "metadata": {},
   "outputs": [],
   "source": [
    "sizes = cv2.absdiff(starts, ends)\t\t\t\t\t# 시작좌표와 종료좌표간 차분 절대값\n",
    "areas = sizes[:, 0] * sizes[:, 1]\n",
    "rects = rands.copy()\n",
    "rects[:, 2:-1] = sizes\n",
    "rects[:,-1] = areas"
   ]
  },
  {
   "cell_type": "code",
   "execution_count": 5,
   "metadata": {},
   "outputs": [
    {
     "name": "stdout",
     "output_type": "stream",
     "text": [
      "----------------------------------------------\n",
      "사각형 원소\t\t랜덤 사각형 정보\t\t  크기\n",
      "----------------------------------------------\n",
      "rects[0] = [(100,108) from (238,190)] 45220\n",
      "rects[1] = [( 65, 79) from (300,123)] 36900\n",
      "rects[2] = [(162, 86) from ( 43,187)]  8041\n",
      "rects[3] = [( 68,115) from (195,280)] 54600\n",
      "rects[4] = [(126, 43) from (188,188)] 35344\n",
      "\n",
      "----------------------------------------------\n",
      "사각형 원소\t\t랜덤 사각형 정보\t\t  크기\n",
      "----------------------------------------------\n",
      "rects[0] = [(162, 86) from ( 43,187)]  8041\n",
      "rects[1] = [(126, 43) from (188,188)] 35344\n",
      "rects[2] = [( 65, 79) from (300,123)] 36900\n",
      "rects[3] = [(100,108) from (238,190)] 45220\n",
      "rects[4] = [( 68,115) from (195,280)] 54600\n",
      "\n"
     ]
    }
   ],
   "source": [
    "idx = cv2.sortIdx(areas, cv2.SORT_EVERY_COLUMN).flatten()\n",
    "\n",
    "print_rects(rects)\n",
    "print_rects(rects[idx.astype('int')])"
   ]
  },
  {
   "cell_type": "code",
   "execution_count": null,
   "metadata": {},
   "outputs": [],
   "source": []
  }
 ],
 "metadata": {
  "kernelspec": {
   "display_name": "Python 3",
   "language": "python",
   "name": "python3"
  },
  "language_info": {
   "codemirror_mode": {
    "name": "ipython",
    "version": 3
   },
   "file_extension": ".py",
   "mimetype": "text/x-python",
   "name": "python",
   "nbconvert_exporter": "python",
   "pygments_lexer": "ipython3",
   "version": "3.7.7"
  }
 },
 "nbformat": 4,
 "nbformat_minor": 4
}
