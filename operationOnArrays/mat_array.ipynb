{
 "cells": [
  {
   "cell_type": "markdown",
   "metadata": {},
   "source": [
    "# 기본 배열 (Array) 처리 함수 "
   ]
  },
  {
   "cell_type": "markdown",
   "metadata": {},
   "source": [
    "- cv2.filp(src, flipCode[, dst]) : 입력된 2차원 배열을 수직, 수평, 양축으로 뒤집는다\n",
    "    - src, dst : 입력 배열, 출력 배열\n",
    "    - filp code\n",
    "        - 0 : x축을 기준으로 위아래로 뒤집는다 \n",
    "        - 1 : y축을 기준으로 좌우로 뒤집는다\n",
    "        - -1 : 양축 (x축, y축)을 기준으로 뒤집느다\n"
   ]
  },
  {
   "cell_type": "markdown",
   "metadata": {},
   "source": [
    "- cv2.repeat(src, ny, nx[, dst]) : 입력 배열의 반복된 복사본으로 배열을 채운다\n",
    "    - src, dst : 입력 배열, 출력 배열\n",
    "    - ny, nx : 수직 방향, 수평 방향 반복 횟수"
   ]
  },
  {
   "cell_type": "markdown",
   "metadata": {},
   "source": [
    "- cv2.transpose(src[, dst]) : 입력 행렬의 전치 행렬을 출력으로 반환\n",
    "    - src, dst : 입력 배열, 출력 배열"
   ]
  },
  {
   "cell_type": "code",
   "execution_count": 1,
   "metadata": {},
   "outputs": [
    {
     "data": {
      "text/plain": [
       "-1"
      ]
     },
     "execution_count": 1,
     "metadata": {},
     "output_type": "execute_result"
    }
   ],
   "source": [
    "import cv2\n",
    "\n",
    "image = cv2.imread(\"img/flip_test.jpg\", cv2.IMREAD_COLOR)\n",
    "if image is None: raise Exception(\"영상 파일 읽기 오류 발생\") # 예외 처리\n",
    "\n",
    "x_axis = cv2.flip(image, 0)                 # x축 기준 상하 뒤집기\n",
    "y_axis = cv2.flip(image, 1)                 # y축 기준 좌우 뒤집기\n",
    "xy_axis = cv2.flip(image, -1)\n",
    "rep_image   = cv2.repeat(image, 1, 2)       # 반복 복사\n",
    "trans_image = cv2.transpose(image)          # 행렬 전치\n",
    "\n",
    "## 각 행렬을 영상으로 표시\n",
    "titles = ['image', 'x_axis', 'y_axis','xy_axis','rep_image','trans_image']\n",
    "for title in titles:\n",
    "    cv2.imshow(title, eval(title))\n",
    "cv2.waitKey(0)"
   ]
  },
  {
   "cell_type": "markdown",
   "metadata": {},
   "source": [
    "![result](img/01_result.png)"
   ]
  },
  {
   "cell_type": "code",
   "execution_count": null,
   "metadata": {},
   "outputs": [],
   "source": []
  }
 ],
 "metadata": {
  "kernelspec": {
   "display_name": "Python 3",
   "language": "python",
   "name": "python3"
  },
  "language_info": {
   "codemirror_mode": {
    "name": "ipython",
    "version": 3
   },
   "file_extension": ".py",
   "mimetype": "text/x-python",
   "name": "python",
   "nbconvert_exporter": "python",
   "pygments_lexer": "ipython3",
   "version": "3.7.7"
  }
 },
 "nbformat": 4,
 "nbformat_minor": 4
}
