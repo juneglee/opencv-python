{
 "cells": [
  {
   "cell_type": "markdown",
   "id": "d4f5e11e",
   "metadata": {},
   "source": [
    "# 기하학 처리 "
   ]
  },
  {
   "cell_type": "markdown",
   "id": "831756ef",
   "metadata": {},
   "source": [
    "- 기하학(geometry)은 점, 선, 면, 도형 등의 기하학적인 대상을 다루는 학문이다. 즉, 대상의 길이, 넓이, 각도 등을 측정하거나 공간상의 특성을 연구하는 수학의 한 분야이다. \n",
    "- 기하학의 영어 단어 geometry는 토지를 뜻하는 geo와 측량을 뜻하는 metry라는 단어가 합해져서 만들어진 용어이다. \n",
    "- 영상처리에서 기하학 처리는 영상 냉에 있는 기하학적인 대상의 공간적 배치를 변경하는 과정을 말한다. 이것을 화소의 입장에서 보면, 영상을 구성하는 화소들의 공간적 위치를 재배치하는 과정이라 할 수 있다. 이러한 변환에는 크게 회전, 크기 변경, 평행이동 등이 있다. 보통 영상처리 관련 논문에서는 이 세가지 변환을 일컬러 RST 변환이라고 말한다. R은 Rotataion, S는 Scaling, T는 Translation의 첫 글자이다."
   ]
  },
  {
   "cell_type": "markdown",
   "id": "6da01c5b",
   "metadata": {},
   "source": [
    "### 사상"
   ]
  },
  {
   "cell_type": "markdown",
   "id": "a12da81c",
   "metadata": {},
   "source": [
    "- 기하학적 처리는 기본은 화소들의 배치를 변경하는 것이다. 화소의 배치를 변경하려면 사상(mapping)이라는 의미를 이해해야 한다. 사상은 화소들의 배치를 변경할 때, 입력 영상의 좌표가 새롭게 배치될 해당 목적 영상의 좌표를 찾아서 화소값을 옮기는 과정을 말한다. \n",
    "- 여기에는 순방향 사상(forward mapping)과 역방향 사상(reverse mapping)의 두 가지 방식이 있다. 순방향 사상은 입력 영상의 좌표를 중심으로 목적 영상의 좌표를 계산하여 화소의 위치를 변환하는 방식이다. 이 방식은 일반적으로 입력 영상과 목적 영상이 크기가 같을 때 유용하게 사용된다. 반면, 두 영상의 크기가 달라지면, 홀(hole)이나 오버랩(overlap)의 문제가 발생할 수 있다. \n"
   ]
  },
  {
   "cell_type": "markdown",
   "id": "dc7b6c57",
   "metadata": {},
   "source": [
    "![overview](img/overview.png)"
   ]
  },
  {
   "cell_type": "markdown",
   "id": "ccfbc5a9",
   "metadata": {},
   "source": [
    "- 홀은 입력 영상의 좌표들로 목적 영상의 좌표를 만드는 과정에서 사상되지 않는 화소를 가리킨다. 보통 영상을 확대하거나 회전할 대에 발생한다. 반면 오버랩은 영상을 축소할 때 주로 발생한다. 이것은 입력 영상의 여러 화소들이 목적 영상의 한 화소로 사상되는 것을 말한다."
   ]
  },
  {
   "cell_type": "markdown",
   "id": "49a1934d",
   "metadata": {},
   "source": [
    "- 이러한 문제를 해결할 수 잇는 방법이 역방향 사상이다. 역방향 사상은 목적 영상의 좌표를 중심으로 역변환을 게산하여 해당하는 원본 영상의 좌표를 찾아서 화소값을 가져오는 방식이다. "
   ]
  },
  {
   "cell_type": "markdown",
   "id": "84de72bb",
   "metadata": {},
   "source": [
    "![reverse](img/reverse.jpg)"
   ]
  },
  {
   "cell_type": "markdown",
   "id": "e2f360cb",
   "metadata": {},
   "source": [
    "- 역방향 사상의 방식은 홀이나 오버랩은 발생하지 않는다. 다만 입력 영상의 한 화소를 목적 영상의 여러 화소에서 사용하게 되면 결과 영상의 품질이 떨어질 수 있다. 이런 문제를 해결하는 방법이 보간법이다. "
   ]
  },
  {
   "cell_type": "code",
   "execution_count": null,
   "id": "6a5df625",
   "metadata": {},
   "outputs": [],
   "source": []
  }
 ],
 "metadata": {
  "kernelspec": {
   "display_name": "Python 3",
   "language": "python",
   "name": "python3"
  },
  "language_info": {
   "codemirror_mode": {
    "name": "ipython",
    "version": 3
   },
   "file_extension": ".py",
   "mimetype": "text/x-python",
   "name": "python",
   "nbconvert_exporter": "python",
   "pygments_lexer": "ipython3",
   "version": "3.7.7"
  }
 },
 "nbformat": 4,
 "nbformat_minor": 5
}
