{
 "cells": [
  {
   "cell_type": "markdown",
   "id": "116debc0",
   "metadata": {},
   "source": [
    "# 최근접 이웃 보간법\n",
    "- 이 방법은 목적 영상을 만드는 과정에서 홀이 되어 화소값을 할당 받지 못한 위치에 값을 찾을 대, 그 위치에 가장 가깝게 이웃한 입력 영상의 화소값을 가져오는 방법이다. \n",
    "- 이 방법은 목접 화소의 좌표를 반올림하는 간단한 알고리즘으로 비어있는 홀들을 채울 수 있어 쉽고 빠르게 목적 영상의 품질을 높일 수 있다. 다만 확대의 비율이 커지면 영상 내에서 경계선이나 모서리 부분에서 계산 현상이 나타날 수 있다. "
   ]
  },
  {
   "cell_type": "code",
   "execution_count": 1,
   "id": "6683d2e8",
   "metadata": {},
   "outputs": [],
   "source": [
    "import numpy as np, cv2"
   ]
  },
  {
   "cell_type": "code",
   "execution_count": 2,
   "id": "f35ababc",
   "metadata": {},
   "outputs": [],
   "source": [
    "# 크기 변경 함수\n",
    "def scaling(img, size):                                # 크기 변경 함수\n",
    "    dst = np.zeros(size[::-1], img.dtype)               # 행렬과 크기는 원소가 역순\n",
    "    ratioY, ratioX = np.divide(size[::-1], img.shape[:2])\n",
    "    i = np.arange(0, img.shape[0], 1)\n",
    "    j = np.arange(0, img.shape[1], 1)\n",
    "    i, j = np.meshgrid(i, j)\n",
    "    y, x = np.int32(i * ratioY), np.int32(j * ratioX)\n",
    "    dst[y,x] = img[i,j]\n",
    "    \n",
    "    return dst"
   ]
  },
  {
   "cell_type": "code",
   "execution_count": 3,
   "id": "55f8eeca",
   "metadata": {},
   "outputs": [],
   "source": [
    "def scaling_nearest(img, size):                                # 크기 변경 함수\n",
    "    dst = np.zeros(size[::-1], img.dtype)               # 행렬과 크기는 원소가 역순\n",
    "    ratioY, ratioX = np.divide(size[::-1], img.shape[:2])\n",
    "    i = np.arange(0, size[1], 1)\n",
    "    j = np.arange(0, size[0], 1)\n",
    "    i, j = np.meshgrid(i, j)\n",
    "    y, x = np.int32(i / ratioY), np.int32(j / ratioX)\n",
    "    dst[i,j] = img[y,x]\n",
    "\n",
    "    return dst"
   ]
  },
  {
   "cell_type": "code",
   "execution_count": 5,
   "id": "da3a9185",
   "metadata": {},
   "outputs": [],
   "source": [
    "image = cv2.imread('img/interpolation.jpg', cv2.IMREAD_GRAYSCALE)\n",
    "if image is None: raise Exception(\"영상 파일을 읽기 에러\")"
   ]
  },
  {
   "cell_type": "code",
   "execution_count": 6,
   "id": "3d36a685",
   "metadata": {},
   "outputs": [],
   "source": [
    "dst1 = scaling(image, (350, 400))                   # 크기 변경 - 기본\n",
    "dst2 = scaling_nearest(image, (350, 400))           # 크기 변경 - 최근접 이웃 보간"
   ]
  },
  {
   "cell_type": "code",
   "execution_count": 7,
   "id": "910eba94",
   "metadata": {},
   "outputs": [
    {
     "data": {
      "text/plain": [
       "-1"
      ]
     },
     "execution_count": 7,
     "metadata": {},
     "output_type": "execute_result"
    }
   ],
   "source": [
    "cv2.imshow(\"image\", image)\n",
    "cv2.imshow(\"dst1- forward mapping\", dst1)          # 순방향 사상\n",
    "cv2.imshow(\"dst2- NN interpolation\", dst2)         # Nearest Neighbor interpolation\n",
    "cv2.waitKey(0)"
   ]
  },
  {
   "cell_type": "markdown",
   "id": "a2a90dee",
   "metadata": {},
   "source": [
    "![result](img/interpolation_result.png)"
   ]
  },
  {
   "cell_type": "code",
   "execution_count": null,
   "id": "6742c4a0",
   "metadata": {},
   "outputs": [],
   "source": []
  }
 ],
 "metadata": {
  "kernelspec": {
   "display_name": "Python 3",
   "language": "python",
   "name": "python3"
  },
  "language_info": {
   "codemirror_mode": {
    "name": "ipython",
    "version": 3
   },
   "file_extension": ".py",
   "mimetype": "text/x-python",
   "name": "python",
   "nbconvert_exporter": "python",
   "pygments_lexer": "ipython3",
   "version": "3.7.7"
  }
 },
 "nbformat": 4,
 "nbformat_minor": 5
}
