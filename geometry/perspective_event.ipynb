{
 "cells": [
  {
   "cell_type": "markdown",
   "id": "2e86d220",
   "metadata": {},
   "source": [
    "# 마우스 이벤트로 원근 왜곡 보정"
   ]
  },
  {
   "cell_type": "code",
   "execution_count": 1,
   "id": "193ce53b",
   "metadata": {},
   "outputs": [],
   "source": [
    "import numpy as np, cv2"
   ]
  },
  {
   "cell_type": "code",
   "execution_count": 2,
   "id": "b1203a47",
   "metadata": {},
   "outputs": [],
   "source": [
    "# 좌표로 범위 확인 \n",
    "def contain_pts(p, p1, p2):\n",
    "    return p1[0] <= p[0] < p2[0] and p1[1] <= p[1] < p2[1]"
   ]
  },
  {
   "cell_type": "code",
   "execution_count": 3,
   "id": "3d0940c2",
   "metadata": {},
   "outputs": [],
   "source": [
    "def draw_rect(img):\n",
    "    rois = [(p-small, small * 2) for p in pts1]\n",
    "    for (x,y), (w,h) in np.int32(rois):\n",
    "        roi = img[y:y + h, x:x + w]                 # 좌표 사각형 범위 가져오기\n",
    "        val = np.full(roi.shape, 80, np.uint8)  # 컬러(3차원) 행렬 생성\t\tcv2.add(roi, val, roi)                      \t\t\t# 관심영역 밝기 증가\n",
    "        cv2.add(roi, val, roi)\n",
    "        cv2.rectangle(img, (x,y, w, h), (0, 255, 0), 1)\n",
    "    cv2.polylines(img, [pts1.astype(int)], True, (0, 255, 0), 1)     # pts는 numpy 배열\n",
    "    cv2.imshow(\"select rect\", img)"
   ]
  },
  {
   "cell_type": "code",
   "execution_count": 4,
   "id": "80040e01",
   "metadata": {},
   "outputs": [],
   "source": [
    "def warp(img):\n",
    "    perspect_mat = cv2.getPerspectiveTransform(pts1, pts2)\n",
    "    dst = cv2.warpPerspective(img, perspect_mat, (350, 400), cv2.INTER_CUBIC)\n",
    "    cv2.imshow(\"perspective transform\", dst)"
   ]
  },
  {
   "cell_type": "code",
   "execution_count": 5,
   "id": "799a7295",
   "metadata": {},
   "outputs": [],
   "source": [
    "def onMouse(event, x, y, flags, param):\n",
    "    global check\n",
    "    if event == cv2.EVENT_LBUTTONDOWN:\n",
    "        for i, p in enumerate(pts1):\n",
    "            p1, p2 = p - small, p + small           # p점에서 우상단, 좌하단 좌표생성\n",
    "            if contain_pts((x,y), p1, p2): check = i\n",
    "\n",
    "    if event == cv2.EVENT_LBUTTONUP: check = -1                                  # 좌표 번호 초기화\n",
    "    \n",
    "    if check >= 0 :                                 # 좌표 사각형 선택 시\n",
    "        pts1[check] = (x, y)\n",
    "        draw_rect(np.copy(image))\n",
    "        warp(np.copy(image))"
   ]
  },
  {
   "cell_type": "code",
   "execution_count": 6,
   "id": "14858d76",
   "metadata": {},
   "outputs": [],
   "source": [
    "image = cv2.imread('img/perspective2.jpg')\n",
    "if image is None: raise Exception(\"영상 파일을 읽기 에러\")"
   ]
  },
  {
   "cell_type": "code",
   "execution_count": 7,
   "id": "d7002cfa",
   "metadata": {},
   "outputs": [],
   "source": [
    "small = np.array((12, 12))                                    # 좌표 사각형 크기\n",
    "check = -1                                          # 선택 좌표 사각형 번호 초기화\n",
    "pts1 = np.float32([(100, 100), (300, 100), (300, 300), (100, 300)])\n",
    "pts2 = np.float32([(0, 0), (400, 0), (400, 350), (0, 350)])  # 목적 영상 4개 좌표                         # 목적 영상 4개 좌표"
   ]
  },
  {
   "cell_type": "code",
   "execution_count": 8,
   "id": "06dd3b07",
   "metadata": {},
   "outputs": [
    {
     "data": {
      "text/plain": [
       "-1"
      ]
     },
     "execution_count": 8,
     "metadata": {},
     "output_type": "execute_result"
    }
   ],
   "source": [
    "draw_rect(np.copy(image))\n",
    "cv2.setMouseCallback(\"select rect\", onMouse, 0)\n",
    "cv2.waitKey(0)"
   ]
  },
  {
   "cell_type": "markdown",
   "id": "13247c24",
   "metadata": {},
   "source": [
    "![result1](img/event_result1.png)\n",
    "![result2](img/event_result2.png)"
   ]
  },
  {
   "cell_type": "code",
   "execution_count": null,
   "id": "a6fa1cf1",
   "metadata": {},
   "outputs": [],
   "source": []
  }
 ],
 "metadata": {
  "kernelspec": {
   "display_name": "Python 3",
   "language": "python",
   "name": "python3"
  },
  "language_info": {
   "codemirror_mode": {
    "name": "ipython",
    "version": 3
   },
   "file_extension": ".py",
   "mimetype": "text/x-python",
   "name": "python",
   "nbconvert_exporter": "python",
   "pygments_lexer": "ipython3",
   "version": "3.7.7"
  }
 },
 "nbformat": 4,
 "nbformat_minor": 5
}
