{
 "cells": [
  {
   "cell_type": "markdown",
   "id": "55f2bce4",
   "metadata": {},
   "source": [
    "#  어파인 변환(행렬 연산을 통한 기학학 변환)\n",
    "- 어파인 변환은 변환 전과 변환 후의 두 어파인 공간(어파인 공간은 유클리드 공간의 어파인 기하학적 성징들을 일반환해서 만들어지는 구조) 사이의 공선점(colinear point: 한 직선 상에 있는 점들을 뜻함)을 보존하는 변환이다. \n",
    "- 따라서 변환전에 직서은 변환 후에도 그대로 직선이며, 그 거리으 비율도 유지된다. 또한 변환전에 평행선도 변환 후에 평행선이 된다. \n",
    "- 어파인 변환을 수행하는 방법은 크게 두가지가 있다. 하나는 회전 각도, 크기 변경 비율, 평행 이동의 정도를 지정해서 각가 변환 행렬을 구성한다. 그리고 각 변환 행렬을 행렬 곱으로 구성하면 하나의 변환 행렬을 만들 수 있다. 각 행렬을 곱하는 순서는 변환하고자는 방식에 따라서 달라질 수 있다. 이대 2x3 크기의 어파인 행렬로 구성하면 행렬의 곱을 계산할 수 없기 때문에 3x3 크기의 행렬로 구성하여 행렬 곱승 수행한다. \n"
   ]
  },
  {
   "cell_type": "markdown",
   "id": "d313e1a7",
   "metadata": {},
   "source": [
    "- OpenCV에서도 어파인 변환을 수행할 수 있는 cv2.warpAffine() 함수를 제공한다. 이 함수는 지정된 어파인 변환 행렬을 적용하면 입력 영상에 어파인 변환을 수행한 모적 영상을 반환한다. 또한. 어파인 변환 행렬을 만드는 함수로는 cv2.getAffineTransform()과 cv2.getRotationMatrix2D () 가 있다.\n",
    "- cv2.getAffineTransform()은 변환 전의 좌표 3개와 변환 후의 좌표 3개를 지정하면 해당 변환을 수행해 줄 수 있는 어파인 행렬을 반환한다. cv2.getRotationMatrix2D()는 회전 변환과 크기 변경을 수행하는 어파인 행렬을 반환한다. 여기서 회전의 방향은 양수 일때 반시계 방향으로 회전하는 행렬을 반환한다. 이것은 영상 좌표에서 직교 좌표계에서의 회전과 같은 방향으로 표현하기 위함이다. "
   ]
  },
  {
   "cell_type": "markdown",
   "id": "a08b73ff",
   "metadata": {},
   "source": [
    "- cv2.warpAffine(src, M, dsize[, dst[, flags[, boardMode[, borderValue]]]]) : 입력 영상에 어파인 변환을 수행해서 반환\n",
    "    - src : 입력 영상\n",
    "    - dst : 반환 영상\n",
    "    - M :어파인 변환 행렬\n",
    "    - dsize : 반환 영상의 크기 \n",
    "    - flags : 보간 방법\n",
    "    - borderMode : 경계 지점 방법 "
   ]
  },
  {
   "cell_type": "markdown",
   "id": "a1190248",
   "metadata": {},
   "source": [
    "- cv2.getAffineTransform(src, dst) : 3개의 좌표쌍을 입력하면 어피안 변환 행렬을 반환\n",
    "    - src : 입력 영상 좌표 3개 (행렬로 구성)\n",
    "    - dst : 반환 영상 좌표 3개 (행렬로 구성)"
   ]
  },
  {
   "cell_type": "markdown",
   "id": "9834755f",
   "metadata": {},
   "source": [
    "- cv2.getRotationMatrix2D(center, angle, scale) : 회전 변환과 크기 변경을 수행할 수 있는 어파인 행렬을 반환\n",
    "    - center : 회전의 중심점\n",
    "    - angle : 회전 각도, 양수 각도가 반시계 방향 회전 수행\n",
    "    - scale : 변경할 크기 "
   ]
  },
  {
   "cell_type": "markdown",
   "id": "ce0906dd",
   "metadata": {},
   "source": [
    "- cv2.invertAffineTransform(M [. iM]) : 어파인 변환행렬의 역 행렬을 반환\n",
    "    - M : 어파인 변환 행렬\n",
    "    - iM : 어파인 역변환 행렬 "
   ]
  },
  {
   "cell_type": "code",
   "execution_count": 1,
   "id": "5c43aff4",
   "metadata": {},
   "outputs": [],
   "source": [
    "import numpy as np, cv2"
   ]
  },
  {
   "cell_type": "code",
   "execution_count": 2,
   "id": "84b7abac",
   "metadata": {},
   "outputs": [],
   "source": [
    "def bilinear_value(img, pt):\n",
    "    x, y = np.int32(pt)\n",
    "    if y >= img.shape[0]-1: y = y - 1\n",
    "    if x >= img.shape[1]-1: x = x - 1\n",
    "\n",
    "    P1, P2, P3, P4 = np.float32(img[y:y+2,x:x+2].flatten())\n",
    "    alpha, beta = pt[1] - y,  pt[0] - x                   # 거리 비율\n",
    "\n",
    "    M1 = P1 + alpha * (P3 - P1)                      # 1차 보간\n",
    "    M2 = P2 + alpha * (P4 - P2)\n",
    "    P  = M1 + beta  * (M2 - M1)                     # 2차 보간\n",
    "    return np.clip(P, 0, 255)                       # 화소값 saturation후 반환"
   ]
  },
  {
   "cell_type": "code",
   "execution_count": 3,
   "id": "b1b40de1",
   "metadata": {},
   "outputs": [],
   "source": [
    "def contain(p, shape):                              # 좌표(y,x)가 범위내 인지 검사\n",
    "    return 0<= p[0] < shape[0] and 0<= p[1] < shape[1]"
   ]
  },
  {
   "cell_type": "code",
   "execution_count": 4,
   "id": "f9452bf4",
   "metadata": {},
   "outputs": [],
   "source": [
    "# 수행시간 체크 함수\n",
    "stime = 0\n",
    "def ck_time(mode = 0 , msg = \"\"):\n",
    "    global stime\n",
    "\n",
    "    if (mode ==0 ):\n",
    "        stime = time.perf_counter()\n",
    "\n",
    "    elif (mode==1):\n",
    "       etime = time.perf_counter()\n",
    "       elapsed = (etime - stime)\n",
    "       print(\"수행시간 = %.5f sec\" % elapsed)  # 초 단위 경과 시간\n",
    "\n",
    "    elif (mode == 2):\n",
    "        etime = time.perf_counter()\n",
    "        return (etime - stime)\n",
    "\n",
    "    elif (mode== 3 ):\n",
    "        etime = time.perf_counter()\n",
    "        elapsed = (etime - stime)\n",
    "        print(\"%s = %.5f sec\" %(msg, elapsed))  # 초 단위 경과 시간\n"
   ]
  },
  {
   "cell_type": "markdown",
   "id": "75b14ec5",
   "metadata": {},
   "source": [
    "### 어파인 변환 수행 함수"
   ]
  },
  {
   "cell_type": "code",
   "execution_count": 5,
   "id": "a0c11b74",
   "metadata": {},
   "outputs": [],
   "source": [
    "def affine_transform(img, mat):\n",
    "    rows, cols = img.shape[:2]\n",
    "    inv_mat = cv2.invertAffineTransform(mat)  # 어파인 변환의 역행렬\n",
    "    ## 리스트 생성 방식\n",
    "    pts = [np.dot(inv_mat, (j, i, 1)) for i in range(rows) for j in range(cols)]\n",
    "    dst = [bilinear_value(img, p) if contain(p, size) else 0 for p in pts]\n",
    "    dst = np.reshape(dst, (rows, cols)).astype('uint8') # 1차원 -> 2차원\n",
    "\n",
    "    ## 반복문 방식\n",
    "    # dst = np.zeros(img.shape, img.dtype)  # 목적 영상 생성\n",
    "    # for i in range(rows):  # 목적 영상 순회- 역방향 사상\n",
    "    #     for j in range(cols):\n",
    "    #         pt = np.dot(inv_mat, (j, i, 1))                # 행렬 내적 계산\n",
    "    #         if contain(pt, size):  dst[i, j] = bilinear_value(img, pt)     # 화소 양선형 보간\n",
    "\n",
    "    return dst\n"
   ]
  },
  {
   "cell_type": "code",
   "execution_count": 6,
   "id": "53cd2ba8",
   "metadata": {},
   "outputs": [],
   "source": [
    "image = cv2.imread('img/affine.jpg', cv2.IMREAD_GRAYSCALE)\n",
    "if image is None: raise Exception(\"영상 파일을 읽기 에러\")"
   ]
  },
  {
   "cell_type": "code",
   "execution_count": 7,
   "id": "ad22bef0",
   "metadata": {},
   "outputs": [],
   "source": [
    "center = (200, 200)                                 # 회전 변환 기준 좌표\n",
    "angle, scale = 30,  1                               # 회전 각도, 크기 지정 - 크기 변경은 안 함\n",
    "size = image.shape[::-1]                            # 영상크기는 행렬 행태의 역순"
   ]
  },
  {
   "cell_type": "code",
   "execution_count": 8,
   "id": "a176b1f5",
   "metadata": {},
   "outputs": [],
   "source": [
    "pt1 = np.array([( 30, 70),(20, 240), (300, 110)], np.float32)\n",
    "pt2 = np.array([(120, 20),(10, 180), (280, 260)], np.float32)\n",
    "aff_mat = cv2.getAffineTransform(pt1, pt2)              # 3개 좌표 쌍으로 어파인 행렬 생성\n",
    "rot_mat = cv2.getRotationMatrix2D(center, angle, scale) # 회전 변환을 위한 어파인 행렬"
   ]
  },
  {
   "cell_type": "code",
   "execution_count": 9,
   "id": "542d908d",
   "metadata": {},
   "outputs": [],
   "source": [
    "dst1 = affine_transform(image, aff_mat)             # 어파인 변환 수행\n",
    "dst2 = affine_transform(image, rot_mat)             # 회전 변환 수행\n",
    "dst3 = cv2.warpAffine(image, aff_mat, size, cv2.INTER_LINEAR)\n",
    "dst4 = cv2.warpAffine(image, rot_mat, size, cv2.INTER_LINEAR)"
   ]
  },
  {
   "cell_type": "code",
   "execution_count": 10,
   "id": "2516fa3e",
   "metadata": {},
   "outputs": [],
   "source": [
    "image = cv2.cvtColor(image, cv2.COLOR_GRAY2BGR)\n",
    "dst1 = cv2.cvtColor(dst1, cv2.COLOR_GRAY2BGR )\n",
    "dst3 = cv2.cvtColor(dst3, cv2.COLOR_GRAY2BGR )"
   ]
  },
  {
   "cell_type": "code",
   "execution_count": 11,
   "id": "094ff6d8",
   "metadata": {},
   "outputs": [],
   "source": [
    "for i in range(len(pt1)):\n",
    "    cv2.circle(image, tuple(pt1[i].astype(int)), 3, (0, 0, 255), 2)\n",
    "    cv2.circle(dst1 , tuple(pt2[i].astype(int)), 3, (0, 0, 255), 2)\n",
    "    cv2.circle(dst3 , tuple(pt2[i].astype(int)), 3, (0, 0, 255), 2)"
   ]
  },
  {
   "cell_type": "code",
   "execution_count": 12,
   "id": "cc59027f",
   "metadata": {},
   "outputs": [
    {
     "data": {
      "text/plain": [
       "-1"
      ]
     },
     "execution_count": 12,
     "metadata": {},
     "output_type": "execute_result"
    }
   ],
   "source": [
    "cv2.imshow(\"image\", image)\n",
    "cv2.imshow(\"dst1_affine\", dst1);        cv2.imshow(\"dst2_affine_rotate\", dst2)\n",
    "cv2.imshow(\"dst3_OpenCV_affine\", dst3); cv2.imshow(\"dst4_OpenCV_affine_rotate\", dst4)\n",
    "cv2.waitKey(0)"
   ]
  },
  {
   "cell_type": "markdown",
   "id": "1f626437",
   "metadata": {},
   "source": [
    "![result](img/affine_result.png)"
   ]
  },
  {
   "cell_type": "code",
   "execution_count": null,
   "id": "7eec4e78",
   "metadata": {},
   "outputs": [],
   "source": []
  }
 ],
 "metadata": {
  "kernelspec": {
   "display_name": "Python 3",
   "language": "python",
   "name": "python3"
  },
  "language_info": {
   "codemirror_mode": {
    "name": "ipython",
    "version": 3
   },
   "file_extension": ".py",
   "mimetype": "text/x-python",
   "name": "python",
   "nbconvert_exporter": "python",
   "pygments_lexer": "ipython3",
   "version": "3.7.7"
  }
 },
 "nbformat": 4,
 "nbformat_minor": 5
}
