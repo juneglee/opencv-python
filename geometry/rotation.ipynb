{
 "cells": [
  {
   "cell_type": "markdown",
   "id": "64765e63",
   "metadata": {},
   "source": [
    "# 영상 회전 (Rotation)\n",
    "- 회전은 입력 영상의 모든 화소를 영상의 원점을 기준으로 원하는 각도 만큼 모든 화소에 대해서 회전 변환을 시키는 것을 말한다. 이것은 2차원 평면에서 회전 변환을 나타내느 행렬을 통해서 수식으로 표현할 수 있다.\n",
    "- 회번 현환의 혁행렬이 sin() 함수의 부호만 다르기 때문에 순바얗 사상과 역방향 사상도 단지 sin() 함수의 부호 만 차이가 잇다. "
   ]
  },
  {
   "cell_type": "code",
   "execution_count": 1,
   "id": "d20c58d6",
   "metadata": {},
   "outputs": [],
   "source": [
    "import numpy as np,  cv2"
   ]
  },
  {
   "cell_type": "code",
   "execution_count": 2,
   "id": "609f5d5f",
   "metadata": {},
   "outputs": [],
   "source": [
    "def bilinear_value(img, pt):\n",
    "    x, y = np.int32(pt)\n",
    "    if y >= img.shape[0]-1: y = y - 1\n",
    "    if x >= img.shape[1]-1: x = x - 1\n",
    "\n",
    "    P1, P2, P3, P4 = np.float32(img[y:y+2,x:x+2].flatten())\n",
    "    alpha, beta = pt[1] - y,  pt[0] - x                   # 거리 비율\n",
    "\n",
    "    M1 = P1 + alpha * (P3 - P1)                      # 1차 보간\n",
    "    M2 = P2 + alpha * (P4 - P2)\n",
    "    P  = M1 + beta  * (M2 - M1)                     # 2차 보간\n",
    "    return np.clip(P, 0, 255)                       # 화소값 saturation후 반환"
   ]
  },
  {
   "cell_type": "code",
   "execution_count": 3,
   "id": "d667d23e",
   "metadata": {},
   "outputs": [],
   "source": [
    "def contain(p, shape):                              # 좌표(y,x)가 범위내 인지 검사\n",
    "    return 0<= p[0] < shape[0] and 0<= p[1] < shape[1]"
   ]
  },
  {
   "cell_type": "code",
   "execution_count": 4,
   "id": "586492c3",
   "metadata": {},
   "outputs": [],
   "source": [
    "# 수행시간 체크 함수\n",
    "stime = 0\n",
    "def ck_time(mode = 0 , msg = \"\"):\n",
    "    global stime\n",
    "\n",
    "    if (mode ==0 ):\n",
    "        stime = time.perf_counter()\n",
    "\n",
    "    elif (mode==1):\n",
    "       etime = time.perf_counter()\n",
    "       elapsed = (etime - stime)\n",
    "       print(\"수행시간 = %.5f sec\" % elapsed)  # 초 단위 경과 시간\n",
    "\n",
    "    elif (mode == 2):\n",
    "        etime = time.perf_counter()\n",
    "        return (etime - stime)\n",
    "\n",
    "    elif (mode== 3 ):\n",
    "        etime = time.perf_counter()\n",
    "        elapsed = (etime - stime)\n",
    "        print(\"%s = %.5f sec\" %(msg, elapsed))  # 초 단위 경과 시간\n"
   ]
  },
  {
   "cell_type": "code",
   "execution_count": 5,
   "id": "70e21a18",
   "metadata": {},
   "outputs": [],
   "source": [
    "def rotate(img, degree):\n",
    "    dst = np.zeros(img.shape[:2], img.dtype)                     # 목적 영상 생성\n",
    "    radian = (degree/180) * np.pi                               # 회전 각도 - 라디언\n",
    "    sin, cos = np.sin(radian), np.cos(radian)   # 사인, 코사인 값 미리 계산\n",
    "\n",
    "    for i in range(img.shape[0]):                                       # 목적 영상 순회 - 역방향 사상\n",
    "        for j in range(img.shape[1]):\n",
    "            y = -j * sin + i * cos\n",
    "            x =  j * cos + i * sin                  # 회선 변환 수식\n",
    "            if contain((y, x), img.shape):             # 입력 영상의 범위 확인\n",
    "                dst[i, j] = bilinear_value(img, [x, y])           # 화소값 양선형 보간\n",
    "    return dst\n"
   ]
  },
  {
   "cell_type": "code",
   "execution_count": 7,
   "id": "4b0c45ef",
   "metadata": {},
   "outputs": [],
   "source": [
    "def rotate_pt(img, degree, pt):\n",
    "    dst = np.zeros(img.shape[:2], img.dtype)                     # 목적 영상 생성\n",
    "    radian = (degree/180) * np.pi                               # 회전 각도 - 라디언\n",
    "    sin, cos = np.sin(radian), np.cos(radian)   # 사인, 코사인 값 미리 계산\n",
    "\n",
    "    for i in range(img.shape[0]):                              # 목적 영상 순회 - 역방향 사상\n",
    "        for j in range(img.shape[1]):\n",
    "            jj, ii = np.subtract((j, i), pt)                # 중심좌표 평행이동,\n",
    "            y = -jj * sin + ii * cos               # 회선 변환 수식\n",
    "            x =  jj * cos + ii * sin\n",
    "            x, y = np.add((x, y), pt)\n",
    "            if contain((y, x), img.shape):                      # 입력 영상의 범위 확인\n",
    "                dst[i, j] = bilinear_value(img, [x, y])           # 화소값 양선형 보간\n",
    "    return dst"
   ]
  },
  {
   "cell_type": "code",
   "execution_count": 8,
   "id": "745a43c7",
   "metadata": {},
   "outputs": [],
   "source": [
    "image = cv2.imread('img/rotate.jpg', cv2.IMREAD_GRAYSCALE)\n",
    "if image is None: raise Exception(\"영상 파일을 읽기 에러\")"
   ]
  },
  {
   "cell_type": "code",
   "execution_count": 9,
   "id": "d57b8cea",
   "metadata": {},
   "outputs": [],
   "source": [
    "center = np.divmod(image.shape[::-1], 2)[0]\n",
    "dst1 = rotate(image, 20)                                        # 원점 기준 회전 변환\n",
    "dst2 = rotate_pt(image, 20, center )                             # 영상 중심 기준 회전 변환"
   ]
  },
  {
   "cell_type": "code",
   "execution_count": 10,
   "id": "5c63f827",
   "metadata": {},
   "outputs": [
    {
     "data": {
      "text/plain": [
       "-1"
      ]
     },
     "execution_count": 10,
     "metadata": {},
     "output_type": "execute_result"
    }
   ],
   "source": [
    "cv2.imshow(\"image\", image)\n",
    "cv2.imshow(\"dst1-rotated on org\", dst1)\n",
    "cv2.imshow(\"dst2-rotated on center\", dst2)\n",
    "cv2.waitKey(0)"
   ]
  },
  {
   "cell_type": "code",
   "execution_count": null,
   "id": "5d7fab70",
   "metadata": {},
   "outputs": [],
   "source": []
  }
 ],
 "metadata": {
  "kernelspec": {
   "display_name": "Python 3",
   "language": "python",
   "name": "python3"
  },
  "language_info": {
   "codemirror_mode": {
    "name": "ipython",
    "version": 3
   },
   "file_extension": ".py",
   "mimetype": "text/x-python",
   "name": "python",
   "nbconvert_exporter": "python",
   "pygments_lexer": "ipython3",
   "version": "3.7.7"
  }
 },
 "nbformat": 4,
 "nbformat_minor": 5
}
