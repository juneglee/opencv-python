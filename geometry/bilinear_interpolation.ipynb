{
 "cells": [
  {
   "cell_type": "markdown",
   "id": "fc088c77",
   "metadata": {},
   "source": [
    "#  양선형 보간법 (bilinear interpolation)\n",
    "-  영상을 확대할 때 확대비율이 커지면, 최근접 이웃 보간법은 모자이크 현상 혹은 경계부분에서 계단 현상이 나타나게 된다. 이러한 문제를 보완하는 방법이 양선형 보간법 이다.\n",
    "- 여기서 선형(linear)의 의미는 쉽게 표현하자면 직선의 특징을 가진 것이라 할 수 있는데, 직선의 방정식을 예로 들 수 있다. 두 개 화소의 값을 알고 있을 때 그 값을 직선으로 그려보면 이때 직선 위에 위치한 화소들의 값은 직선의 쉭을 이용해서 쉽게 게산할 수 있다. \n",
    "- 각 수식은 블로그를 참고"
   ]
  },
  {
   "cell_type": "markdown",
   "id": "212f0784",
   "metadata": {},
   "source": [
    "### 보간 방법 옵션 상수 "
   ]
  },
  {
   "cell_type": "markdown",
   "id": "47c1edec",
   "metadata": {},
   "source": [
    "| 옵션 상수 | 값 | 설명 |\n",
    "|------|---|-----|\n",
    "|cv2.INTER_NEAREST| 0 | 최근접 이웃 보간|\n",
    "|cv2.INTER_LINEAR| 1 | 양선형 보간(기본값) |\n",
    "|cv2.INTER_CUBIC| 2 | 바이큐빅 보간 - 4x4 이웃 화소 이용|\n",
    "|cv2.INTER_AREA| 3 | 픽셀 영역의 관계로 리샘플링|\n",
    "|cv2.INTER_LANCZOS4| 4 | Lanczos 보간 - 8x8 이웃 화소 이용 |"
   ]
  },
  {
   "cell_type": "code",
   "execution_count": 2,
   "id": "4de9046a",
   "metadata": {},
   "outputs": [],
   "source": [
    "import numpy as np, cv2"
   ]
  },
  {
   "cell_type": "code",
   "execution_count": 3,
   "id": "a7aa39d4",
   "metadata": {},
   "outputs": [],
   "source": [
    "def scaling_nearest(img, size):                                # 크기 변경 함수\n",
    "    dst = np.zeros(size[::-1], img.dtype)                      # 행렬과 크기는 원소가 역순\n",
    "    ratioY, ratioX = np.divide(size[::-1], img.shape[:2])\n",
    "    i = np.arange(0, size[1], 1)\n",
    "    j = np.arange(0, size[0], 1)\n",
    "    i, j = np.meshgrid(i, j)\n",
    "    y, x = np.int32(i / ratioY), np.int32(j / ratioX)\n",
    "    dst[i,j] = img[y,x]\n",
    "\n",
    "    return dst"
   ]
  },
  {
   "cell_type": "code",
   "execution_count": 4,
   "id": "9b02f094",
   "metadata": {},
   "outputs": [],
   "source": [
    "# 단일 화소 양선형 보간 수행 함수 \n",
    "def bilinear_value(img, pt):                         \n",
    "    x, y = np.int32(pt)\n",
    "    if x >= img.shape[1]-1: x = x -1 # 영상 범위 벗어남을 처리\n",
    "    if y >= img.shape[0]-1: y = y - 1\n",
    "\n",
    "    P1, P3, P2, P4 = np.float32(img[y:y+2,x:x+2].flatten())\n",
    "   ## 4개의 화소 가져옴 – 화소 직접 접근\n",
    "   #  P1 = float(img[y, x] )                         # 상단 왼쪽 화소\n",
    "   #  P3 = float(img[y + 0, x + 1])                  # 상단 오른쪽 화소\n",
    "   #  P2 = float(img[y + 1, x + 0])                  # 하단 왼쪽 화소\n",
    "   #  P4 = float(img[y + 1, x + 1])                  # 하단 오른쪽 화소\n",
    "\n",
    "    alpha, beta = pt[1] - y,  pt[0] - x              # 거리 비율\n",
    "    M1 = P1 + alpha * (P3 - P1)                      # 1차 보간\n",
    "    M2 = P2 + alpha * (P4 - P2)\n",
    "    P  = M1 + beta  * (M2 - M1)                      # 2차 보간\n",
    "    return  np.clip(P, 0, 255)                       # 화소값 saturation후 반환"
   ]
  },
  {
   "cell_type": "code",
   "execution_count": 5,
   "id": "c9060507",
   "metadata": {},
   "outputs": [],
   "source": [
    "def scaling_bilinear(img, size):                        \t# 양선형 보간\n",
    "    ratioY, ratioX = np.divide(size[::-1], img.shape[:2])  # 변경 크기 비율\n",
    "\n",
    "    dst = [[ bilinear_value(img, (j/ratioX, i/ratioY))     # for문 이용한 리스트 생성\n",
    "             for j in range(size[0])]\n",
    "           for i in range(size[1])]\n",
    "    return np.array(dst, img.dtype)"
   ]
  },
  {
   "cell_type": "code",
   "execution_count": 6,
   "id": "17ec5772",
   "metadata": {},
   "outputs": [],
   "source": [
    "image = cv2.imread('img/interpolation.jpg', cv2.IMREAD_GRAYSCALE)\n",
    "if image is None: raise Exception(\"영상 파일 읽기 에러\")"
   ]
  },
  {
   "cell_type": "code",
   "execution_count": 7,
   "id": "1b5c0a48",
   "metadata": {},
   "outputs": [],
   "source": [
    "size = (350, 400)\n",
    "dst1 = scaling_bilinear(image, size)                # 크기 변경 - 양선형 보간\n",
    "dst2 = scaling_nearest(image, size)                 # 크기 변경 - 최근접 이웃 보간\n",
    "dst3 = cv2.resize(image, size, 0, 0, cv2.INTER_LINEAR)  # OpenCV 함수 적용\n",
    "dst4 = cv2.resize(image, size, 0, 0, cv2.INTER_NEAREST)"
   ]
  },
  {
   "cell_type": "code",
   "execution_count": 8,
   "id": "e4000345",
   "metadata": {},
   "outputs": [
    {
     "data": {
      "text/plain": [
       "-1"
      ]
     },
     "execution_count": 8,
     "metadata": {},
     "output_type": "execute_result"
    }
   ],
   "source": [
    "cv2.imshow(\"image\", image)\n",
    "cv2.imshow(\"User_bilinear\", dst1)\n",
    "cv2.imshow(\"User_Nearest\", dst2)\n",
    "cv2.imshow(\"OpenCV_bilinear\", dst3)\n",
    "cv2.imshow(\"OpenCV_Nearest\", dst4)\n",
    "cv2.waitKey(0)"
   ]
  },
  {
   "cell_type": "markdown",
   "id": "0ee34d9b",
   "metadata": {},
   "source": [
    "![result](img/bilinear_result.png)"
   ]
  },
  {
   "cell_type": "code",
   "execution_count": null,
   "id": "02ea4755",
   "metadata": {},
   "outputs": [],
   "source": []
  }
 ],
 "metadata": {
  "kernelspec": {
   "display_name": "Python 3",
   "language": "python",
   "name": "python3"
  },
  "language_info": {
   "codemirror_mode": {
    "name": "ipython",
    "version": 3
   },
   "file_extension": ".py",
   "mimetype": "text/x-python",
   "name": "python",
   "nbconvert_exporter": "python",
   "pygments_lexer": "ipython3",
   "version": "3.7.7"
  }
 },
 "nbformat": 4,
 "nbformat_minor": 5
}
