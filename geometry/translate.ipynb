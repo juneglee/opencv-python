{
 "cells": [
  {
   "cell_type": "markdown",
   "id": "508faefb",
   "metadata": {},
   "source": [
    "# 평행이동(translation)\n",
    "- 일반적으로 그래프에 좌표를 표시할 대와는 다르게 영상에서 원점 좌표는 기본적으로 최상단 왼쪽이다. 평행이동(translation)은 영상의 원점을 기준으로 모슨 화소를 동일하게 가로 방향과 세로 방향을 옮기는 것을 말한다. \n",
    "- 평행 이동할 화소가 없는 부분인 상단과 왼쪽 부분은 0(검은색) 혹은 255(흰색)로 지정한다 "
   ]
  },
  {
   "cell_type": "code",
   "execution_count": 1,
   "id": "1ee6eeda",
   "metadata": {},
   "outputs": [],
   "source": [
    "import numpy as np, cv2"
   ]
  },
  {
   "cell_type": "code",
   "execution_count": 2,
   "id": "93326569",
   "metadata": {},
   "outputs": [],
   "source": [
    "def contain(p, shape):                              # 좌표(y,x)가 범위내 인지 검사\n",
    "    return 0<= p[0] < shape[0] and 0<= p[1] < shape[1]"
   ]
  },
  {
   "cell_type": "code",
   "execution_count": 3,
   "id": "d8563eb0",
   "metadata": {},
   "outputs": [],
   "source": [
    "def translate(img, pt):\n",
    "    dst = np.zeros(img.shape, img.dtype)            # 목적 영상 생성\n",
    "    for i in range(img.shape[0]):                   # 목적 영상 순회 - 역방향 사상\n",
    "        for j in range(img.shape[1]):\n",
    "            x, y = np.subtract((j, i) , pt)         # 좌표는 가로, 세로 순서 \n",
    "            if contain((y, x), img.shape):          # 영상 범위 확인\n",
    "                dst[i, j] = img[y, x]               # 행렬은 행, 열 순서 \n",
    "    return dst"
   ]
  },
  {
   "cell_type": "code",
   "execution_count": 4,
   "id": "d44fc95e",
   "metadata": {},
   "outputs": [],
   "source": [
    "image = cv2.imread('img/translate.jpg', cv2.IMREAD_GRAYSCALE)\n",
    "if image is None: raise Exception(\"영상 파일을 읽기 에러\")"
   ]
  },
  {
   "cell_type": "code",
   "execution_count": 5,
   "id": "0621640a",
   "metadata": {},
   "outputs": [],
   "source": [
    "dst1 = translate(image, (30, 80))                  # x = 30, y = 80 으로 평행이동\n",
    "dst2 = translate(image, (-70, -50))"
   ]
  },
  {
   "cell_type": "code",
   "execution_count": 6,
   "id": "4de59301",
   "metadata": {},
   "outputs": [
    {
     "data": {
      "text/plain": [
       "-1"
      ]
     },
     "execution_count": 6,
     "metadata": {},
     "output_type": "execute_result"
    }
   ],
   "source": [
    "cv2.imshow(\"image\", image)\n",
    "cv2.imshow(\"dst1: trans to (80, 30)\", dst1);\n",
    "cv2.imshow(\"dst2: trans to (-50, -70)\", dst2);\n",
    "cv2.waitKey(0)"
   ]
  },
  {
   "cell_type": "markdown",
   "id": "ac7bef2d",
   "metadata": {},
   "source": [
    "![result](img/translation_result.png)"
   ]
  },
  {
   "cell_type": "markdown",
   "id": "d3a45fff",
   "metadata": {},
   "source": [
    "- 실행 결과에서 dst1 은 가로 30, 세로  30 화소만큼 평행이동한다. 또한 dst2는 가로 -70세로 -50만큰 평행 이동한다. 양수로 평행이동하면 오른쪽 하단으로 영상이 옮겨지고, 음수로 평행 이동할 경우에는 영상이 왼쪽, 상당으로 이동하게 된다. 또한 빈공간은 0으로 채워서 검은색이 되며, 목적 영상의 크기를 벗어나는 화소들은 목적 영상에서 제거된다. "
   ]
  },
  {
   "cell_type": "code",
   "execution_count": null,
   "id": "3b649442",
   "metadata": {},
   "outputs": [],
   "source": []
  }
 ],
 "metadata": {
  "kernelspec": {
   "display_name": "Python 3",
   "language": "python",
   "name": "python3"
  },
  "language_info": {
   "codemirror_mode": {
    "name": "ipython",
    "version": 3
   },
   "file_extension": ".py",
   "mimetype": "text/x-python",
   "name": "python",
   "nbconvert_exporter": "python",
   "pygments_lexer": "ipython3",
   "version": "3.7.7"
  }
 },
 "nbformat": 4,
 "nbformat_minor": 5
}
