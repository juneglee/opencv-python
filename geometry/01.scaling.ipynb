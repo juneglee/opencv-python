{
 "cells": [
  {
   "cell_type": "markdown",
   "id": "f6f67385",
   "metadata": {},
   "source": [
    "# 영상 크기 변경 \n",
    "- 크기 변경(scaling)은 입력 영상의 가로와 세로로 크기를 변경해서 목적 영상을 만드는 방버이다. 목적 영상이 입력영상보다 커지면 확대가 되고, 작이졈 축소가 된다. "
   ]
  },
  {
   "cell_type": "code",
   "execution_count": 1,
   "id": "d9491739",
   "metadata": {},
   "outputs": [],
   "source": [
    "import numpy as np, cv2, time"
   ]
  },
  {
   "cell_type": "code",
   "execution_count": 2,
   "id": "827f1b2a",
   "metadata": {},
   "outputs": [],
   "source": [
    "def scaling(img, size):  # 크기 변경 함수\n",
    "    dst = np.zeros(size[::-1], img.dtype)  # 행렬과 크기는 원소가 역순\n",
    "    ratioY, ratioX = np.divide(size[::-1], img.shape[:2])\n",
    "    y = np.arange(0, img.shape[0], 1)\n",
    "    x = np.arange(0, img.shape[1], 1)\n",
    "    y, x = np.meshgrid(y, x)\n",
    "    i, j = np.int32(y * ratioY), np.int32(x * ratioX)\n",
    "    dst[i, j] = img[y, x]\n",
    "    return dst"
   ]
  },
  {
   "cell_type": "code",
   "execution_count": 3,
   "id": "b8f698d1",
   "metadata": {},
   "outputs": [],
   "source": [
    "def scaling2(img, size):  # 크기 변경 함수\n",
    "    dst = np.zeros(size[::-1], img.dtype)  # 행렬과 크기는 원소가 역순\n",
    "    ratioY, ratioX = np.divide(size[::-1], img.shape[:2])\n",
    "    for y in range(img.shape[0]):  # 입력 영상 순회 - 순방향 사상\n",
    "        for x in range(img.shape[1]):\n",
    "            i, j = int(y * ratioY), int(x * ratioX)  # 목적 영상의 y, x 좌표\n",
    "            dst[i, j] = img[y, x]\n",
    "    return dst"
   ]
  },
  {
   "cell_type": "code",
   "execution_count": 4,
   "id": "1ace736d",
   "metadata": {},
   "outputs": [],
   "source": [
    "def time_check(func, image, size, title):  ## 수행시간 체크 함수\n",
    "    start_time = time.perf_counter()\n",
    "    ret_img = func(image, size)\n",
    "    elapsed = (time.perf_counter() - start_time) * 1000\n",
    "    print(title, \" 수행시간 = %0.2f ms\" % elapsed)\n",
    "    return ret_img"
   ]
  },
  {
   "cell_type": "code",
   "execution_count": 5,
   "id": "8d27ae1c",
   "metadata": {},
   "outputs": [],
   "source": [
    "image = cv2.imread('img/scaling.jpg', cv2.IMREAD_GRAYSCALE)\n",
    "if image is None: raise Exception(\"영상 파일을 읽기 에러\")"
   ]
  },
  {
   "cell_type": "code",
   "execution_count": 6,
   "id": "bebc596d",
   "metadata": {},
   "outputs": [
    {
     "name": "stdout",
     "output_type": "stream",
     "text": [
      "[방법1] 정방행렬 방식>  수행시간 = 3.90 ms\n",
      "[방법2] 반복문 방식>  수행시간 = 121.54 ms\n"
     ]
    }
   ],
   "source": [
    "dst1 = scaling(image, (150, 200))  # 크기 변경 - 축소\n",
    "dst2 = scaling2(image, (150, 200))  # 크기 변경 - 축소\n",
    "dst3 = time_check(scaling, image, (300, 400), \"[방법1] 정방행렬 방식>\")\n",
    "dst4 = time_check(scaling2, image, (300, 400), \"[방법2] 반복문 방식>\")"
   ]
  },
  {
   "cell_type": "code",
   "execution_count": 7,
   "id": "91b12449",
   "metadata": {},
   "outputs": [
    {
     "data": {
      "text/plain": [
       "-1"
      ]
     },
     "execution_count": 7,
     "metadata": {},
     "output_type": "execute_result"
    }
   ],
   "source": [
    "cv2.imshow(\"image\", image)\n",
    "cv2.imshow(\"dst1- zoom out\", dst1)\n",
    "cv2.imshow(\"dst3- zoom out\", dst3)\n",
    "cv2.resizeWindow(\"dst1- zoom out\", 260, 200)  # 윈도우 크기 확장\n",
    "cv2.waitKey(0)"
   ]
  },
  {
   "cell_type": "markdown",
   "id": "b0116725",
   "metadata": {},
   "source": [
    "![result](img/scaling_result.png)"
   ]
  },
  {
   "cell_type": "code",
   "execution_count": null,
   "id": "309da1d6",
   "metadata": {},
   "outputs": [],
   "source": []
  }
 ],
 "metadata": {
  "kernelspec": {
   "display_name": "Python 3",
   "language": "python",
   "name": "python3"
  },
  "language_info": {
   "codemirror_mode": {
    "name": "ipython",
    "version": 3
   },
   "file_extension": ".py",
   "mimetype": "text/x-python",
   "name": "python",
   "nbconvert_exporter": "python",
   "pygments_lexer": "ipython3",
   "version": "3.7.7"
  }
 },
 "nbformat": 4,
 "nbformat_minor": 5
}
