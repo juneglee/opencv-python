{
 "cells": [
  {
   "cell_type": "markdown",
   "metadata": {},
   "source": [
    "#  Mat::ptr()을 통한 행렬 원소 접근"
   ]
  },
  {
   "cell_type": "code",
   "execution_count": 1,
   "metadata": {},
   "outputs": [],
   "source": [
    "import numpy as np, cv2, time"
   ]
  },
  {
   "cell_type": "code",
   "execution_count": 2,
   "metadata": {},
   "outputs": [],
   "source": [
    "def pixel_access1(image):\n",
    "    image1 = np.zeros(image.shape[:2], image.dtype)\n",
    "    for i in range(image.shape[0]):\n",
    "        for j in range(image.shape[1]):\n",
    "            pixel = image[i,j]                  # 화소 접근\n",
    "            image1[i, j] =  255 - pixel            # 화소 할당\n",
    "    return image1"
   ]
  },
  {
   "cell_type": "code",
   "execution_count": 3,
   "metadata": {},
   "outputs": [],
   "source": [
    "def pixel_access2(image):\n",
    "    image2 = np.zeros(image.shape[:2], image.dtype)\n",
    "    for i in range(image.shape[0]):\n",
    "        for j in range(image.shape[1]):\n",
    "            pixel = image.item(i, j)  # 화소 접근\n",
    "            image2.itemset((i, j),  255 - pixel)  # 화소 할당\n",
    "    return image2"
   ]
  },
  {
   "cell_type": "code",
   "execution_count": 4,
   "metadata": {},
   "outputs": [],
   "source": [
    "def pixel_access3(image):\n",
    "    lut = [255 - i for i in range(256)]  # 룩업테이블 생성\n",
    "    lut = np.array(lut, np.uint8)\n",
    "    image3 = lut[image]\n",
    "    return image3"
   ]
  },
  {
   "cell_type": "code",
   "execution_count": 5,
   "metadata": {},
   "outputs": [],
   "source": [
    "def pixel_access4(image):\n",
    "    image4 = cv2.subtract(255, image)\n",
    "    return image4"
   ]
  },
  {
   "cell_type": "code",
   "execution_count": 6,
   "metadata": {},
   "outputs": [],
   "source": [
    "def pixel_access5(image):\n",
    "    image5 = 255 - image\n",
    "    return image5"
   ]
  },
  {
   "cell_type": "code",
   "execution_count": 7,
   "metadata": {},
   "outputs": [],
   "source": [
    "image = cv2.imread(\"img/bright.jpg\", cv2.IMREAD_GRAYSCALE)\n",
    "if image is None: raise Exception(\"영상 파일 읽기 오류 발생\")"
   ]
  },
  {
   "cell_type": "code",
   "execution_count": 8,
   "metadata": {},
   "outputs": [],
   "source": [
    "# 수행시간 체크\n",
    "def time_check(func, msg):\n",
    "    start_time = time.perf_counter()\n",
    "    ret_img = func(image)\n",
    "    elapsed = (time.perf_counter() - start_time) * 1000\n",
    "    print(msg, \"수행시간 : %.2f ms\" % elapsed)\n",
    "    return ret_img"
   ]
  },
  {
   "cell_type": "code",
   "execution_count": 9,
   "metadata": {},
   "outputs": [
    {
     "name": "stdout",
     "output_type": "stream",
     "text": [
      "[방법 1] 직접 접근 방식 수행시간 : 586.87 ms\n",
      "[방법 2] item() 함수 방식 수행시간 : 55.74 ms\n",
      "[방법 3] 룩업 테이블 방식 수행시간 : 9.37 ms\n",
      "[방법 4] OpenCV 함수 방식 수행시간 : 4.04 ms\n",
      "[방법 5] ndarray 연산 방식 수행시간 : 0.77 ms\n"
     ]
    },
    {
     "data": {
      "text/plain": [
       "-1"
      ]
     },
     "execution_count": 9,
     "metadata": {},
     "output_type": "execute_result"
    }
   ],
   "source": [
    "image1 = time_check(pixel_access1, \"[방법 1] 직접 접근 방식\")\n",
    "image2 = time_check(pixel_access2, \"[방법 2] item() 함수 방식\")\n",
    "image3 = time_check(pixel_access3, \"[방법 3] 룩업 테이블 방식\")\n",
    "image4 = time_check(pixel_access4, \"[방법 4] OpenCV 함수 방식\")\n",
    "image5 = time_check(pixel_access5, \"[방법 5] ndarray 연산 방식\")\n",
    "\n",
    "# 결과 영상 보기\n",
    "cv2.imshow(\"image  - original\", image)\n",
    "cv2.imshow(\"image1 - directly access to pixel\", image1)\n",
    "cv2.imshow(\"image2 - item()/itemset()\", image2)\n",
    "cv2.imshow(\"image3 - LUT\", image3)\n",
    "cv2.imshow(\"image4 - OpenCV\", image4)\n",
    "cv2.imshow(\"image5 - ndarray 방식\", image5)\n",
    "cv2.waitKey(0)"
   ]
  },
  {
   "cell_type": "markdown",
   "metadata": {},
   "source": [
    "![result](img/02_result.png)"
   ]
  },
  {
   "cell_type": "code",
   "execution_count": null,
   "metadata": {},
   "outputs": [],
   "source": []
  }
 ],
 "metadata": {
  "kernelspec": {
   "display_name": "Python 3",
   "language": "python",
   "name": "python3"
  },
  "language_info": {
   "codemirror_mode": {
    "name": "ipython",
    "version": 3
   },
   "file_extension": ".py",
   "mimetype": "text/x-python",
   "name": "python",
   "nbconvert_exporter": "python",
   "pygments_lexer": "ipython3",
   "version": "3.7.7"
  }
 },
 "nbformat": 4,
 "nbformat_minor": 4
}
