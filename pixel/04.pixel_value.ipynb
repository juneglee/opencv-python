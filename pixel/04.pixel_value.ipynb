{
 "cells": [
  {
   "cell_type": "markdown",
   "metadata": {},
   "source": [
    "# 영상 화소값 확인"
   ]
  },
  {
   "cell_type": "code",
   "execution_count": 1,
   "metadata": {},
   "outputs": [],
   "source": [
    "import cv2"
   ]
  },
  {
   "cell_type": "code",
   "execution_count": 2,
   "metadata": {},
   "outputs": [],
   "source": [
    "image = cv2.imread(\"img/pixel.jpg\", cv2.IMREAD_GRAYSCALE) # 영상 읽기\n",
    "if image is None: raise Exception(\"영상 파일 읽기 오류\")"
   ]
  },
  {
   "cell_type": "code",
   "execution_count": 3,
   "metadata": {},
   "outputs": [],
   "source": [
    "(x,y),(w,h) = (180, 37), (15, 10)                   # 좌표는 x, y\n",
    "roi_img = image[y:y+h, x:x+w]                   # 행렬 접근은 y, x"
   ]
  },
  {
   "cell_type": "code",
   "execution_count": 4,
   "metadata": {},
   "outputs": [
    {
     "name": "stdout",
     "output_type": "stream",
     "text": [
      "[roi_img] =\n",
      "  56  51  59  66  84 104 154 206 220 208 203 207 205 204 204\n",
      "  75  57  53  53  72  71 100 152 195 214 212 201 209 207 205\n",
      "  88  76  65  53  51  60  73  96 143 200 219 200 206 204 202\n",
      "  91  92  80  63  53  59  59  61  89 144 195 222 205 200 205\n",
      "  89  94  90  82  63  54  51  56  65  92 149 203 223 209 196\n",
      "  89  91  90  89  84  64  54  55  51  56  94 140 208 223 203\n",
      "  91  86  84  85  97  86  72  59  50  53  66  81 148 211 216\n",
      "  92  86  85  88  92  95  88  70  55  53  59  64  89 155 211\n",
      "  88  85  86  90  87  87  89  86  72  56  50  53  59  88 175\n",
      "  87  85  86  88  87  84  86  90  86  70  53  44  51  56 111\n"
     ]
    }
   ],
   "source": [
    "print(\"[roi_img] =\")\n",
    "for row in roi_img:\n",
    "    for p in row:\n",
    "        print(\"%4d\" % p, end=\"\")       # 행렬 원 하나 출력\n",
    "    print()"
   ]
  },
  {
   "cell_type": "code",
   "execution_count": 5,
   "metadata": {},
   "outputs": [
    {
     "data": {
      "text/plain": [
       "-1"
      ]
     },
     "execution_count": 5,
     "metadata": {},
     "output_type": "execute_result"
    }
   ],
   "source": [
    "cv2.rectangle(image, (x,y, w,h), 255, 1)\n",
    "cv2.imshow(\"image\", image)\n",
    "cv2.waitKey(0)"
   ]
  },
  {
   "cell_type": "markdown",
   "metadata": {},
   "source": [
    "![result](img/04_result.png)"
   ]
  },
  {
   "cell_type": "code",
   "execution_count": null,
   "metadata": {},
   "outputs": [],
   "source": []
  }
 ],
 "metadata": {
  "kernelspec": {
   "display_name": "Python 3",
   "language": "python",
   "name": "python3"
  },
  "language_info": {
   "codemirror_mode": {
    "name": "ipython",
    "version": 3
   },
   "file_extension": ".py",
   "mimetype": "text/x-python",
   "name": "python",
   "nbconvert_exporter": "python",
   "pygments_lexer": "ipython3",
   "version": "3.7.7"
  }
 },
 "nbformat": 4,
 "nbformat_minor": 4
}
