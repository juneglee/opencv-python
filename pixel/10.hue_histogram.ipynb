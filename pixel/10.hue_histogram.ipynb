{
 "cells": [
  {
   "cell_type": "markdown",
   "metadata": {},
   "source": [
    "# 색상 히스토그램 그리기"
   ]
  },
  {
   "cell_type": "code",
   "execution_count": 1,
   "metadata": {},
   "outputs": [],
   "source": [
    "import numpy as np, cv2"
   ]
  },
  {
   "cell_type": "code",
   "execution_count": 2,
   "metadata": {},
   "outputs": [],
   "source": [
    "def make_palette(rows):\n",
    "    # 리스트 생성 방식\n",
    "    hue = [round(i * 180 / rows) for i in range(rows)]  # hue 값 리스트 계산\n",
    "    hsv = [[(h, 255, 255)] for h in hue]                # (hue, 255,255) 화소값 계산\n",
    "    hsv = np.array(hsv, np.uint8)                       # numpy 행렬의 uint8형 변환\n",
    "    # # 반복문 방식\n",
    "    # hsv = np.full((rows, 1, 3), (255,255,255), np.uint8)\n",
    "    # for i in range(0, rows):                                # 행수만큼 반복\n",
    "    #     hue = round(i / rows * 180 )                        # 색상 계산\n",
    "    #     hsv[i] = (hue, 255, 255)                            # HSV 컬러 지정\n",
    "\n",
    "    return cv2.cvtColor(hsv, cv2.COLOR_HSV2BGR)         # HSV 컬러 -> BGR 컬러\n"
   ]
  },
  {
   "cell_type": "code",
   "execution_count": 3,
   "metadata": {},
   "outputs": [],
   "source": [
    "\n",
    "def draw_histo_hue(hist, shape=(200, 256,3)):\n",
    "    hsv_palate = make_palette(hist.shape[0])                      # 색상 팔레트 생성\n",
    "    hist_img = np.full(shape, 255, np.uint8)\n",
    "    cv2.normalize(hist, hist, 0, shape[0], cv2.NORM_MINMAX)    # 정규화\n",
    "\n",
    "    gap = hist_img.shape[1] / hist.shape[0]  # 한 계급 크기\n",
    "    for i, h in enumerate(hist):\n",
    "        x, w = int(round(i * gap)), int(round(gap))\n",
    "        color = tuple(map(int, hsv_palate[i][0]))                    # 정수형 튜플로 변환\n",
    "        cv2.rectangle(hist_img, (x,0,w, int(h) ), color , cv2.FILLED) # 팔레트 색으로 그리기\n",
    "\n",
    "    return cv2.flip(hist_img, 0)\n"
   ]
  },
  {
   "cell_type": "code",
   "execution_count": 4,
   "metadata": {},
   "outputs": [
    {
     "data": {
      "text/plain": [
       "-1"
      ]
     },
     "execution_count": 4,
     "metadata": {},
     "output_type": "execute_result"
    }
   ],
   "source": [
    "image = cv2.imread(\"img/hue_hist.jpg\", cv2.IMREAD_COLOR)  # 영상 읽기\n",
    "if image is None: raise Exception(\"영상 파일 읽기 오류\")\n",
    "\n",
    "hsv_img = cv2.cvtColor(image, cv2.COLOR_BGR2HSV)   # BGR 컬러 -> HSV 컬러     \n",
    "hue_hist = cv2.calcHist( [hsv_img], [0], None, [18], [0,180])       # Hue 채널 히스토그램 계산\n",
    "hue_hist_img = draw_histo_hue(hue_hist, (200, 360, 3)) # 히스토그램 그래프\n",
    "\n",
    "cv2.imshow(\"image\", image)\n",
    "cv2.imshow(\"hue_hist_img\", hue_hist_img)\n",
    "cv2.waitKey(0)"
   ]
  },
  {
   "cell_type": "markdown",
   "metadata": {},
   "source": [
    "![result](img/10_result.png)"
   ]
  },
  {
   "cell_type": "code",
   "execution_count": null,
   "metadata": {},
   "outputs": [],
   "source": []
  }
 ],
 "metadata": {
  "kernelspec": {
   "display_name": "Python 3",
   "language": "python",
   "name": "python3"
  },
  "language_info": {
   "codemirror_mode": {
    "name": "ipython",
    "version": 3
   },
   "file_extension": ".py",
   "mimetype": "text/x-python",
   "name": "python",
   "nbconvert_exporter": "python",
   "pygments_lexer": "ipython3",
   "version": "3.7.7"
  }
 },
 "nbformat": 4,
 "nbformat_minor": 4
}
