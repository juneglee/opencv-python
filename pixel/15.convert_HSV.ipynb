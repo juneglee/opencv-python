{
 "cells": [
  {
   "cell_type": "markdown",
   "metadata": {},
   "source": [
    "# BGR -> HSV"
   ]
  },
  {
   "cell_type": "code",
   "execution_count": 1,
   "metadata": {},
   "outputs": [],
   "source": [
    "import numpy as np, cv2, math"
   ]
  },
  {
   "cell_type": "code",
   "execution_count": 2,
   "metadata": {},
   "outputs": [],
   "source": [
    "def calc_hsi(bgr):\n",
    "    # B, G, R = bgr.astype(float)                           # float 형 변환\n",
    "    B, G, R = float(bgr[0]), float(bgr[1]), float(bgr[2])       # 속도면에 유리\n",
    "    bgr_sum = (R + G + B)\n",
    "    # 색상 계산\n",
    "    tmp1 = ((R - G) + (R - B)) * 0.5\n",
    "    tmp2 = math.sqrt((R - G) * (R - G) + (R - B) * (G - B))\n",
    "    angle = math.acos(tmp1 / tmp2) * (180 / np.pi) if tmp2 else 0\n",
    "\n",
    "    H = angle if B <= G else 360 - angle\n",
    "    S = 1.0 - 3 * min([R, G, B]) / bgr_sum if bgr_sum else 0\n",
    "    I = bgr_sum / 3                                                # 명도 계산\n",
    "    return (H/2, S*255, I)"
   ]
  },
  {
   "cell_type": "code",
   "execution_count": 4,
   "metadata": {},
   "outputs": [],
   "source": [
    "# BGR 컬러 -> HSI 컬러\n",
    "def bgr2hsi(image):\n",
    "    hsv = [[calc_hsi(pixel) for pixel in row] for row in image ]   # 2차원 배열 순회\n",
    "    return (np.array(hsv)).astype('uint8')\n",
    "\n",
    "BGR_img = cv2.imread(\"img/color_space.jpg\", cv2.IMREAD_COLOR) # 컬러 영상 읽기\n",
    "if BGR_img is None: raise Exception(\"영상 파일 읽기 오류\")\n",
    "\n",
    "HSI_img = bgr2hsi(BGR_img)                  # BGR를 HSI로 변환\n",
    "HSV_img = cv2.cvtColor(BGR_img, cv2.COLOR_BGR2HSV) # OpenCV 함수\n",
    "Hue, Saturation, Intensity = cv2.split(HSI_img)                    # 채널 분리\n",
    "Hue2, Saturation2, Intensity2 = cv2.split(HSV_img) \t\t\t\t\t# 채널 분리\n"
   ]
  },
  {
   "cell_type": "code",
   "execution_count": 5,
   "metadata": {},
   "outputs": [
    {
     "data": {
      "text/plain": [
       "-1"
      ]
     },
     "execution_count": 5,
     "metadata": {},
     "output_type": "execute_result"
    }
   ],
   "source": [
    "titles = ['BGR_img','Hue','Saturation','Intensity']\n",
    "[cv2.imshow(t, eval(t)) for t in titles]\n",
    "[cv2.imshow('OpenCV_'+t, eval(t+'2')) for t in titles[1:]]\t# OpenCV 결과 영상 표시\n",
    "cv2.waitKey(0)"
   ]
  },
  {
   "cell_type": "markdown",
   "metadata": {},
   "source": [
    "![result](img/15_result.png)"
   ]
  },
  {
   "cell_type": "code",
   "execution_count": null,
   "metadata": {},
   "outputs": [],
   "source": []
  }
 ],
 "metadata": {
  "kernelspec": {
   "display_name": "Python 3",
   "language": "python",
   "name": "python3"
  },
  "language_info": {
   "codemirror_mode": {
    "name": "ipython",
    "version": 3
   },
   "file_extension": ".py",
   "mimetype": "text/x-python",
   "name": "python",
   "nbconvert_exporter": "python",
   "pygments_lexer": "ipython3",
   "version": "3.7.7"
  }
 },
 "nbformat": 4,
 "nbformat_minor": 4
}
