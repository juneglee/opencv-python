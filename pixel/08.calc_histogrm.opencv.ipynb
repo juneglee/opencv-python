{
 "cells": [
  {
   "cell_type": "markdown",
   "metadata": {},
   "source": [
    "# 영상 히스토그램 계산"
   ]
  },
  {
   "cell_type": "code",
   "execution_count": 1,
   "metadata": {},
   "outputs": [],
   "source": [
    "import numpy as np, cv2"
   ]
  },
  {
   "cell_type": "code",
   "execution_count": 5,
   "metadata": {},
   "outputs": [],
   "source": [
    "def calc_histo(image, channels, hsize, ranges ):\n",
    "    ch = len(channels)\n",
    "    shape = hsize if ch >1 else (hsize[0], 1)\n",
    "    hist = np.zeros(shape, np.float32)         # 히스토그램 누적 행렬\n",
    "    gap = np.divide(ranges[1::2], hsize)                # 계급 간격\n",
    "\n",
    "    for row in image:  # 2차원 행렬 순회 방식\n",
    "        for val in row:\n",
    "            idx = np.divide(val[channels], gap).astype('uint')\n",
    "            hist[tuple(idx)]+= 1\n",
    "    return hist"
   ]
  },
  {
   "cell_type": "code",
   "execution_count": 8,
   "metadata": {},
   "outputs": [],
   "source": [
    "image = cv2.imread(\"img/pixel.jpg\") # 영상 읽기\n",
    "if image is None: raise Exception(\"영상 파일 읽기 오류 발생\")"
   ]
  },
  {
   "cell_type": "code",
   "execution_count": 9,
   "metadata": {},
   "outputs": [
    {
     "name": "stdout",
     "output_type": "stream",
     "text": [
      "사용자 정의 함수: \n",
      " [[2.0220e+03 4.6920e+03 5.3890e+03 9.1500e+02 6.9000e+01 0.0000e+00\n",
      "  0.0000e+00 0.0000e+00]\n",
      " [1.2210e+03 2.2990e+03 1.9860e+03 3.3230e+03 5.9920e+03 8.9000e+02\n",
      "  0.0000e+00 0.0000e+00]\n",
      " [5.2000e+01 3.3280e+03 1.4240e+03 1.0690e+03 1.0250e+03 7.8300e+02\n",
      "  1.0000e+00 0.0000e+00]\n",
      " [0.0000e+00 4.1500e+02 2.1020e+03 1.6460e+03 9.1700e+02 4.1600e+02\n",
      "  5.0000e+00 0.0000e+00]\n",
      " [0.0000e+00 0.0000e+00 2.9400e+02 1.1890e+03 2.6190e+03 1.0360e+03\n",
      "  1.2200e+02 0.0000e+00]\n",
      " [0.0000e+00 0.0000e+00 0.0000e+00 4.6000e+01 8.2400e+02 8.7820e+03\n",
      "  2.0220e+03 4.0000e+00]\n",
      " [0.0000e+00 0.0000e+00 0.0000e+00 0.0000e+00 4.0000e+00 4.1200e+02\n",
      "  1.0451e+04 5.3200e+02]\n",
      " [0.0000e+00 0.0000e+00 0.0000e+00 0.0000e+00 0.0000e+00 2.0000e+00\n",
      "  3.0300e+02 1.3770e+03]]\n",
      "사용자 정의 함수: \n",
      " [[2.0220e+03 4.6920e+03 5.3890e+03 9.1500e+02 6.9000e+01 0.0000e+00\n",
      "  0.0000e+00 0.0000e+00]\n",
      " [1.2210e+03 2.2990e+03 1.9860e+03 3.3230e+03 5.9920e+03 8.9000e+02\n",
      "  0.0000e+00 0.0000e+00]\n",
      " [5.2000e+01 3.3280e+03 1.4240e+03 1.0690e+03 1.0250e+03 7.8300e+02\n",
      "  1.0000e+00 0.0000e+00]\n",
      " [0.0000e+00 4.1500e+02 2.1020e+03 1.6460e+03 9.1700e+02 4.1600e+02\n",
      "  5.0000e+00 0.0000e+00]\n",
      " [0.0000e+00 0.0000e+00 2.9400e+02 1.1890e+03 2.6190e+03 1.0360e+03\n",
      "  1.2200e+02 0.0000e+00]\n",
      " [0.0000e+00 0.0000e+00 0.0000e+00 4.6000e+01 8.2400e+02 8.7820e+03\n",
      "  2.0220e+03 4.0000e+00]\n",
      " [0.0000e+00 0.0000e+00 0.0000e+00 0.0000e+00 4.0000e+00 4.1200e+02\n",
      "  1.0451e+04 5.3200e+02]\n",
      " [0.0000e+00 0.0000e+00 0.0000e+00 0.0000e+00 0.0000e+00 2.0000e+00\n",
      "  3.0300e+02 1.3770e+03]]\n"
     ]
    },
    {
     "data": {
      "text/plain": [
       "-1"
      ]
     },
     "execution_count": 9,
     "metadata": {},
     "output_type": "execute_result"
    }
   ],
   "source": [
    "ch, hsize, ranges =[0,1],  [8, 8], [0, 256,0, 256]                  # 히스토그램 간격수, 값 범위\n",
    "hist1 = calc_histo(image, ch ,hsize, ranges)                  # 사용자 정의 히스토그램 계산\n",
    "hist2 = cv2.calcHist([image], ch, None, hsize, ranges)  # OpenCV 함수\n",
    "\n",
    "print(\"사용자 정의 함수: \\n\", hist1)                           # 행렬을 벡터로 변환하여 출력\n",
    "print(\"사용자 정의 함수: \\n\", hist2)\n",
    "cv2.imshow(\"image\", image)\n",
    "cv2.waitKey(0)"
   ]
  },
  {
   "cell_type": "code",
   "execution_count": null,
   "metadata": {},
   "outputs": [],
   "source": []
  }
 ],
 "metadata": {
  "kernelspec": {
   "display_name": "Python 3",
   "language": "python",
   "name": "python3"
  },
  "language_info": {
   "codemirror_mode": {
    "name": "ipython",
    "version": 3
   },
   "file_extension": ".py",
   "mimetype": "text/x-python",
   "name": "python",
   "nbconvert_exporter": "python",
   "pygments_lexer": "ipython3",
   "version": "3.7.7"
  }
 },
 "nbformat": 4,
 "nbformat_minor": 4
}
