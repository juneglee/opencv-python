{
 "cells": [
  {
   "cell_type": "markdown",
   "metadata": {},
   "source": [
    "# 히스토그램 스트래칭"
   ]
  },
  {
   "cell_type": "code",
   "execution_count": 1,
   "metadata": {},
   "outputs": [],
   "source": [
    "import numpy as np, cv2"
   ]
  },
  {
   "cell_type": "code",
   "execution_count": 2,
   "metadata": {},
   "outputs": [],
   "source": [
    "def make_palette(rows):\n",
    "    # 리스트 생성 방식\n",
    "    hue = [round(i * 180 / rows) for i in range(rows)]  # hue 값 리스트 계산\n",
    "    hsv = [[(h, 255, 255)] for h in hue]                # (hue, 255,255) 화소값 계산\n",
    "    hsv = np.array(hsv, np.uint8)                       # numpy 행렬의 uint8형 변환\n",
    "    # # 반복문 방식\n",
    "    # hsv = np.full((rows, 1, 3), (255,255,255), np.uint8)\n",
    "    # for i in range(0, rows):                                # 행수만큼 반복\n",
    "    #     hue = round(i / rows * 180 )                        # 색상 계산\n",
    "    #     hsv[i] = (hue, 255, 255)                            # HSV 컬러 지정\n",
    "\n",
    "    return cv2.cvtColor(hsv, cv2.COLOR_HSV2BGR)         # HSV 컬러 -> BGR 컬러\n"
   ]
  },
  {
   "cell_type": "code",
   "execution_count": 3,
   "metadata": {},
   "outputs": [],
   "source": [
    "def draw_histo_hue(hist, shape=(200, 256,3)):\n",
    "    hsv_palate = make_palette(hist.shape[0])                      # 색상 팔레트 생성\n",
    "    hist_img = np.full(shape, 255, np.uint8)\n",
    "    cv2.normalize(hist, hist, 0, shape[0], cv2.NORM_MINMAX)    # 정규화\n",
    "\n",
    "    gap = hist_img.shape[1] / hist.shape[0]  # 한 계급 크기\n",
    "    for i, h in enumerate(hist):\n",
    "        x, w = int(round(i * gap)), int(round(gap))\n",
    "        color = tuple(map(int, hsv_palate[i][0]))                    # 정수형 튜플로 변환\n",
    "        cv2.rectangle(hist_img, (x,0,w, int(h) ), color , cv2.FILLED) # 팔레트 색으로 그리기\n",
    "\n",
    "    return cv2.flip(hist_img, 0)"
   ]
  },
  {
   "cell_type": "code",
   "execution_count": 4,
   "metadata": {},
   "outputs": [],
   "source": [
    "def search_value_idx(hist, bias = 0):\n",
    "    for i in range(hist.shape[0]):\n",
    "        idx = np.abs(bias - i)                     # 검색 위치 (처음 또는 마지막)\n",
    "        if hist[idx] > 0:  return idx                             # 위치 반환\n",
    "    return -1                                      # 대상 없으면 반환\n"
   ]
  },
  {
   "cell_type": "code",
   "execution_count": 5,
   "metadata": {},
   "outputs": [],
   "source": [
    "image = cv2.imread(\"img/dst.jpg\", cv2.IMREAD_GRAYSCALE)   # 영상읽기\n",
    "if image is None: raise Exception(\"영상 파일 읽기 오류\")"
   ]
  },
  {
   "cell_type": "code",
   "execution_count": 6,
   "metadata": {},
   "outputs": [],
   "source": [
    "bsize, ranges = [64], [0,256]                        # 계급 개수 및 화소 범위\n",
    "hist = cv2.calcHist([image], [0], None, bsize, ranges)\n",
    "\n",
    "bin_width  = ranges[1]/bsize[0]                      # 계급 너비\n",
    "high = search_value_idx(hist, bsize[0] - 1) * bin_width\n",
    "low  = search_value_idx(hist, 0) * bin_width\n",
    "\n",
    "idx = np.arange(0, 256)\n",
    "idx = (idx - low) * 255/(high-low)\t# 수식 적용하여 인덱스 생성\n",
    "idx[0:int(low)] = 0\n",
    "idx[int(high+1):] = 255"
   ]
  },
  {
   "cell_type": "code",
   "execution_count": 7,
   "metadata": {},
   "outputs": [],
   "source": [
    "dst = cv2.LUT(image, idx.astype('uint8'))\n",
    "## 룩업 테이블 사용하지 않고 직접 구현\n",
    "# dst = np.zeros(image.shape, dtype=image.dtype)\n",
    "# for i in range(dst.shape[0]):\n",
    "#     for j in range(dst.shape[1]):\n",
    "#         dst[i,j] = idx[image[i,j]]"
   ]
  },
  {
   "cell_type": "code",
   "execution_count": 8,
   "metadata": {},
   "outputs": [],
   "source": [
    "hist_dst = cv2.calcHist([dst], [0], None, bsize, ranges)  # 결과 영상 히스토그램 재계산\n",
    "hist_img = draw_histo_hue(hist, (200,360))          # 원본 영상 히스토그램 그리기\n",
    "hist_dst_img = draw_histo_hue(hist_dst,(200,360))  # 결과 영상 히스토그램 그리기"
   ]
  },
  {
   "cell_type": "code",
   "execution_count": 11,
   "metadata": {},
   "outputs": [
    {
     "name": "stdout",
     "output_type": "stream",
     "text": [
      "high_value =  76.0\n",
      "low_value =  12.0\n"
     ]
    },
    {
     "data": {
      "text/plain": [
       "-1"
      ]
     },
     "execution_count": 11,
     "metadata": {},
     "output_type": "execute_result"
    }
   ],
   "source": [
    "print(\"high_value = \", high)\n",
    "print(\"low_value = \" , low)\n",
    "cv2.imshow(\"image\", image)        \n",
    "cv2.imshow(\"hist_img\", hist_img)\n",
    "cv2.imshow(\"dst\", dst)             \n",
    "cv2.imshow(\"hist_dst_img\", hist_dst_img)\n",
    "cv2.waitKey(0)"
   ]
  },
  {
   "cell_type": "markdown",
   "metadata": {},
   "source": [
    "![result](img/11_result.png)"
   ]
  },
  {
   "cell_type": "code",
   "execution_count": null,
   "metadata": {},
   "outputs": [],
   "source": []
  }
 ],
 "metadata": {
  "kernelspec": {
   "display_name": "Python 3",
   "language": "python",
   "name": "python3"
  },
  "language_info": {
   "codemirror_mode": {
    "name": "ipython",
    "version": 3
   },
   "file_extension": ".py",
   "mimetype": "text/x-python",
   "name": "python",
   "nbconvert_exporter": "python",
   "pygments_lexer": "ipython3",
   "version": "3.7.7"
  }
 },
 "nbformat": 4,
 "nbformat_minor": 4
}
