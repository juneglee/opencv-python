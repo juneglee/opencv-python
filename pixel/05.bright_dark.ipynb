{
 "cells": [
  {
   "cell_type": "markdown",
   "metadata": {},
   "source": [
    "# 행렬 가감 연산 통한 영상 밝기 변경"
   ]
  },
  {
   "cell_type": "code",
   "execution_count": 1,
   "metadata": {},
   "outputs": [],
   "source": [
    "import cv2"
   ]
  },
  {
   "cell_type": "code",
   "execution_count": 2,
   "metadata": {},
   "outputs": [],
   "source": [
    "image = cv2.imread(\"img/bright.jpg\", cv2.IMREAD_GRAYSCALE)    # 영상 읽기\n",
    "if image is None: raise Exception(\"영상 파일 읽기 오류\")"
   ]
  },
  {
   "cell_type": "code",
   "execution_count": 3,
   "metadata": {},
   "outputs": [],
   "source": [
    "# OpenCV 함수 이용\n",
    "dst1 = cv2.add(image, 100)                  # 영상 밝게 saturation 방식\n",
    "dst2 = cv2.subtract(image, 100)             # 영상 어둡게"
   ]
  },
  {
   "cell_type": "code",
   "execution_count": 4,
   "metadata": {},
   "outputs": [],
   "source": [
    "# numpy array 이용\n",
    "dst3 = image + 100                          # 영상 밝게 modulo 방식\n",
    "dst4 = image - 100                          # 영상 어둡게"
   ]
  },
  {
   "cell_type": "code",
   "execution_count": 5,
   "metadata": {},
   "outputs": [
    {
     "data": {
      "text/plain": [
       "-1"
      ]
     },
     "execution_count": 5,
     "metadata": {},
     "output_type": "execute_result"
    }
   ],
   "source": [
    "cv2.imshow(\"original image\", image)\n",
    "cv2.imshow(\"dst1- bright: OpenCV\", dst1)\n",
    "cv2.imshow(\"dst2- dark: OpenCV\", dst2)\n",
    "cv2.imshow(\"dst3- bright: numpy\", dst3)\n",
    "cv2.imshow(\"dst4- dark: numpy\", dst4);\n",
    "cv2.waitKey(0)"
   ]
  },
  {
   "cell_type": "markdown",
   "metadata": {},
   "source": [
    "![result](img/05_result.png)"
   ]
  },
  {
   "cell_type": "code",
   "execution_count": null,
   "metadata": {},
   "outputs": [],
   "source": []
  }
 ],
 "metadata": {
  "kernelspec": {
   "display_name": "Python 3",
   "language": "python",
   "name": "python3"
  },
  "language_info": {
   "codemirror_mode": {
    "name": "ipython",
    "version": 3
   },
   "file_extension": ".py",
   "mimetype": "text/x-python",
   "name": "python",
   "nbconvert_exporter": "python",
   "pygments_lexer": "ipython3",
   "version": "3.7.7"
  }
 },
 "nbformat": 4,
 "nbformat_minor": 4
}
