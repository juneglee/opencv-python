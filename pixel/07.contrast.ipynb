{
 "cells": [
  {
   "cell_type": "markdown",
   "metadata": {},
   "source": [
    "# 영상 대비 변경"
   ]
  },
  {
   "cell_type": "code",
   "execution_count": 1,
   "metadata": {},
   "outputs": [],
   "source": [
    "import numpy as np, cv2"
   ]
  },
  {
   "cell_type": "code",
   "execution_count": 2,
   "metadata": {},
   "outputs": [],
   "source": [
    "image = cv2.imread(\"img/contrast.jpg\", cv2.IMREAD_GRAYSCALE)  # 영상 읽기\n",
    "if image is None: raise Exception(\"영상 파일 읽기 오류 발생\")"
   ]
  },
  {
   "cell_type": "code",
   "execution_count": 3,
   "metadata": {},
   "outputs": [],
   "source": [
    "noimage = np.zeros(image.shape[:2], image.dtype)        # 더미 영상\n",
    "avg = cv2.mean(image)[0]/2.0                            # 영상 화소 평균의 절반"
   ]
  },
  {
   "cell_type": "code",
   "execution_count": 4,
   "metadata": {},
   "outputs": [],
   "source": [
    "dst1 = cv2.scaleAdd(image, 0.2, noimage) + 20               # 영상대비 감소\n",
    "dst2 = cv2.scaleAdd(image, 2.0, noimage)                # 영상대비 증가\n",
    "dst3 = cv2.addWeighted(image, 0.5, noimage, 0, avg)     # 명암대비 감소\n",
    "dst4 = cv2.addWeighted(image, 2.0, noimage, 0,-avg)     # 명암대비 증가"
   ]
  },
  {
   "cell_type": "code",
   "execution_count": 5,
   "metadata": {},
   "outputs": [
    {
     "data": {
      "text/plain": [
       "-1"
      ]
     },
     "execution_count": 5,
     "metadata": {},
     "output_type": "execute_result"
    }
   ],
   "source": [
    "# 영상 띄우기\n",
    "cv2.imshow(\"image\", image)\n",
    "cv2.imshow(\"dst1 - decrease contrast\", dst1)\n",
    "cv2.imshow(\"dst2 - increase contrast\", dst2)\n",
    "cv2.imshow(\"dst3 - decrease contrast using average\", dst3)\n",
    "cv2.imshow(\"dst4 - increase contrast using average\", dst4)\n",
    "\n",
    "cv2.imwrite(\"img/dst.jpg\",dst1)\n",
    "cv2.waitKey(0)"
   ]
  },
  {
   "cell_type": "markdown",
   "metadata": {},
   "source": [
    "![result](img/07_result.png)"
   ]
  },
  {
   "cell_type": "code",
   "execution_count": null,
   "metadata": {},
   "outputs": [],
   "source": []
  }
 ],
 "metadata": {
  "kernelspec": {
   "display_name": "Python 3",
   "language": "python",
   "name": "python3"
  },
  "language_info": {
   "codemirror_mode": {
    "name": "ipython",
    "version": 3
   },
   "file_extension": ".py",
   "mimetype": "text/x-python",
   "name": "python",
   "nbconvert_exporter": "python",
   "pygments_lexer": "ipython3",
   "version": "3.7.7"
  }
 },
 "nbformat": 4,
 "nbformat_minor": 4
}
