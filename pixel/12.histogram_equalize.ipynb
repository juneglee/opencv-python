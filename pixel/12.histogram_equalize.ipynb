{
 "cells": [
  {
   "cell_type": "code",
   "execution_count": 3,
   "metadata": {},
   "outputs": [],
   "source": [
    "import numpy as np, cv2"
   ]
  },
  {
   "cell_type": "code",
   "execution_count": 4,
   "metadata": {},
   "outputs": [],
   "source": [
    "def make_palette(rows):\n",
    "    # 리스트 생성 방식\n",
    "    hue = [round(i * 180 / rows) for i in range(rows)]  # hue 값 리스트 계산\n",
    "    hsv = [[(h, 255, 255)] for h in hue]                # (hue, 255,255) 화소값 계산\n",
    "    hsv = np.array(hsv, np.uint8)                       # numpy 행렬의 uint8형 변환\n",
    "    \n",
    "    return cv2.cvtColor(hsv, cv2.COLOR_HSV2BGR)         # HSV 컬러 -> BGR 컬러\n",
    "\n",
    "def draw_histo_hue(hist, shape=(200, 256,3)):\n",
    "    hsv_palate = make_palette(hist.shape[0])                      # 색상 팔레트 생성\n",
    "    hist_img = np.full(shape, 255, np.uint8)\n",
    "    cv2.normalize(hist, hist, 0, shape[0], cv2.NORM_MINMAX)    # 정규화\n",
    "\n",
    "    gap = hist_img.shape[1] / hist.shape[0]  # 한 계급 크기\n",
    "    for i, h in enumerate(hist):\n",
    "        x, w = int(round(i * gap)), int(round(gap))\n",
    "        color = tuple(map(int, hsv_palate[i][0]))                    # 정수형 튜플로 변환\n",
    "        cv2.rectangle(hist_img, (x,0,w, int(h) ), color , cv2.FILLED) # 팔레트 색으로 그리기\n",
    "\n",
    "    return cv2.flip(hist_img, 0)"
   ]
  },
  {
   "cell_type": "code",
   "execution_count": 5,
   "metadata": {},
   "outputs": [],
   "source": [
    "image = cv2.imread(\"img/equalize.jpg\", cv2.IMREAD_GRAYSCALE) # 영상 읽기\n",
    "if image is None: raise Exception(\"영상 파일 읽기 오류\")"
   ]
  },
  {
   "cell_type": "code",
   "execution_count": 6,
   "metadata": {},
   "outputs": [],
   "source": [
    "bins, ranges = [256], [0, 256]\n",
    "hist = cv2.calcHist([image], [0], None, bins, ranges)    # 히스토그램 계산"
   ]
  },
  {
   "cell_type": "code",
   "execution_count": 9,
   "metadata": {},
   "outputs": [],
   "source": [
    "# 히스토그램 누적합 계산\n",
    "accum_hist = np.zeros(hist.shape[:2], np.float32)\n",
    "accum_hist[0] = hist[0]\n",
    "for i in range(1, hist.shape[0]):\n",
    "    accum_hist[i] = accum_hist[i - 1] + hist[i]\n",
    "\n",
    "accum_hist = (accum_hist / sum(hist)) * 255                 # 누적합의 정규화\n",
    "dst1 = [[accum_hist[val] for val in row] for row in image] # 화소값 할당\n",
    "dst1 = np.array(dst1, np.uint8)\n",
    "\n",
    "# #numpy 함수 및 룩업 테이블 사용\n",
    "# accum_hist = np.cumsum(hist)                      # 누적합 계산\n",
    "# cv2.normalize(accum_hist, accum_hist, 0, 255, cv2.NORM_MINMAX)  # 정규화\n",
    "# dst1 = cv2.LUT(image, accum_hist.astype(\"uint8\"))  #룩업 테이블로 화소값할당"
   ]
  },
  {
   "cell_type": "code",
   "execution_count": 11,
   "metadata": {},
   "outputs": [],
   "source": [
    "dst2 = cv2.equalizeHist(image)                # OpenCV 히스토그램 평활화\n",
    "hist1 = cv2.calcHist([dst1], [0], None, bins, ranges)   # 히스토그램 계산\n",
    "hist2 = cv2.calcHist([dst2], [0], None, bins, ranges)   # 히스토그램 계산\n",
    "hist_img = draw_histo_hue(hist)\n",
    "hist_img1 = draw_histo_hue(hist1)\n",
    "hist_img2 = draw_histo_hue(hist2)\n"
   ]
  },
  {
   "cell_type": "code",
   "execution_count": 12,
   "metadata": {},
   "outputs": [
    {
     "data": {
      "text/plain": [
       "-1"
      ]
     },
     "execution_count": 12,
     "metadata": {},
     "output_type": "execute_result"
    }
   ],
   "source": [
    "cv2.imshow(\"image\", image);             cv2.imshow(\"hist_img\", hist_img)\n",
    "cv2.imshow(\"dst1_User\", dst1);          cv2.imshow(\"User_hist\", hist_img1)\n",
    "cv2.imshow(\"dst2_OpenCV\", dst2);        cv2.imshow(\"OpenCV_hist\", hist_img2)\n",
    "cv2.waitKey(0)"
   ]
  },
  {
   "cell_type": "markdown",
   "metadata": {},
   "source": [
    "![result](img/12_result.png)"
   ]
  },
  {
   "cell_type": "code",
   "execution_count": null,
   "metadata": {},
   "outputs": [],
   "source": []
  }
 ],
 "metadata": {
  "kernelspec": {
   "display_name": "Python 3",
   "language": "python",
   "name": "python3"
  },
  "language_info": {
   "codemirror_mode": {
    "name": "ipython",
    "version": 3
   },
   "file_extension": ".py",
   "mimetype": "text/x-python",
   "name": "python",
   "nbconvert_exporter": "python",
   "pygments_lexer": "ipython3",
   "version": "3.7.7"
  }
 },
 "nbformat": 4,
 "nbformat_minor": 4
}
