{
 "cells": [
  {
   "cell_type": "markdown",
   "id": "887a3c34",
   "metadata": {},
   "source": [
    "# 허프 변환 (Hough Transform)\n",
    "- 직선 검출 방법중에서 가장 널리 사용되고 있는 것이며, 영상 내의 선, 원뿐만 아니라 임의의 형태를 지닌 물체를 감지해 내는 대표적인 기술로서 데이터 손실 및 왜곡이 포함된 영상에서도 직선을 잘 검출한다 "
   ]
  },
  {
   "cell_type": "code",
   "execution_count": 1,
   "id": "98c6de8c",
   "metadata": {},
   "outputs": [],
   "source": [
    "import numpy as np, math , cv2"
   ]
  },
  {
   "cell_type": "code",
   "execution_count": 2,
   "id": "2c9881f9",
   "metadata": {},
   "outputs": [],
   "source": [
    "# 수행시간 체크 함수\n",
    "stime = 0\n",
    "def ck_time(mode = 0 , msg = \"\"):\n",
    "    global stime\n",
    "\n",
    "    if (mode ==0 ):\n",
    "        stime = time.perf_counter()\n",
    "\n",
    "    elif (mode==1):\n",
    "       etime = time.perf_counter()\n",
    "       elapsed = (etime - stime)\n",
    "       print(\"수행시간 = %.5f sec\" % elapsed)  # 초 단위 경과 시간\n",
    "\n",
    "    elif (mode == 2):\n",
    "        etime = time.perf_counter()\n",
    "        return (etime - stime)\n",
    "\n",
    "    elif (mode== 3 ):\n",
    "        etime = time.perf_counter()\n",
    "        elapsed = (etime - stime)\n",
    "        print(\"%s = %.5f sec\" %(msg, elapsed))  # 초 단위 경과 시간"
   ]
  },
  {
   "cell_type": "markdown",
   "id": "ffb91a96",
   "metadata": {},
   "source": [
    "### 직선 누적 행렬 구성 "
   ]
  },
  {
   "cell_type": "code",
   "execution_count": 3,
   "id": "87a8170c",
   "metadata": {},
   "outputs": [],
   "source": [
    "def accumulate(image, rho, theta):\n",
    "    h, w = image.shape[:2]\n",
    "    rows, cols = (h + w) * 2 // rho, int( np.pi/theta)  # 누적행렬 너비, 높이\n",
    "    accumulate = np.zeros((rows, cols), np.int32)    # 직선 누적행렬\n",
    "\n",
    "    sin_cos = [(np.sin(t * theta), np.cos(t * theta)) for t in range(cols)]  # 삼각 함수값 미리 저장\n",
    "    # pts = [(y, x) for x in range(w) for y in range(h) if image[y, x] > 0 ]\n",
    "    pts = np.where(image > 0)\n",
    "\n",
    "    polars = np.dot(sin_cos, pts).T            # 행렬곱으로 허프 변환 수식 계산\n",
    "    polars = (polars/ rho + rows / 2)           # 해상도 변경 및 위치 조정\n",
    "\n",
    "    for row in polars.astype(int):\n",
    "       for t, r in enumerate(row):\n",
    "          accumulate[r, t] += 1                     # 좌표 누적\n",
    "\n",
    "    return accumulate"
   ]
  },
  {
   "cell_type": "markdown",
   "id": "a67e6fb3",
   "metadata": {},
   "source": [
    "### 허프 누적 행렬의 지역 최대값 선정"
   ]
  },
  {
   "cell_type": "code",
   "execution_count": 4,
   "id": "49a3b670",
   "metadata": {},
   "outputs": [],
   "source": [
    "def masking(accumulate, h, w, thresh):\n",
    "    rows, cols = accumulate.shape[:2]\n",
    "    dst = np.zeros(accumulate.shape, np.uint32)\n",
    "\n",
    "    for y in range(0, rows, h):             # 누적행렬 조회\n",
    "        for x in range(0, cols, w):\n",
    "            roi = accumulate[y:y+h, x:x+w]\n",
    "            _ , max, _, (x0, y0) = cv2.minMaxLoc(roi)\n",
    "            dst[y+y0, x+x0] = max\n",
    "    return dst"
   ]
  },
  {
   "cell_type": "markdown",
   "id": "7176e541",
   "metadata": {},
   "source": [
    "### 임계값 이상인 누적값(직선) 선별"
   ]
  },
  {
   "cell_type": "code",
   "execution_count": 5,
   "id": "c6954175",
   "metadata": {},
   "outputs": [],
   "source": [
    "def select_lines(acc_dst, rho, theta, thresh):\n",
    "    rows = acc_dst.shape[0]\n",
    "    r, t = np.where(acc_dst>thresh)             # 임계값 이상인 좌표(세로, 가로)\n",
    "\n",
    "    rhos = ((r - (rows / 2)) * rho)             # rho 계산\n",
    "    radians = t * theta                          # theta 계산\n",
    "    value = acc_dst[r,t]                        # 임계값 이상인 누적값\n",
    "\n",
    "    idx = np.argsort(value)[::-1]       # 누적값 기준 세로 방향 내림차순 정렬\n",
    "    lines = np.transpose([rhos, radians])        # ndarray 객체 생성후 전치\n",
    "    lines = lines[idx, :]                          # 누적값에 다른 정렬\n",
    "\n",
    "    return np.expand_dims(lines, axis=1)"
   ]
  },
  {
   "cell_type": "markdown",
   "id": "730ba402",
   "metadata": {},
   "source": [
    "### 허프 변환을 이용한 직선 검출"
   ]
  },
  {
   "cell_type": "code",
   "execution_count": 6,
   "id": "5717e01e",
   "metadata": {},
   "outputs": [],
   "source": [
    "def houghLines(src, rho, theta, thresh):\n",
    "    acc_mat = accumulate(src, rho, theta)  # 허프 누적 행렬 계산\n",
    "    acc_dst = masking(acc_mat, 7, 3, thresh)  # 마스킹 처리 7행,3열\n",
    "    lines = select_lines(acc_dst, rho, theta, thresh)  # 직선 가져오기\n",
    "    return lines\n",
    "\n",
    "def draw_houghLines(src, lines, nline):\n",
    "    dst = cv2.cvtColor(src, cv2.COLOR_GRAY2BGR)  # 컬러 영상 변환\n",
    "    min_length = min(len(lines), nline)\n",
    "\n",
    "    for i in range(min_length):\n",
    "        rho, radian = lines[i, 0, 0:2]  # 수직거리 , 각도 - 3차원 행렬임\n",
    "        a, b = math.cos(radian), math.sin(radian)\n",
    "        pt = (a * rho, b * rho)  # 검출 직선상의 한 좌표 계산\n",
    "        delta = (-1000 * b, 1000 * a)  # 직선상의 이동 위치\n",
    "        pt1 = np.add(pt, delta).astype('int')\n",
    "        pt2 = np.subtract(pt, delta).astype('int')\n",
    "        cv2.line(dst, tuple(pt1), tuple(pt2), (0, 255, 0), 2, cv2.LINE_AA)\n",
    "\n",
    "    return dst\n"
   ]
  },
  {
   "cell_type": "code",
   "execution_count": 7,
   "id": "d7ec8d2b",
   "metadata": {},
   "outputs": [],
   "source": [
    "image = cv2.imread('img/hough.jpg', cv2.IMREAD_GRAYSCALE)\n",
    "if image is None: raise Exception(\"영상 파일 읽기 에러\")\n",
    "blur  = cv2.GaussianBlur(image, (5, 5), 2, 2)\n",
    "canny = cv2.Canny(blur, 100, 200, 5)"
   ]
  },
  {
   "cell_type": "code",
   "execution_count": 8,
   "id": "29eea7a3",
   "metadata": {},
   "outputs": [
    {
     "data": {
      "text/plain": [
       "-1"
      ]
     },
     "execution_count": 8,
     "metadata": {},
     "output_type": "execute_result"
    }
   ],
   "source": [
    "rho, theta = 1,  np.pi / 180\n",
    "lines1 = houghLines(canny, rho, theta, 80)\n",
    "lines2 = cv2.HoughLines(canny, rho, theta, 80)\n",
    "dst1 = draw_houghLines(canny, lines1, 7)\n",
    "dst2 = draw_houghLines(canny, lines2, 7)\n",
    "\n",
    "cv2.imshow(\"image\", image)\n",
    "cv2.imshow(\"canny\", canny)\n",
    "cv2.imshow(\"detected lines\", dst1)\n",
    "cv2.imshow(\"detected lines_OpenCV\", dst2)\n",
    "cv2.waitKey(0)"
   ]
  },
  {
   "cell_type": "markdown",
   "id": "046a908c",
   "metadata": {},
   "source": [
    "![result](img/hough_result.png)"
   ]
  },
  {
   "cell_type": "code",
   "execution_count": null,
   "id": "4ed733e5",
   "metadata": {},
   "outputs": [],
   "source": []
  }
 ],
 "metadata": {
  "kernelspec": {
   "display_name": "Python 3",
   "language": "python",
   "name": "python3"
  },
  "language_info": {
   "codemirror_mode": {
    "name": "ipython",
    "version": 3
   },
   "file_extension": ".py",
   "mimetype": "text/x-python",
   "name": "python",
   "nbconvert_exporter": "python",
   "pygments_lexer": "ipython3",
   "version": "3.7.7"
  }
 },
 "nbformat": 4,
 "nbformat_minor": 5
}
