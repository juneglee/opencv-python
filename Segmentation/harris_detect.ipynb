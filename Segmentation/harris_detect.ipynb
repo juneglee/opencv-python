{
 "cells": [
  {
   "cell_type": "markdown",
   "id": "7f214119",
   "metadata": {},
   "source": [
    "# 헤리스 코너 검출\n",
    "- 영상에서 객체를 추척할 때나 영상과 영상을 매칭할 때 일반적으로 사용하는 방법이 중요한 특징 정보를 서로 비교하는 것이다.영상 내에는 에지나 직선과 같은 다양한 특정 정보들이 있다. 그러나 직선 정보는 영상 구조 파악 및 객체 검출에는 도움이 되지만, 영상 매칭에는 큰 도움이 되지 않는다. 도한, 에지는 강도와 방향 정보만 가지므로 영상 매칭을 하기에는 정보가 부족하다. \n",
    "- 에지나 직선처럼 영상처리에는 중요한 특정 정보로 사용되는 꼭지점 혹은 코너(corner)라 부르는 특징점이 있다\n",
    "- 이 코너 정보 중에서 영상의 왜곡에도 불편하는 특징을 가진 지점들이 영상 매칭에 유용하게 사용될 수 있다. 대표적인 검출기 중 하나인 헤리스 코너 검출기의 원리에 대해서 설명한다. "
   ]
  },
  {
   "cell_type": "code",
   "execution_count": 2,
   "id": "11ddff6e",
   "metadata": {},
   "outputs": [],
   "source": [
    "import numpy as np, cv2, time"
   ]
  },
  {
   "cell_type": "code",
   "execution_count": 3,
   "id": "e79cf800",
   "metadata": {},
   "outputs": [],
   "source": [
    "# 문자열 출력 함수 - 그림자 효과\n",
    "def put_string(frame, text, pt, value=None, color=(120, 200, 90)) :\n",
    "    text = str(text) + str(value)\n",
    "    shade = (pt[0] + 2, pt[1] + 2)\n",
    "    font = cv2.FONT_HERSHEY_SIMPLEX\n",
    "    cv2.putText(frame, text, shade, font, 0.7, (0, 0, 0), 2) # 그림자 효과\n",
    "    cv2.putText(frame, text, pt   , font, 0.7, color, 2) # 작성 문자"
   ]
  },
  {
   "cell_type": "code",
   "execution_count": 4,
   "id": "253efb81",
   "metadata": {},
   "outputs": [],
   "source": [
    "# 수행시간 체크 함수\n",
    "stime = 0\n",
    "def ck_time(mode = 0 , msg = \"\"):\n",
    "    global stime\n",
    "\n",
    "    if (mode ==0 ):\n",
    "        stime = time.perf_counter()\n",
    "\n",
    "    elif (mode==1):\n",
    "       etime = time.perf_counter()\n",
    "       elapsed = (etime - stime)\n",
    "       print(\"수행시간 = %.5f sec\" % elapsed)  # 초 단위 경과 시간\n",
    "\n",
    "    elif (mode == 2):\n",
    "        etime = time.perf_counter()\n",
    "        return (etime - stime)\n",
    "\n",
    "    elif (mode== 3 ):\n",
    "        etime = time.perf_counter()\n",
    "        elapsed = (etime - stime)\n",
    "        print(\"%s = %.5f sec\" %(msg, elapsed))  # 초 단위 경과 시간"
   ]
  },
  {
   "cell_type": "code",
   "execution_count": 5,
   "id": "69488d15",
   "metadata": {},
   "outputs": [],
   "source": [
    "def cornerHarris(image, ksize, k):\n",
    "    dx = cv2.Sobel(image, cv2.CV_32F, 1, 0, ksize)   # 미분 행렬 - 수평 소벨 마스크\n",
    "    dy = cv2.Sobel(image, cv2.CV_32F, 0, 1, ksize)   # 미분 행렬 - 수직 소벨 마스크\n",
    "\n",
    "    a = cv2.GaussianBlur(dx * dx, (5, 5), 0)                     # 가우시안 블러링 수행\n",
    "    b = cv2.GaussianBlur(dy * dy, (5, 5), 0)\n",
    "    c = cv2.GaussianBlur(dx * dy, (5, 5), 0)\n",
    "    \n",
    "    corner = (a * b - c * c) - k * (a + b) ** 2        # 코너 응답 함수 계산 -행렬 연산 적용\n",
    "    return corner"
   ]
  },
  {
   "cell_type": "code",
   "execution_count": 6,
   "id": "3f91292c",
   "metadata": {},
   "outputs": [],
   "source": [
    "def drawCorner(corner, image, thresh):\n",
    "    cnt = 0\n",
    "    corner = cv2.normalize(corner, 0, 100, cv2.NORM_MINMAX)\n",
    "    corners = []\n",
    "    for i in range(1, corner.shape[0]-1 ):\n",
    "        for j in range(1, corner.shape[1]-1 ):\n",
    "            neighbor = corner[i-1:i+2, j-1:j+2].flatten()\n",
    "            max = np.max(neighbor[1::2])\n",
    "            if thresh < corner[i, j] > max : corners.append((j,i))\n",
    "\n",
    "    for pt in corners:\n",
    "        cv2.circle(image, pt, 3, (0, 230, 0), -1)    # 좌표 표시\n",
    "    print(\"임계값: %2d , 코너 개수: %2d\" %(thresh, len(corners)) )\n",
    "    return image\n"
   ]
  },
  {
   "cell_type": "code",
   "execution_count": 7,
   "id": "b4600520",
   "metadata": {},
   "outputs": [],
   "source": [
    "def onCornerHarris(thresh):\n",
    "    img1 = drawCorner(corner1, np.copy(image), thresh)\n",
    "    img2 = drawCorner(corner2, np.copy(image), thresh)\n",
    "\n",
    "    put_string(img1, \"USER\", (10, 30), \"\" )\n",
    "    put_string(img2, \"OpenCV\", (10, 30), \"\")\n",
    "    dst = cv2.repeat(img1, 1, 2)                            # 두 개 영상을 하나의 윈도우에 표시\n",
    "    dst[:, img1.shape[1]:, :] = img2\n",
    "    cv2.imshow(\"harris detect\", dst)"
   ]
  },
  {
   "cell_type": "code",
   "execution_count": 8,
   "id": "2a94589d",
   "metadata": {},
   "outputs": [],
   "source": [
    "image = cv2.imread('img/harris.jpg', cv2.IMREAD_COLOR)\n",
    "if image is None: raise Exception(\"영상 파일 읽기 에러\")"
   ]
  },
  {
   "cell_type": "code",
   "execution_count": 9,
   "id": "35423da2",
   "metadata": {},
   "outputs": [],
   "source": [
    "blockSize = 4                                                # 이웃 화소 범위\n",
    "apertureSize = 3                                             # 소벨 마스크 크기\n",
    "k = 0.04\n",
    "thresh = 2                                                   # 코너 응답 임계값\n",
    "gray = cv2.cvtColor(image, cv2.COLOR_BGR2GRAY)\n",
    "corner1 = cornerHarris(gray, apertureSize, k)                # 사용자 정의 함수\n",
    "corner2 = cv2.cornerHarris(gray, blockSize, apertureSize, k) # OpenCV 제공 함수"
   ]
  },
  {
   "cell_type": "code",
   "execution_count": 10,
   "id": "0beafc90",
   "metadata": {},
   "outputs": [
    {
     "name": "stdout",
     "output_type": "stream",
     "text": [
      "임계값:  2 , 코너 개수: 98\n",
      "임계값:  2 , 코너 개수: 103\n",
      "임계값:  3 , 코너 개수: 35\n",
      "임계값:  3 , 코너 개수: 37\n",
      "임계값: 10 , 코너 개수:  0\n",
      "임계값: 10 , 코너 개수:  0\n",
      "임계값:  6 , 코너 개수:  1\n",
      "임계값:  6 , 코너 개수:  0\n",
      "임계값:  2 , 코너 개수: 98\n",
      "임계값:  2 , 코너 개수: 103\n",
      "임계값:  6 , 코너 개수:  1\n",
      "임계값:  6 , 코너 개수:  0\n",
      "임계값:  2 , 코너 개수: 98\n",
      "임계값:  2 , 코너 개수: 103\n",
      "임계값:  1 , 코너 개수: 361\n",
      "임계값:  1 , 코너 개수: 401\n"
     ]
    },
    {
     "data": {
      "text/plain": [
       "-1"
      ]
     },
     "execution_count": 10,
     "metadata": {},
     "output_type": "execute_result"
    }
   ],
   "source": [
    "onCornerHarris(thresh)\n",
    "cv2.createTrackbar(\"Threshold\", \"harris detect\", thresh, 20, onCornerHarris)\n",
    "cv2.waitKey(0)"
   ]
  },
  {
   "cell_type": "markdown",
   "id": "6090c4f3",
   "metadata": {},
   "source": [
    "![result](img/harris_result.png)"
   ]
  },
  {
   "cell_type": "code",
   "execution_count": null,
   "id": "5d0a4cbf",
   "metadata": {},
   "outputs": [],
   "source": []
  }
 ],
 "metadata": {
  "kernelspec": {
   "display_name": "Python 3",
   "language": "python",
   "name": "python3"
  },
  "language_info": {
   "codemirror_mode": {
    "name": "ipython",
    "version": 3
   },
   "file_extension": ".py",
   "mimetype": "text/x-python",
   "name": "python",
   "nbconvert_exporter": "python",
   "pygments_lexer": "ipython3",
   "version": "3.7.7"
  }
 },
 "nbformat": 4,
 "nbformat_minor": 5
}
