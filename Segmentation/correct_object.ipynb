{
 "cells": [
  {
   "cell_type": "markdown",
   "id": "7530834b",
   "metadata": {},
   "source": [
    "# 멀티 하네스의 전처리 \n",
    "- 멀티 하네스 (multi harness)를 찍은 영상을 입력 받아서 멀티 하네스 객체의 기울어진 각도를 인식하고 영상에서 객체가 가지런히 놓일 수 있도록 회전 보정을 한다. 여기서 멀티 하네스는 전자 제품 내부에서 다중의 전선들을 한 번에 연결하는 케이블 커넥터이다 "
   ]
  },
  {
   "cell_type": "code",
   "execution_count": 1,
   "id": "b9378b25",
   "metadata": {},
   "outputs": [],
   "source": [
    "import numpy as np, math , cv2"
   ]
  },
  {
   "cell_type": "code",
   "execution_count": 2,
   "id": "de97f2cd",
   "metadata": {},
   "outputs": [],
   "source": [
    "# 수행시간 체크 함수\n",
    "stime = 0\n",
    "def ck_time(mode = 0 , msg = \"\"):\n",
    "    global stime\n",
    "\n",
    "    if (mode ==0 ):\n",
    "        stime = time.perf_counter()\n",
    "\n",
    "    elif (mode==1):\n",
    "       etime = time.perf_counter()\n",
    "       elapsed = (etime - stime)\n",
    "       print(\"수행시간 = %.5f sec\" % elapsed)  # 초 단위 경과 시간\n",
    "\n",
    "    elif (mode == 2):\n",
    "        etime = time.perf_counter()\n",
    "        return (etime - stime)\n",
    "\n",
    "    elif (mode== 3 ):\n",
    "        etime = time.perf_counter()\n",
    "        elapsed = (etime - stime)\n",
    "        print(\"%s = %.5f sec\" %(msg, elapsed))  # 초 단위 경과 시간"
   ]
  },
  {
   "cell_type": "markdown",
   "id": "c4013a50",
   "metadata": {},
   "source": [
    "### 직선 누적 행렬 구성 "
   ]
  },
  {
   "cell_type": "code",
   "execution_count": 3,
   "id": "b6701ff0",
   "metadata": {},
   "outputs": [],
   "source": [
    "def accumulate(image, rho, theta):\n",
    "    h, w = image.shape[:2]\n",
    "    rows, cols = (h + w) * 2 // rho, int( np.pi/theta)  # 누적행렬 너비, 높이\n",
    "    accumulate = np.zeros((rows, cols), np.int32)    # 직선 누적행렬\n",
    "\n",
    "    sin_cos = [(np.sin(t * theta), np.cos(t * theta)) for t in range(cols)]  # 삼각 함수값 미리 저장\n",
    "    # pts = [(y, x) for x in range(w) for y in range(h) if image[y, x] > 0 ]\n",
    "    pts = np.where(image > 0)\n",
    "\n",
    "    polars = np.dot(sin_cos, pts).T            # 행렬곱으로 허프 변환 수식 계산\n",
    "    polars = (polars/ rho + rows / 2)           # 해상도 변경 및 위치 조정\n",
    "\n",
    "    for row in polars.astype(int):\n",
    "       for t, r in enumerate(row):\n",
    "          accumulate[r, t] += 1                     # 좌표 누적\n",
    "\n",
    "    return accumulate"
   ]
  },
  {
   "cell_type": "markdown",
   "id": "71e47329",
   "metadata": {},
   "source": [
    "### 허프 누적 행렬의 지역 최대값 선정"
   ]
  },
  {
   "cell_type": "code",
   "execution_count": 4,
   "id": "a7975bc6",
   "metadata": {},
   "outputs": [],
   "source": [
    "def masking(accumulate, h, w, thresh):\n",
    "    rows, cols = accumulate.shape[:2]\n",
    "    dst = np.zeros(accumulate.shape, np.uint32)\n",
    "\n",
    "    for y in range(0, rows, h):             # 누적행렬 조회\n",
    "        for x in range(0, cols, w):\n",
    "            roi = accumulate[y:y+h, x:x+w]\n",
    "            _ , max, _, (x0, y0) = cv2.minMaxLoc(roi)\n",
    "            dst[y+y0, x+x0] = max\n",
    "    return dst"
   ]
  },
  {
   "cell_type": "markdown",
   "id": "7cdad4bd",
   "metadata": {},
   "source": [
    "### 임계값 이상인 누적값(직선) 선별"
   ]
  },
  {
   "cell_type": "code",
   "execution_count": 5,
   "id": "b2b6dceb",
   "metadata": {},
   "outputs": [],
   "source": [
    "def select_lines(acc_dst, rho, theta, thresh):\n",
    "    rows = acc_dst.shape[0]\n",
    "    r, t = np.where(acc_dst>thresh)             # 임계값 이상인 좌표(세로, 가로)\n",
    "\n",
    "    rhos = ((r - (rows / 2)) * rho)             # rho 계산\n",
    "    radians = t * theta                          # theta 계산\n",
    "    value = acc_dst[r,t]                        # 임계값 이상인 누적값\n",
    "\n",
    "    idx = np.argsort(value)[::-1]       # 누적값 기준 세로 방향 내림차순 정렬\n",
    "    lines = np.transpose([rhos, radians])        # ndarray 객체 생성후 전치\n",
    "    lines = lines[idx, :]                          # 누적값에 다른 정렬\n",
    "\n",
    "    return np.expand_dims(lines, axis=1)"
   ]
  },
  {
   "cell_type": "markdown",
   "id": "a1ce40de",
   "metadata": {},
   "source": [
    "### 허프 변환을 이용한 직선 검출"
   ]
  },
  {
   "cell_type": "code",
   "execution_count": 6,
   "id": "994c8ea6",
   "metadata": {},
   "outputs": [],
   "source": [
    "def houghLines(src, rho, theta, thresh):\n",
    "    acc_mat = accumulate(src, rho, theta)  # 허프 누적 행렬 계산\n",
    "    acc_dst = masking(acc_mat, 7, 3, thresh)  # 마스킹 처리 7행,3열\n",
    "    lines = select_lines(acc_dst, rho, theta, thresh)  # 직선 가져오기\n",
    "    return lines\n",
    "\n",
    "def draw_houghLines(src, lines, nline):\n",
    "    dst = cv2.cvtColor(src, cv2.COLOR_GRAY2BGR)  # 컬러 영상 변환\n",
    "    min_length = min(len(lines), nline)\n",
    "\n",
    "    for i in range(min_length):\n",
    "        rho, radian = lines[i, 0, 0:2]  # 수직거리 , 각도 - 3차원 행렬임\n",
    "        a, b = math.cos(radian), math.sin(radian)\n",
    "        pt = (a * rho, b * rho)  # 검출 직선상의 한 좌표 계산\n",
    "        delta = (-1000 * b, 1000 * a)  # 직선상의 이동 위치\n",
    "        pt1 = np.add(pt, delta).astype('int')\n",
    "        pt2 = np.subtract(pt, delta).astype('int')\n",
    "        cv2.line(dst, tuple(pt1), tuple(pt2), (0, 255, 0), 2, cv2.LINE_AA)\n",
    "\n",
    "    return dst\n"
   ]
  },
  {
   "cell_type": "code",
   "execution_count": 7,
   "id": "9b348d2a",
   "metadata": {},
   "outputs": [],
   "source": [
    "def detect_maxObject(img):\n",
    "    # 외곽선 검출 - Opnecv 4.0부터 반환값은 2개 원소 갖는 튜플\n",
    "    results = cv2.findContours(img, cv2.RETR_EXTERNAL, cv2.CHAIN_APPROX_SIMPLE)\n",
    "    if int(cv2.__version__[0]) >= 4:                # Opnecv 4.0은 2원소 튜플 반환\n",
    "        contours = results[0]\n",
    "    else:\n",
    "        contours = results[1]\t\t\t\t# OpenCV 3.x은 3원소 튜플 반환\n",
    "\n",
    "    areas = [cv2.contourArea(c) for c in contours]\n",
    "    idx = np.argsort(areas)\n",
    "    max_rect = contours[idx[-1]]\n",
    "\n",
    "    rect = cv2.boundingRect(max_rect)        # 외곽선을 모두 포함하는 사각형 반환\n",
    "    rect = np.add(rect, (-10, -10, 20, 20))   # 검출 객체 사각형 크기 확대\n",
    "    return rect"
   ]
  },
  {
   "cell_type": "code",
   "execution_count": 8,
   "id": "34b211b9",
   "metadata": {},
   "outputs": [],
   "source": [
    "image = cv2.imread('img/harness.jpg', cv2.IMREAD_COLOR)\n",
    "if image is None: raise Exception(\"영상 파일 읽기 에러\")\n",
    "rho, theta = 1, np.pi / 180                             # 허프변환 거리간격, 각도간격\n",
    "gray = cv2.cvtColor(image, cv2.COLOR_BGR2GRAY)          # 명암도 영상 변환\n",
    "_, th_gray = cv2.threshold(gray, 240, 255, cv2.THRESH_BINARY) # 이진 영상 변환\n",
    "kernel = np.ones((3, 3), np.uint8)\n",
    "morph = cv2.erode(th_gray, kernel, iterations=2)        # 침식 연산 - 2번 반복"
   ]
  },
  {
   "cell_type": "code",
   "execution_count": 9,
   "id": "e629a058",
   "metadata": {},
   "outputs": [
    {
     "data": {
      "text/plain": [
       "-1"
      ]
     },
     "execution_count": 9,
     "metadata": {},
     "output_type": "execute_result"
    }
   ],
   "source": [
    "x, y, w, h = detect_maxObject(np.copy(morph))               # 가장 큰 객체 검출\n",
    "roi = th_gray[y:y+h, x:x+w]\n",
    "\n",
    "canny = cv2.Canny(roi, 40, 100)                         # 캐니 에지 검출\n",
    "lines = houghLines(canny, rho, theta, 50)               # 허프 직선 검출\n",
    "# lines = cv2.HoughLines(canny, rho, theta, 50)         # OpenCV 함수\n",
    "\n",
    "cv2.rectangle(morph, (x, y, w, h), 100, 2)                   # 큰 객체 사각형 표시\n",
    "canny_line = draw_houghLines(canny, lines, 1)           # 직선 표시\n",
    "\n",
    "angle = (np.pi - lines[0, 0, 1]) * 180 / np.pi           # 회전 각도 계산\n",
    "h, w = image.shape[:2]\n",
    "center = (w//2, h//2)                           # 입력 영상의 중심점\n",
    "rot_map = cv2.getRotationMatrix2D(center, -angle, 1)    # 반대방향 회전 행렬 계산\n",
    "dst = cv2.warpAffine(image, rot_map, (w, h), cv2.INTER_LINEAR)  # 역회전 수행\n",
    "\n",
    "cv2.imshow(\"image\", image)\n",
    "cv2.imshow(\"morph\", morph)\n",
    "cv2.imshow(\"line_detect\", canny_line)\n",
    "cv2.resizeWindow(\"line_detect\", 250, canny_line.shape[0])\n",
    "cv2.imshow(\"dst\", dst)\n",
    "cv2.waitKey(0)"
   ]
  },
  {
   "cell_type": "markdown",
   "id": "8a9d0ddd",
   "metadata": {},
   "source": [
    "![result](img/correct_result.png)"
   ]
  },
  {
   "cell_type": "code",
   "execution_count": null,
   "id": "ba3b1ae6",
   "metadata": {},
   "outputs": [],
   "source": []
  }
 ],
 "metadata": {
  "kernelspec": {
   "display_name": "Python 3",
   "language": "python",
   "name": "python3"
  },
  "language_info": {
   "codemirror_mode": {
    "name": "ipython",
    "version": 3
   },
   "file_extension": ".py",
   "mimetype": "text/x-python",
   "name": "python",
   "nbconvert_exporter": "python",
   "pygments_lexer": "ipython3",
   "version": "3.7.7"
  }
 },
 "nbformat": 4,
 "nbformat_minor": 5
}
