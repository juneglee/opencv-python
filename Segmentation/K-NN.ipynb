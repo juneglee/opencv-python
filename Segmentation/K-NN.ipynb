{
 "cells": [
  {
   "cell_type": "markdown",
   "id": "0c002bf9",
   "metadata": {},
   "source": [
    "# k- 최근접 이웃 분류기\n",
    "- 최근접 이웃 알고리즘은 기존에 가지고 있는 데이터들을 일정한 규칙에 의해 분류된 상태에서 새로운 입력이 들어왔을 때 입력 데이터의 종류를 예측하는 분류 알고리즘이다\n",
    "- 이 방법은 기존의 학습된 여러 클래스의 샘플들을 각각 좌표로 표시하여 두고, 새로운 미지의 샘플이 입력될 대, 학습 클래스의 샘플들과 새 샘플의 거리가 가장 가까운 (nearest)클래스로 분류한다. 여기서 가갖 가까운 거리는 미지의 샘플화 학습 클래스 샘플 간의 유사도가 가장 높은 것을 의미한다. 이 거리 측정 방법은 샘플의 형태와 종류에 다라서 다양한데, 대포적으로 유클리드 거리(euclidean distance), 해밍 거리(hamming distance)차분 절대값 등을 이용한다. \n",
    "- 최 근접 이웃 방법 중 가장 많이 사용하는 것은 학습된 클래스들에서 여러 개(k개)의 가가운 이웃을 선출하고 이를 이용하여 미지의 샘플을 분류하는 방법이다. 즉 미지의 샘플과 가까운 이웃으로 선출된 여러 개의 클래스 샘플 중 가장 많은 수를 가진 클래스로 미지의 샘플을 분류하는 방법이다. 이러한 분류 과정을 k-최근접 이웃(K-NN; K-Nearest Neighbors)라고 한다 "
   ]
  },
  {
   "cell_type": "markdown",
   "id": "695d4980",
   "metadata": {},
   "source": [
    "- k-NN을 사용하기 위해서는 미리 정답을 알고 있는 데이터들이 있어야 한다. 그리고 해당 데이터에 대한 정답을 의미하는 레이브롤 지정해야 한다. 이 과정을 보통 학습 데이터 새성이라고 하낟.\n",
    "- OpenCV에서 기계학습과 관련된 함수들은 대부분 cv2.ml 모듈에 구현되어 있다. KNN 도 ml 모듈의 KNeares_create() 함수로 Knn 객체를 생성한다. 학습을 위해서는 knn객체 내부 메서드인 train() 함수를 사용한다. "
   ]
  },
  {
   "cell_type": "code",
   "execution_count": 1,
   "id": "52dedecd",
   "metadata": {},
   "outputs": [],
   "source": [
    "import numpy as np, cv2"
   ]
  },
  {
   "cell_type": "code",
   "execution_count": 2,
   "id": "ec2e7d7a",
   "metadata": {},
   "outputs": [],
   "source": [
    "def draw_points(image, group, color):\n",
    "    for p in group:\n",
    "        pt = tuple(p.astype(int))\n",
    "        cv2.circle(image, pt, 3, color, cv2.FILLED)"
   ]
  },
  {
   "cell_type": "code",
   "execution_count": 3,
   "id": "f89c53e8",
   "metadata": {},
   "outputs": [],
   "source": [
    "nsample = 50\n",
    "traindata = np.zeros((nsample*2, 2), np.float32)  # 학습 데이터 행렬\n",
    "label = np.zeros((nsample*2, 1), np.float32)   # 레이블"
   ]
  },
  {
   "cell_type": "code",
   "execution_count": 4,
   "id": "34e3cf2d",
   "metadata": {},
   "outputs": [],
   "source": [
    "cv2.randn(traindata[:nsample], 150, 30)\n",
    "cv2.randn(traindata[nsample:], 250, 60)\n",
    "label[:nsample], label[nsample:] = 0 , 1"
   ]
  },
  {
   "cell_type": "code",
   "execution_count": 5,
   "id": "4cb7fb54",
   "metadata": {},
   "outputs": [
    {
     "data": {
      "text/plain": [
       "True"
      ]
     },
     "execution_count": 5,
     "metadata": {},
     "output_type": "execute_result"
    }
   ],
   "source": [
    "K = 7\n",
    "knn = cv2.ml.KNearest_create()  # kNN 클래스로 객체 생성\n",
    "knn.train(traindata, cv2.ml.ROW_SAMPLE, label)  # 학습 수행"
   ]
  },
  {
   "cell_type": "code",
   "execution_count": 6,
   "id": "258ea536",
   "metadata": {},
   "outputs": [],
   "source": [
    "points = [(x, y) for y in range(400) for x in range(400)  ]\n",
    "ret, resp, neig, dist = knn.findNearest(np.array(points, np.float32), K)  # 분류 수행"
   ]
  },
  {
   "cell_type": "code",
   "execution_count": 7,
   "id": "b0bd4575",
   "metadata": {},
   "outputs": [],
   "source": [
    "colors = [(0, 180, 0) if p==1 else  (0, 0, 180) for p in resp]\n",
    "image = np.reshape(colors, (400,400,3)).astype(\"uint8\")"
   ]
  },
  {
   "cell_type": "code",
   "execution_count": 9,
   "id": "1dd87b9c",
   "metadata": {},
   "outputs": [
    {
     "data": {
      "text/plain": [
       "-1"
      ]
     },
     "execution_count": 9,
     "metadata": {},
     "output_type": "execute_result"
    }
   ],
   "source": [
    "draw_points(image, traindata[:nsample], color=(0, 0, 255))\n",
    "draw_points(image, traindata[nsample:], color=(0, 255, 0))\n",
    "cv2.imshow(\"sample K=\"+ str(K), image)\n",
    "cv2.waitKey(0)"
   ]
  },
  {
   "cell_type": "markdown",
   "id": "bd4542d4",
   "metadata": {},
   "source": [
    "![result](img/knn_result.png)"
   ]
  },
  {
   "cell_type": "code",
   "execution_count": null,
   "id": "097205ba",
   "metadata": {},
   "outputs": [],
   "source": []
  }
 ],
 "metadata": {
  "kernelspec": {
   "display_name": "Python 3",
   "language": "python",
   "name": "python3"
  },
  "language_info": {
   "codemirror_mode": {
    "name": "ipython",
    "version": 3
   },
   "file_extension": ".py",
   "mimetype": "text/x-python",
   "name": "python",
   "nbconvert_exporter": "python",
   "pygments_lexer": "ipython3",
   "version": "3.7.7"
  }
 },
 "nbformat": 4,
 "nbformat_minor": 5
}
