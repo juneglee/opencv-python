{
 "cells": [
  {
   "cell_type": "markdown",
   "metadata": {},
   "source": [
    "# 윈도우 제어 "
   ]
  },
  {
   "cell_type": "markdown",
   "metadata": {},
   "source": [
    "- 영상처리는 무엇이라 생각하는가? 영상처리를 한다미로 말하면 2차원 행렬에 대한 연산이라고 할 수 있다 \n",
    "- OpenCV 에서는 원도우 (window, 창)가 활성화된 상태에서만 마우스나 키보드 이벤트를 감지 할 수 있다. 따라서 이런 이벤트를 감지 해서 처리하려면 원도우를 생성하고 제어할 수 있어야 한다 \n"
   ]
  },
  {
   "cell_type": "markdown",
   "metadata": {},
   "source": [
    "- cv2.namedWindow() : 원도우 이름을 설정한 후, 해당 이름으로 원도우 생성\n",
    "    - namedWindow(winname[,flags])"
   ]
  },
  {
   "cell_type": "markdown",
   "metadata": {},
   "source": [
    "- cv2.imshow() : 원도우 이름의 mat 행렬을 영상으로 표시함 \n",
    "    - imshow(winname, mat)"
   ]
  },
  {
   "cell_type": "markdown",
   "metadata": {},
   "source": [
    "- cv2.destroyAllWindows() : 인수로 지정된 타이들 원도우 파괴"
   ]
  },
  {
   "cell_type": "markdown",
   "metadata": {},
   "source": [
    "- cv2.moveWindow() : winname 이름의 원도우를 지정된 위치인 (x,y)로 이동, (기존위치는 좌측 상단 )\n",
    "    - moveWindow(winname, x, y)"
   ]
  },
  {
   "cell_type": "markdown",
   "metadata": {},
   "source": [
    "- cv2.resizeWindow() : 윈도우 크기 재조정 \n",
    "    - resizeWindow(winname, width, height)"
   ]
  },
  {
   "cell_type": "code",
   "execution_count": 3,
   "metadata": {},
   "outputs": [],
   "source": [
    "import numpy as np\n",
    "import cv2"
   ]
  },
  {
   "cell_type": "code",
   "execution_count": 4,
   "metadata": {},
   "outputs": [],
   "source": [
    "image = np.zeros((200, 400), np.uint8) # 행렬 생성\n",
    "image[:] = 200 # 밝은 회색(200) 바탕 영상 생성"
   ]
  },
  {
   "cell_type": "code",
   "execution_count": 7,
   "metadata": {},
   "outputs": [],
   "source": [
    "title1, title2 = 'Position1','Position2'\n",
    "cv2.namedWindow(title1, cv2.WINDOW_AUTOSIZE) # 원도우 생성 및 크기 조정 옵션\n",
    "cv2.namedWindow(title2)\n",
    "cv2.moveWindow(title1, 150, 150) # 윈도우 이동 - 위치 지정\n",
    "cv2.moveWindow(title2, 400, 50)\n",
    "\n",
    "cv2.imshow(title1, image) # 행렬 원소를 영상으로 표시\n",
    "cv2.imshow(title2, image)\n",
    "cv2.waitKey(0) # 키 이벤트 대기\n",
    "cv2.destroyAllWindows() # 열린 모든 윈도우 파괴 \n"
   ]
  }
 ],
 "metadata": {
  "kernelspec": {
   "display_name": "Python 3",
   "language": "python",
   "name": "python3"
  },
  "language_info": {
   "codemirror_mode": {
    "name": "ipython",
    "version": 3
   },
   "file_extension": ".py",
   "mimetype": "text/x-python",
   "name": "python",
   "nbconvert_exporter": "python",
   "pygments_lexer": "ipython3",
   "version": "3.7.7"
  }
 },
 "nbformat": 4,
 "nbformat_minor": 4
}
