{
 "cells": [
  {
   "cell_type": "markdown",
   "metadata": {},
   "source": [
    "# 카메라 프레임 동영상 파일로 저장"
   ]
  },
  {
   "cell_type": "code",
   "execution_count": 1,
   "metadata": {},
   "outputs": [],
   "source": [
    "import cv2"
   ]
  },
  {
   "cell_type": "code",
   "execution_count": 2,
   "metadata": {},
   "outputs": [],
   "source": [
    "capture = cv2.VideoCapture(0)                       # 0번 카메라 연결\n",
    "if capture.isOpened() == False: raise Exception(\"카메라 연결 안됨\")"
   ]
  },
  {
   "cell_type": "code",
   "execution_count": 3,
   "metadata": {},
   "outputs": [],
   "source": [
    "fps = 29.97                                         # 초당 프레임 수\n",
    "delay = round(1000/ fps)                            # 프레임 간 지연 시간\n",
    "size  = (640, 360)                                  # 동영상 파일 해상도\n",
    "fourcc = cv2.VideoWriter_fourcc(*'DX50')            # 압축 코덱 설정"
   ]
  },
  {
   "cell_type": "code",
   "execution_count": 4,
   "metadata": {},
   "outputs": [
    {
     "name": "stdout",
     "output_type": "stream",
     "text": [
      "프레임 해상도: (640, 360)\n",
      "압축코덱 숫자: 808802372\n",
      "delay: 33 ms\n",
      "fps: 29.97\n"
     ]
    }
   ],
   "source": [
    "# 카메라 속성 콘솔창에 출력\n",
    "print(\"프레임 해상도:\", size )\n",
    "print(\"압축코덱 숫자:\", fourcc)\n",
    "print(\"delay: %2d ms\" % delay)\n",
    "print(\"fps: %.2f\" % fps)"
   ]
  },
  {
   "cell_type": "code",
   "execution_count": 5,
   "metadata": {},
   "outputs": [
    {
     "data": {
      "text/plain": [
       "True"
      ]
     },
     "execution_count": 5,
     "metadata": {},
     "output_type": "execute_result"
    }
   ],
   "source": [
    "capture.set(cv2.CAP_PROP_ZOOM, 1)                   # 카메라 속성 지정\n",
    "capture.set(cv2.CAP_PROP_FOCUS, 0)\n",
    "capture.set(cv2.CAP_PROP_FRAME_WIDTH , size[0])     \t# 해상도 설정\n",
    "capture.set(cv2.CAP_PROP_FRAME_HEIGHT, size[1])"
   ]
  },
  {
   "cell_type": "code",
   "execution_count": 6,
   "metadata": {},
   "outputs": [],
   "source": [
    "# 동영상 파일 개방 및 코덱, 해상도 설정\n",
    "writer = cv2.VideoWriter(\"img/video_file.avi\", fourcc, fps, size)\n",
    "if writer.isOpened() == False: raise Exception(\"동영상 파일 개방 안됨\")"
   ]
  },
  {
   "cell_type": "code",
   "execution_count": 7,
   "metadata": {},
   "outputs": [],
   "source": [
    "while True:\n",
    "    ret, frame = capture.read()             # 카메라 영상 받기\n",
    "    if not ret: break\n",
    "    if cv2.waitKey(delay) >= 0: break\n",
    "\n",
    "    writer.write(frame)                 # 프레임을 동영상으로 저장\n",
    "    cv2.imshow(\"View Frame from Camera\", frame)\n",
    "\n",
    "writer.release()\n",
    "capture.release()"
   ]
  }
 ],
 "metadata": {
  "kernelspec": {
   "display_name": "Python 3",
   "language": "python",
   "name": "python3"
  },
  "language_info": {
   "codemirror_mode": {
    "name": "ipython",
    "version": 3
   },
   "file_extension": ".py",
   "mimetype": "text/x-python",
   "name": "python",
   "nbconvert_exporter": "python",
   "pygments_lexer": "ipython3",
   "version": "3.7.7"
  }
 },
 "nbformat": 4,
 "nbformat_minor": 4
}
