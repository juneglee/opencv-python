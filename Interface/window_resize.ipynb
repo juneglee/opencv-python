{
 "cells": [
  {
   "cell_type": "markdown",
   "metadata": {},
   "source": [
    "# 윈도우의 크기 변경 "
   ]
  },
  {
   "cell_type": "code",
   "execution_count": 1,
   "metadata": {},
   "outputs": [],
   "source": [
    "import numpy as np\n",
    "import cv2\n"
   ]
  },
  {
   "cell_type": "code",
   "execution_count": 2,
   "metadata": {},
   "outputs": [],
   "source": [
    "image = np.zeros((200, 400), np.uint8) # ndarray 행렬 생성\n",
    "image.fill(255) # 모든 원소에 255(흰색) 지정"
   ]
  },
  {
   "cell_type": "code",
   "execution_count": null,
   "metadata": {},
   "outputs": [],
   "source": [
    "title1, title2 = 'AUTOSIZE','NORMAL'\n",
    "cv2.namedWindow(title1, cv2.WINDOW_AUTOSIZE) # 원도우 생성 - 크기 변경 불가\n",
    "cv2.namedWindow(title2, cv2.WINDOW_NORMAL) # 크기 변경 가능\n",
    "# 윈도우 생성은 두가지 옵션 가능\n",
    "# cv2.WINDOW_AUTOSIZE -> 크기 변경 불가\n",
    "# cv2.WINDOW_NORMAL -> 크기 변경 가능\n",
    "cv2.imshow(title1, image)\n",
    "cv2.imshow(title2, image)\n",
    "# ------------------------------\n",
    "cv2.moveWindow(title1, 400, 300) # 크기 변경 불가\n",
    "cv2.moveWindow(title2, 400, 300) # 크기 변경 가능\n",
    "# -------------------------------\n",
    "cv2.waitKey(0)\n",
    "cv2.destroyAllWindows()\n"
   ]
  },
  {
   "cell_type": "code",
   "execution_count": null,
   "metadata": {},
   "outputs": [],
   "source": []
  }
 ],
 "metadata": {
  "kernelspec": {
   "display_name": "Python 3",
   "language": "python",
   "name": "python3"
  },
  "language_info": {
   "codemirror_mode": {
    "name": "ipython",
    "version": 3
   },
   "file_extension": ".py",
   "mimetype": "text/x-python",
   "name": "python",
   "nbconvert_exporter": "python",
   "pygments_lexer": "ipython3",
   "version": "3.7.7"
  }
 },
 "nbformat": 4,
 "nbformat_minor": 4
}
