{
 "cells": [
  {
   "cell_type": "markdown",
   "metadata": {},
   "source": [
    "# 글자 쓰기"
   ]
  },
  {
   "cell_type": "markdown",
   "metadata": {},
   "source": [
    "- cv2.putText(iamge, text, org, fontFace, fontScale, color[, thickness[, lineType[, shift[, bottomLeftOrigin]]]])                         \n",
    "    - text 문자열을 org 좌표에 color 색상으로 그린다\n",
    "    - image : 문자열을 작성할 대상 행렬(영상)\n",
    "    - text : 작성할 문자열\n",
    "    - fontface : 문자열의 시작 좌표, 문자열에서 가장 왼쪽 하단을 의미\n",
    "    - fontScale : 글자 크기 확대 비율\n",
    "    - color : 글자의 색상\n",
    "    - thickness : 글자의 굵기\n",
    "    - lineType : 글자 선의 형태\n",
    "    - bottomLeftOrigin : 영상의 원점 좌표 설정 (True - 좌하단 왼쪽, False - 좌상단)"
   ]
  },
  {
   "cell_type": "markdown",
   "metadata": {},
   "source": [
    "#### 문자열의 폰트 (fontFace)에 대한 옵션과 의미\n",
    "- cv2.FONT_HERSHEY_SIMPLEX (값 : 0) : 중간 크기 산세리프 폰트\n",
    "- cv2.FONT_HERSHEY_PLAIN (값 : 1) : 작은 크기 산세리프 폰트\n",
    "- cv2.FONT_HERSHEY_DUPLEX (값 : 2) : 2줄 산세리프 폰트\n",
    "- cv2.FONT_HERSHEY_COMPLEX (값 : 3) : 중간 크기 세리프 폰트\n",
    "- cv2.FONT_HERSHEY_TRIPLEX (값 : 4) : 3줄 세리프 폰트 \n",
    "- cv2.FONT_HERSHEY_COMPLEX_SMALL (값 : 5) : complex 보다 작은 폰트\n",
    "- cv2.FONT_HERSHEY_SCRIPT_SIMPLEX (값 : 6) : 필기체 스타일 폰트\n",
    "- cv2.FONT_HERSHEY_SCRIPT_COMPLEX (값 : 7) : 복잡하 필기체 스타일\n",
    "- cv2.FONT_ITALIC (값 : 16) : 이탤릭체를 위한 플래그\n"
   ]
  },
  {
   "cell_type": "code",
   "execution_count": 1,
   "metadata": {},
   "outputs": [],
   "source": [
    "import numpy as np\n",
    "import cv2\n",
    "from matplotlib import pyplot as plt"
   ]
  },
  {
   "cell_type": "code",
   "execution_count": 2,
   "metadata": {},
   "outputs": [],
   "source": [
    "olive, violet, brown = (128, 128, 0), (221, 160, 221), (42 , 42, 165) \n",
    "pt1, pt2 = (50, 230), (50, 310) # 문자열 위치 좌표"
   ]
  },
  {
   "cell_type": "code",
   "execution_count": 3,
   "metadata": {},
   "outputs": [],
   "source": [
    "image = np.zeros((350, 500,3), np.uint8)\n",
    "image.fill(255)"
   ]
  },
  {
   "cell_type": "code",
   "execution_count": 4,
   "metadata": {},
   "outputs": [
    {
     "data": {
      "image/png": "[encoded data removed]",
      "text/plain": [
       "<Figure size 432x288 with 1 Axes>"
      ]
     },
     "metadata": {},
     "output_type": "display_data"
    }
   ],
   "source": [
    "cv2.putText(image, \"SIMPLEX\", (50, 50), cv2.FONT_HERSHEY_SIMPLEX, 2, brown)\n",
    "cv2.putText(image, \"DUPLEX\", (50, 120), cv2.FONT_HERSHEY_DUPLEX, 2, olive)\n",
    "cv2.putText(image, \"TRIPLEX\", pt1, cv2.FONT_HERSHEY_TRIPLEX, 2, violet)\n",
    "fontFace = cv2.FONT_HERSHEY_PLAIN | cv2.FONT_ITALIC \n",
    "cv2.putText(image, \"ITALIC \", pt2, fontFace, 2, violet)\n",
    "\n",
    "b, g, r = cv2.split(image)\n",
    "image2 = cv2.merge([r, g, b])\n",
    "plt.imshow(image2)\n",
    "plt.xticks([])  \n",
    "plt.yticks([]) \n",
    "plt.show()"
   ]
  },
  {
   "cell_type": "code",
   "execution_count": null,
   "metadata": {},
   "outputs": [],
   "source": []
  }
 ],
 "metadata": {
  "kernelspec": {
   "display_name": "Python 3",
   "language": "python",
   "name": "python3"
  },
  "language_info": {
   "codemirror_mode": {
    "name": "ipython",
    "version": 3
   },
   "file_extension": ".py",
   "mimetype": "text/x-python",
   "name": "python",
   "nbconvert_exporter": "python",
   "pygments_lexer": "ipython3",
   "version": "3.7.7"
  }
 },
 "nbformat": 4,
 "nbformat_minor": 4
}
