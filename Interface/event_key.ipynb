{
 "cells": [
  {
   "cell_type": "code",
   "execution_count": 2,
   "metadata": {},
   "outputs": [],
   "source": [
    "import numpy as np\n",
    "import cv2"
   ]
  },
  {
   "cell_type": "code",
   "execution_count": 3,
   "metadata": {},
   "outputs": [],
   "source": [
    "switch_case = {\n",
    "    ord('a'): \"a키 입력\", # ord() 함수 문자 -> 아스키 코드 변환\n",
    "    ord('b'): \"b키 입력\",\n",
    "    0x41 : \"A키 입력\",\n",
    "    int('0x42', 16) : \"B키 입력\", # 0x42(16진수) -> 10진수 변환\n",
    "    2424832 : \"왼쪽 화살표 입력\", # 0x250000\n",
    "    2490368 : \"윗쪽 화살표 입력\", # 0x260000\n",
    "    2555904 : \"오른쪽 화살표 입력\", # 0x270000\n",
    "    2621440 : \"아래쪽 화살표 입력\", # 0x280000\n",
    "}\n"
   ]
  },
  {
   "cell_type": "code",
   "execution_count": null,
   "metadata": {},
   "outputs": [
    {
     "name": "stdout",
     "output_type": "stream",
     "text": [
      "a키 입력\n",
      "b키 입력\n",
      "A키 입력\n",
      "B키 입력\n",
      "윗쪽 화살표 입력\n",
      "아래쪽 화살표 입력\n",
      "윗쪽 화살표 입력\n",
      "오른쪽 화살표 입력\n",
      "왼쪽 화살표 입력\n"
     ]
    }
   ],
   "source": [
    "image = np.ones((200, 300), np.float) # 원소값 1인 행렬 생성\n",
    "cv2.namedWindow(\"Keyboard Event\")\n",
    "cv2.imshow(\"keyboard Event\", image)\n",
    "\n",
    "while True: # 무한 반복\n",
    "    key = cv2.waitKeyEx(100) # 100ms 동안 키 이벤트 대기\n",
    "    if key == 27: break # ESC 누르면 종료\n",
    "\n",
    "    try:\n",
    "\n",
    "        result = switch_case[key]\n",
    "        print(result)\n",
    "    except KeyError:\n",
    "        result = -1\n",
    "\n",
    "cv2.destroyAllWindows()"
   ]
  },
  {
   "cell_type": "code",
   "execution_count": null,
   "metadata": {},
   "outputs": [],
   "source": []
  }
 ],
 "metadata": {
  "kernelspec": {
   "display_name": "Python 3",
   "language": "python",
   "name": "python3"
  },
  "language_info": {
   "codemirror_mode": {
    "name": "ipython",
    "version": 3
   },
   "file_extension": ".py",
   "mimetype": "text/x-python",
   "name": "python",
   "nbconvert_exporter": "python",
   "pygments_lexer": "ipython3",
   "version": "3.7.7"
  }
 },
 "nbformat": 4,
 "nbformat_minor": 4
}
