{
 "cells": [
  {
   "cell_type": "markdown",
   "metadata": {},
   "source": [
    "# 마우스 및 트랙바 이벤트 사용 "
   ]
  },
  {
   "cell_type": "code",
   "execution_count": 1,
   "metadata": {},
   "outputs": [],
   "source": [
    "import numpy as np\n",
    "import cv2"
   ]
  },
  {
   "cell_type": "code",
   "execution_count": 2,
   "metadata": {},
   "outputs": [],
   "source": [
    "def onChange(value):\n",
    "    global image, title\n",
    "\n",
    "    add_value = value -int(image[0][0])\n",
    "    image = image + add_value\n",
    "    cv2.imshow(title, image)\n"
   ]
  },
  {
   "cell_type": "code",
   "execution_count": 3,
   "metadata": {},
   "outputs": [],
   "source": [
    "def onMouse(event, x, y, flags, param):\n",
    "    global image, bar_name\n",
    "\n",
    "    if event == cv2.EVENT_RBUTTONDOWN:\n",
    "        if (image[0][0] < 246):\n",
    "            image = image + 10\n",
    "            cv2.setTrackbarPos(bar_name, title, image[0][0])\n",
    "            cv2.imshow(title, image)\n",
    "\n",
    "    elif event == cv2.EVENT_LBUTTONDOWN:\n",
    "        if (image[0][0] >=10):\n",
    "            image = image - 10\n",
    "            cv2.setTrackbarPos(bar_name, title, image[0][0])\n",
    "            cv2.imshow(title, image)"
   ]
  },
  {
   "cell_type": "code",
   "execution_count": 4,
   "metadata": {},
   "outputs": [],
   "source": [
    "image = np.zeros((300, 500), np.uint8) # 영상 생성\n",
    "title = \"Mouse & Trackbar  event\"\n",
    "bar_name = \"Brightness\"\n",
    "cv2.imshow(title, image)\n",
    "\n",
    "cv2.createTrackbar(bar_name, title, image[0][0], 255, onChange) # 트랙바 콜백\n",
    "cv2.setMouseCallback(title, onMouse)\n",
    "cv2.waitKey(0)\n",
    "cv2.destroyAllWindows()"
   ]
  },
  {
   "cell_type": "code",
   "execution_count": null,
   "metadata": {},
   "outputs": [],
   "source": []
  }
 ],
 "metadata": {
  "kernelspec": {
   "display_name": "Python 3",
   "language": "python",
   "name": "python3"
  },
  "language_info": {
   "codemirror_mode": {
    "name": "ipython",
    "version": 3
   },
   "file_extension": ".py",
   "mimetype": "text/x-python",
   "name": "python",
   "nbconvert_exporter": "python",
   "pygments_lexer": "ipython3",
   "version": "3.7.7"
  }
 },
 "nbformat": 4,
 "nbformat_minor": 4
}
