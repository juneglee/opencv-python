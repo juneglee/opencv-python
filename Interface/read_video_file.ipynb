{
 "cells": [
  {
   "cell_type": "markdown",
   "metadata": {},
   "source": [
    "# 동영상 파일 읽기"
   ]
  },
  {
   "cell_type": "markdown",
   "metadata": {},
   "source": [
    "###### 프레임 번호에 다른 영상 처리 예\n",
    "| 프레임 번호 | 영상 처리 |\n",
    "|:------|:------|\n",
    "| 1 ~ 99 | 아무런 영상처리를 적용하지 않음 |\n",
    "| 100 ~ 199 | 프레임별 화소의 파란색 성분에 100을 더해서 영상을 더 푸르게 만듦 |\n",
    "| 200 ~ 299 | 프레임별 화소의 녹색 성분에 100을 더해서 영상을 더 녹색으로 만듦 |\n",
    "| 300 ~ 399 | 프레임별 화소의 빨간색 성분에 100을 더해서 영상을 더 빨갛게 만듦 |"
   ]
  },
  {
   "cell_type": "code",
   "execution_count": 1,
   "metadata": {},
   "outputs": [],
   "source": [
    "import cv2"
   ]
  },
  {
   "cell_type": "code",
   "execution_count": 4,
   "metadata": {},
   "outputs": [],
   "source": [
    "def put_string(frame, text, pt, value=None, color=(120, 200, 90)) :\n",
    "    text = str(text) + str(value)\n",
    "    shade = (pt[0] + 2, pt[1] + 2)\n",
    "    font = cv2.FONT_HERSHEY_SIMPLEX\n",
    "    cv2.putText(frame, text, shade, font, 0.7, (0, 0, 0), 2) # 그림자 효과\n",
    "    cv2.putText(frame, text, pt   , font, 0.7, color, 2) # 작성 문자\n",
    "    "
   ]
  },
  {
   "cell_type": "code",
   "execution_count": 5,
   "metadata": {},
   "outputs": [],
   "source": [
    "capture = cv2.VideoCapture(\"img/video_file.avi\")\t\t# 동영상 파일 개방\n",
    "if not capture.isOpened(): raise Exception(\"동영상 파일 개방 안됨\")\t"
   ]
  },
  {
   "cell_type": "code",
   "execution_count": 6,
   "metadata": {},
   "outputs": [],
   "source": [
    "frame_rate = capture.get(cv2.CAP_PROP_FPS)           \t\t# 초당 프레임 수\n",
    "delay = int(1000 / frame_rate)                         \t\t# 지연 시간\n",
    "frame_cnt = 0                                       \t\t# 현재 프레임 번호\n"
   ]
  },
  {
   "cell_type": "code",
   "execution_count": 7,
   "metadata": {},
   "outputs": [],
   "source": [
    "\n",
    "while True:\n",
    "\tret, frame = capture.read()\n",
    "\tif not ret or cv2.waitKey(delay) >= 0: break    \t\t\t\t# 프레임 간 지연 시간 지정\n",
    "\tblue, green, red = cv2.split(frame)             \t\t\t\t# 컬러 영상 채널 분리\n",
    "\tframe_cnt += 1\n",
    "\n",
    "\tif 100 <= frame_cnt < 200: cv2.add(blue, 100, blue)  \t\t# blue 채널 밝기 증가\n",
    "\telif 200 <= frame_cnt < 300: cv2.add(green, 100, green) \t# green 채널 밝기 증가\n",
    "\telif 300 <= frame_cnt < 400: cv2.add(red  , 100, red)   \t# red 채널 밝기 증가\n",
    "\n",
    "\tframe = cv2.merge( [blue, green, red] )                 # 단일채널 영상 합성\n",
    "\tput_string(frame, \"frame_cnt : \", (20, 320), frame_cnt)\n",
    "\tcv2.imshow(\"Read Video File\", frame)\n",
    "capture.release()"
   ]
  },
  {
   "cell_type": "code",
   "execution_count": null,
   "metadata": {},
   "outputs": [],
   "source": []
  }
 ],
 "metadata": {
  "kernelspec": {
   "display_name": "Python 3",
   "language": "python",
   "name": "python3"
  },
  "language_info": {
   "codemirror_mode": {
    "name": "ipython",
    "version": 3
   },
   "file_extension": ".py",
   "mimetype": "text/x-python",
   "name": "python",
   "nbconvert_exporter": "python",
   "pygments_lexer": "ipython3",
   "version": "3.7.7"
  }
 },
 "nbformat": 4,
 "nbformat_minor": 4
}
