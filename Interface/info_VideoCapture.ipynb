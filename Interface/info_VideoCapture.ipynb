{
 "cells": [
  {
   "cell_type": "markdown",
   "metadata": {},
   "source": [
    "# VideoCapture 클래스 함수 설명"
   ]
  },
  {
   "cell_type": "markdown",
   "metadata": {},
   "source": [
    "###### 생성자 3가지 VideoCapture 객체 선언 바업을 지원\n",
    "- cv2.VideoCapture()\n",
    "- cv2.VideoCapture(filename)\n",
    "- cv2.VideoCapture(device)\n"
   ]
  },
  {
   "cell_type": "markdown",
   "metadata": {},
   "source": [
    "###### 동영상 캡쳐를 위한 동영상 파일혹은 캡처 장치를 개방\n",
    "- cv2.VideoCapture.open(filename)\n",
    "- cv2.VideoCapture.open(device)"
   ]
  },
  {
   "cell_type": "markdown",
   "metadata": {},
   "source": [
    "###### 캡처 장치의 연결 여부 확인\n",
    "- cv2.VideoCapture.isOpened()"
   ]
  },
  {
   "cell_type": "markdown",
   "metadata": {},
   "source": [
    "###### 동영상 파일이나 캡처 장치를 해제 (클래스 소멸자에 의해서 자동으로 호출되므로 명시적으로 수행하지 않아도 된다)\n",
    "- cv2.VideoCapture.release()"
   ]
  },
  {
   "cell_type": "markdown",
   "metadata": {},
   "source": [
    "###### get, set\n",
    "- cv2.VideoCapture.get(propld)\n",
    "    - propld : 속성 식별자 \n",
    "- cv2.VideoCapture.set(propld,value)\n",
    "    - propld : 속성 식별자 \n",
    "    - value : 속성값"
   ]
  },
  {
   "cell_type": "markdown",
   "metadata": {},
   "source": [
    "###### 갭처 장치나 동영상에서 다음 프레임을 잡는다 \n",
    "- cv2.VideoCapture.grab()"
   ]
  },
  {
   "cell_type": "markdown",
   "metadata": {},
   "source": [
    "###### 컵처 장치나 동영상 파일에서 다음 프레임을 잡아 디코드해서 image 행렬로 전달\n",
    "- cv2.VideoCapture.read([image])\n"
   ]
  },
  {
   "cell_type": "markdown",
   "metadata": {},
   "source": [
    "# VideoWriter 클래스 설명"
   ]
  },
  {
   "cell_type": "markdown",
   "metadata": {},
   "source": [
    "- cv2.VideoWriter([filename, fourcc, fps, frameSize[, isColor]])\n",
    "    - filenmae : 출력 동영상 파일의 이름\n",
    "    - fourcc : 프레임 압축에 사용되는 코덱의 4-문자\n",
    "    - fps : 초당 프레임수\n",
    "    - frameSize : 프레임의 크기 (가로 x 세로\n",
    "    - isColor : True면 컬러 프레임으로 인코딩, False면 명암도 프레임으로 인코딩\n",
    "    \n",
    "-  cv2.VideoWriter.open([filename, fourcc, fps, frameSize[, isColor]])"
   ]
  },
  {
   "cell_type": "markdown",
   "metadata": {},
   "source": [
    "###### 캡처 장치의 연결 여부 확인\n",
    "- cv2.VideoWriter.isOpened()"
   ]
  },
  {
   "cell_type": "markdown",
   "metadata": {},
   "source": [
    "###### image 프레임을 파일로 저장\n",
    "- cv2.VideoWriter.write(image)"
   ]
  },
  {
   "cell_type": "markdown",
   "metadata": {},
   "source": [
    "###### 영상을 동영상 파일의 프레임으로 저장하기 위해 동영상 파일을 개방 \n",
    "- cv2.VideoWriter.open()"
   ]
  },
  {
   "cell_type": "markdown",
   "metadata": {},
   "source": [
    "# 카메라 주요 속성 식별자 \n",
    "\n",
    "| 속성 상수 | 설명 |\n",
    "|:-------|:-------|\n",
    "| cv2.CAP_PROP_POS_MSEC | 동영상 파일의 현재 위치인 밀리초 (millisecond) |\n",
    "| cv2.CAP_PROP_POS_FRAMES | 캡처되는 프레임의 번호 |\n",
    "| cv2.CAP_PROP_POS_AVI_RATIO | 동영상 파일의 상대적 위치 (0 -시작, 1 -끝) |\n",
    "| cv2.CAP_PROP_FRAME_WIDTH | 프레임의 너비 |\n",
    "| cv2.CAP_PROP_FRAME_HEIGHT |프레임의 높이 |\n",
    "| cv2.CAP_PROP_FPS | 초당 프레임 수 |\n",
    "| cv2.CAP_PROP_FOURCC | 코덱의 4문자 |\n",
    "| cv2.CAP_PROP_FRAME_COUNT | 동영상 파알의 총 프레임 수 |\n",
    "| cv2.CAP_PROP_FORMAT | cv2.VideoCapture.retieve()이 반환하는 행렬 포맷 |\n",
    "| cv2.CAP_PROP_BRIGHTNESS | 카메라에서 영상의 밝기 |\n",
    "| cv2.CAP_PROP_CONTRAST | 카메라에서 영상의 대비 |\n",
    "| cv2.CAP_PROP_SATURATION | 카메라에서 영상의 포화도 |\n",
    "| cv2.CAP_PROP_HUE | 카메라에서 영사의 색상 |\n",
    "| cv2.CAP_PROP_GAIN | 카메라에서 영상의 Gain |\n",
    "| cv2.CAP_PROP_EXPOSURE | 카메라에서 노출 |\n",
    "| cv2.CAP_PROP_AUTOFOCUS | 자동초점 조절 |"
   ]
  },
  {
   "cell_type": "markdown",
   "metadata": {},
   "source": [
    "# 주요 코덱 문자 \n",
    "\n",
    "| 속성 상수 | 설명 |\n",
    "|:-------|:-------|\n",
    "|cv2.VideoWrite_fourcc(*\"DIV4\") | Divx MPEG-4 |\n",
    "|cv2.VideoWrite_fourcc(*\"DIV5\") | Div5 |\n",
    "|cv2.VideoWrite_fourcc(*\"DIVX\") | DivX |\n",
    "|cv2.VideoWrite_fourcc(*\"DI50\") | DivX MPEG-4 |\n",
    "|cv2.VideoWrite_fourcc(*\"FMP4\") | FFMpeg |\n",
    "|cv2.VideoWrite_fourcc(*\"TYUV\") | IYUV |\n",
    "|cv2.VideoWrite_fourcc(*\"MJPG\") | Motion JPED codec |\n",
    "|cv2.VideoWrite_fourcc(*\"MP42\") | MPEG4 v2 |\n",
    "|cv2.VideoWrite_fourcc(*\"MPEG\") | MPEG codecs |\n",
    "|cv2.VideoWrite_fourcc(*\"XVID) | XVID codecs |\n",
    "|cv2.VideoWrite_fourcc(*\"X264\") | H.264/AVC codecs |\n",
    "\n",
    "-  => cv2.Videowriter_fourcc('D','I','V','4') \n"
   ]
  },
  {
   "cell_type": "code",
   "execution_count": null,
   "metadata": {},
   "outputs": [],
   "source": []
  }
 ],
 "metadata": {
  "kernelspec": {
   "display_name": "Python 3",
   "language": "python",
   "name": "python3"
  },
  "language_info": {
   "codemirror_mode": {
    "name": "ipython",
    "version": 3
   },
   "file_extension": ".py",
   "mimetype": "text/x-python",
   "name": "python",
   "nbconvert_exporter": "python",
   "pygments_lexer": "ipython3",
   "version": "3.7.7"
  }
 },
 "nbformat": 4,
 "nbformat_minor": 4
}
