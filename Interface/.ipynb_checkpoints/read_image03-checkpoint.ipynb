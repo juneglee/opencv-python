{
 "cells": [
  {
   "cell_type": "markdown",
   "metadata": {},
   "source": [
    "# 영상파일 읽기 (비트)"
   ]
  },
  {
   "cell_type": "code",
   "execution_count": 1,
   "metadata": {},
   "outputs": [],
   "source": [
    "import cv2\n",
    "from matplotlib import pyplot as plt"
   ]
  },
  {
   "cell_type": "code",
   "execution_count": 2,
   "metadata": {},
   "outputs": [],
   "source": [
    "def print_matInfo(name, image):\n",
    "    if image.dtype == 'uint8':     mat_type = \"CV_8U\"\n",
    "    elif image.dtype == 'int8':    mat_type = \"CV_8S\"\n",
    "    elif image.dtype == 'uint16':  mat_type = \"CV_16U\"\n",
    "    elif image.dtype == 'int16':   mat_type = \"CV_16S\"\n",
    "    elif image.dtype == 'float32': mat_type = \"CV_32F\"\n",
    "    elif image.dtype == 'float64': mat_type = \"CV_64F\"\n",
    "    nchannel = 3 if image.ndim == 3 else 1\n",
    "\n",
    "    ## depth, channel 출력\n",
    "    print(\"%12s: depth(%s), channels(%s) -> mat_type(%sC%d)\"\n",
    "          % (name, image.dtype, nchannel, mat_type,  nchannel))"
   ]
  },
  {
   "cell_type": "code",
   "execution_count": 4,
   "metadata": {},
   "outputs": [],
   "source": [
    "title1, title2 = \"16bit unchanged\", \"32bit unchanged\"  # 윈도우 이름\n",
    "color2unchanged1 = cv2.imread(\"img/read_16.tif\", cv2.IMREAD_UNCHANGED)\n",
    "color2unchanged2 = cv2.imread(\"img/read_32.tif\", cv2.IMREAD_UNCHANGED)\n",
    "if color2unchanged1 is None or color2unchanged2 is None:\n",
    "    raise Exception(\"영상파일 읽기 에러\")"
   ]
  },
  {
   "cell_type": "code",
   "execution_count": 5,
   "metadata": {},
   "outputs": [
    {
     "name": "stdout",
     "output_type": "stream",
     "text": [
      "16/32비트 영상 행렬 좌표 (10, 10) 화소값\n",
      "16bit unchanged 원소 자료형  <class 'numpy.uint16'>\n",
      "16bit unchanged 화소값(3원소)  [48573 34438 23387]\n",
      "32bit unchanged 원소 자료형  <class 'numpy.float32'>\n",
      "32bit unchanged 화소값(3원소)  [0.7456989  0.52237624 0.36376417]\n",
      "\n"
     ]
    }
   ],
   "source": [
    "print(\"16/32비트 영상 행렬 좌표 (10, 10) 화소값\")\n",
    "print(title1, \"원소 자료형 \",  type(color2unchanged1[10][10][0]))   # 원소 좌료형\n",
    "print(title1, \"화소값(3원소) \", color2unchanged1[10, 10] )           # 행렬 내 한 화소 값 표시\n",
    "print(title2, \"원소 자료형 \",  type(color2unchanged2[10][10][0]))\n",
    "print(title2, \"화소값(3원소) \", color2unchanged2[10, 10] )\n",
    "print()"
   ]
  },
  {
   "cell_type": "code",
   "execution_count": 6,
   "metadata": {},
   "outputs": [
    {
     "name": "stdout",
     "output_type": "stream",
     "text": [
      "16bit unchanged: depth(uint16), channels(3) -> mat_type(CV_16UC3)\n",
      "32bit unchanged: depth(float32), channels(3) -> mat_type(CV_32FC3)\n"
     ]
    }
   ],
   "source": [
    "print_matInfo(title1, color2unchanged1)         # 행렬 정보 출력\n",
    "print_matInfo(title2, color2unchanged2)"
   ]
  },
  {
   "cell_type": "code",
   "execution_count": 7,
   "metadata": {},
   "outputs": [
    {
     "data": {
      "text/plain": [
       "-1"
      ]
     },
     "execution_count": 7,
     "metadata": {},
     "output_type": "execute_result"
    }
   ],
   "source": [
    "cv2.imshow(title1, color2unchanged1)\n",
    "cv2.imshow(title2, (color2unchanged2*255).astype(\"uint8\"))\n",
    "cv2.waitKey(0)"
   ]
  },
  {
   "cell_type": "markdown",
   "metadata": {},
   "source": [
    "![result](img/read_image3.png)"
   ]
  },
  {
   "cell_type": "code",
   "execution_count": null,
   "metadata": {},
   "outputs": [],
   "source": []
  }
 ],
 "metadata": {
  "kernelspec": {
   "display_name": "Python 3",
   "language": "python",
   "name": "python3"
  },
  "language_info": {
   "codemirror_mode": {
    "name": "ipython",
    "version": 3
   },
   "file_extension": ".py",
   "mimetype": "text/x-python",
   "name": "python",
   "nbconvert_exporter": "python",
   "pygments_lexer": "ipython3",
   "version": "3.7.7"
  }
 },
 "nbformat": 4,
 "nbformat_minor": 4
}
