{
 "cells": [
  {
   "cell_type": "markdown",
   "metadata": {},
   "source": [
    "# 타원 그리기"
   ]
  },
  {
   "cell_type": "markdown",
   "metadata": {},
   "source": [
    "- cv2.ellipse(image, center, axes, angle, startAngle, endAngle, color[, thickness[, lineType[, shift]]])\n",
    "    - center를 중심으로 axes 크기의 타원을 그린다 \n",
    "    - image : 그릴 대상 행렬\n",
    "    - center : 원의 중심 좌표\n",
    "    - axes : 타원의 절반 크기 (x축 반지름, y축 반지름)\n",
    "    - startAngle : 호의 시작 각도\n",
    "    - endAngle : 호의 종룔 각도 \n",
    "    - color 선의 색상\n",
    "    - thickness : 선의 두께\n",
    "    - lineType : 선의 형태\n",
    "    - shift : 좌표에 대한 비트 시프트 연산"
   ]
  },
  {
   "cell_type": "markdown",
   "metadata": {},
   "source": [
    "![ellipse](img/ellipse.png)"
   ]
  },
  {
   "cell_type": "code",
   "execution_count": 6,
   "metadata": {},
   "outputs": [],
   "source": [
    "import numpy as np\n",
    "import cv2\n",
    "from matplotlib import pyplot as plt"
   ]
  },
  {
   "cell_type": "code",
   "execution_count": 7,
   "metadata": {},
   "outputs": [],
   "source": [
    "orange, blue, white = (0, 165, 255), (255, 0, 0), (255,255,255) # 색상 지정\n",
    "image = np.full((300, 700, 3), white, np.uint8)"
   ]
  },
  {
   "cell_type": "code",
   "execution_count": 8,
   "metadata": {},
   "outputs": [],
   "source": [
    "pt1, pt2 = (180, 150), (550, 150)                       # 타원 중심점\n",
    "size = (120, 60)                                        # 타원 크기 - 반지름 값임"
   ]
  },
  {
   "cell_type": "code",
   "execution_count": 9,
   "metadata": {},
   "outputs": [
    {
     "data": {
      "image/png": "[encoded data removed]",
      "text/plain": [
       "<Figure size 432x288 with 1 Axes>"
      ]
     },
     "metadata": {},
     "output_type": "display_data"
    }
   ],
   "source": [
    "cv2.circle(image, pt1, 1, 0, 2)                         # 타원의 중심점(2화소 원) 표시\n",
    "cv2.circle(image, pt2, 1, 0, 2)\n",
    "\n",
    "cv2.ellipse(image, pt1, size,  0, 0, 360, blue, 1)      # 타원 그리기\n",
    "cv2.ellipse(image, pt2, size, 90, 0, 360, blue, 1)\n",
    "cv2.ellipse(image, pt1, size,  0, 30, 270, orange, 4)   # 호 그리기\n",
    "cv2.ellipse(image, pt2, size, 90,-45,  90, orange, 4)\n",
    "\n",
    "b, g, r = cv2.split(image)\n",
    "image2 = cv2.merge([r, g, b])\n",
    "plt.imshow(image2)\n",
    "plt.xticks([])  \n",
    "plt.yticks([]) \n",
    "plt.show()"
   ]
  },
  {
   "cell_type": "code",
   "execution_count": null,
   "metadata": {},
   "outputs": [],
   "source": [
    "\n"
   ]
  }
 ],
 "metadata": {
  "kernelspec": {
   "display_name": "Python 3",
   "language": "python",
   "name": "python3"
  },
  "language_info": {
   "codemirror_mode": {
    "name": "ipython",
    "version": 3
   },
   "file_extension": ".py",
   "mimetype": "text/x-python",
   "name": "python",
   "nbconvert_exporter": "python",
   "pygments_lexer": "ipython3",
   "version": "3.7.7"
  }
 },
 "nbformat": 4,
 "nbformat_minor": 4
}
