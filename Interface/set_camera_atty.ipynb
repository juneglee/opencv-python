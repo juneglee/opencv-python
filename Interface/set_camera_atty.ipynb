{
 "cells": [
  {
   "cell_type": "markdown",
   "metadata": {},
   "source": [
    "# 카메라 속성 설정"
   ]
  },
  {
   "cell_type": "code",
   "execution_count": 1,
   "metadata": {},
   "outputs": [],
   "source": [
    "import cv2"
   ]
  },
  {
   "cell_type": "code",
   "execution_count": 2,
   "metadata": {},
   "outputs": [],
   "source": [
    "def put_string(frame, text, pt, value=None, color=(120, 200, 90)) :\n",
    "    text = str(text) + str(value)\n",
    "    shade = (pt[0] + 2, pt[1] + 2)\n",
    "    font = cv2.FONT_HERSHEY_SIMPLEX\n",
    "    cv2.putText(frame, text, shade, font, 0.7, (0, 0, 0), 2) # 그림자 효과\n",
    "    cv2.putText(frame, text, pt   , font, 0.7, color, 2) # 작성 문자\n",
    "    \n",
    "def zoom_bar(value):\n",
    "    global capture\n",
    "    capture.set(cv2.CAP_PROP_ZOOM, value) # 줌 설정 \n",
    "\n",
    "def focus_bar(value):\n",
    "    global capture\n",
    "    capture.set(cv2.CAP_PROP_FOCUS, value)"
   ]
  },
  {
   "cell_type": "code",
   "execution_count": 3,
   "metadata": {},
   "outputs": [],
   "source": [
    "capture = cv2.VideoCapture(0)\n",
    "if capture.isOpened() is None: raise Exception(\"카메라 연결 안됨\")"
   ]
  },
  {
   "cell_type": "code",
   "execution_count": 4,
   "metadata": {},
   "outputs": [],
   "source": [
    "capture.set(cv2.CAP_PROP_FRAME_WIDTH, 400)      # 카메라 프레임 너비\n",
    "capture.set(cv2.CAP_PROP_FRAME_HEIGHT, 300)     # 카메라 프레임 높이\n",
    "capture.set(cv2.CAP_PROP_AUTOFOCUS, 0)          # 오토포커싱 중지\n",
    "capture.set(cv2.CAP_PROP_BRIGHTNESS, 100)       # 프레임 밝기 초기화\n",
    "\n",
    "title = \"Change Camera Properties\"              # 윈도우 이름 지정\n",
    "cv2.namedWindow(title)                          # 윈도우 생성 - 반드시 생성 해야함\n",
    "cv2.createTrackbar(\"zoom\" , title, 0, 10, zoom_bar)\n",
    "cv2.createTrackbar(\"focus\", title, 0, 40, focus_bar)\n",
    "\n",
    "while True:\n",
    "    ret, frame = capture.read()                 # 카메라 영상 받기\n",
    "    if not ret: break\n",
    "    if cv2.waitKey(30) >= 0: break\n",
    "\n",
    "    zoom = int(capture.get(cv2.CAP_PROP_ZOOM))\n",
    "    focus = int(capture.get(cv2.CAP_PROP_FOCUS))\n",
    "    put_string(frame, \"zoom : \" , (10, 240), zoom)   # 줌 값 표시\n",
    "    put_string(frame, \"focus : \", (10, 270), focus)    # 초점 값 표시 \n",
    "    cv2.imshow(title, frame)\n",
    "\n",
    "capture.release() # 비디오 캡처 메모리 해체"
   ]
  }
 ],
 "metadata": {
  "kernelspec": {
   "display_name": "Python 3",
   "language": "python",
   "name": "python3"
  },
  "language_info": {
   "codemirror_mode": {
    "name": "ipython",
    "version": 3
   },
   "file_extension": ".py",
   "mimetype": "text/x-python",
   "name": "python",
   "nbconvert_exporter": "python",
   "pygments_lexer": "ipython3",
   "version": "3.7.7"
  }
 },
 "nbformat": 4,
 "nbformat_minor": 4
}
