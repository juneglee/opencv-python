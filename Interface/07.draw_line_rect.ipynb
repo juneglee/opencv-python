{
 "cells": [
  {
   "cell_type": "markdown",
   "metadata": {},
   "source": [
    " ## 직선과 사각형 그리기"
   ]
  },
  {
   "cell_type": "markdown",
   "metadata": {},
   "source": [
    "- cv2.line(image, pt1, pt2, color[, thickness[, lineType[, shift]]]) : pt1, pt2를 잇는 직선을 그린다 \n",
    "    - cv2.LINE_4 : 4-방향 연결선\n",
    "    - cv2.LINE_8 : 8-방향 연결선\n",
    "    - cv2.LINE_AA : 계단 현상을 감소시킨 선 \n",
    "    \n",
    "- cv2.rectangle(image, pt1, pt2, color[, thickness[, lineType[, shift]]]) : 2가지 방식 (두 좌표, 사각형 영역)으로 사각형을 그린다 \n",
    "- cv2.rectangle(image, rec, color[, thickness[, lineType[, shift]]])\n",
    "    - pt1, pt2 : 시작 좌표와 종료 좌표(정수형)\n",
    "    - rec : 사각형 영역 (x,y,w,h)을 나타내는 4원소 튜플(정수형)"
   ]
  },
  {
   "cell_type": "code",
   "execution_count": 1,
   "metadata": {},
   "outputs": [],
   "source": [
    "import numpy as np\n",
    "import cv2\n",
    "from matplotlib import pyplot as plt"
   ]
  },
  {
   "cell_type": "code",
   "execution_count": 2,
   "metadata": {},
   "outputs": [],
   "source": [
    "blue, green, red = (255, 0, 0), (0, 255, 0), (0,0,255)\n",
    "image = np.zeros((400, 600,3), np.uint8)\n",
    "image[:] = (255, 255, 255) # 3채널 흰색"
   ]
  },
  {
   "cell_type": "code",
   "execution_count": 3,
   "metadata": {},
   "outputs": [],
   "source": [
    "pt1, pt2 = (50, 50), (250, 150)\n",
    "pt3, pt4 = (400, 150), (500, 50)\n",
    "roi = (50, 200, 200, 100) # 시갹형 영역 = 4원소 튜플\n"
   ]
  },
  {
   "cell_type": "markdown",
   "metadata": {},
   "source": [
    "### 직선 그리기"
   ]
  },
  {
   "cell_type": "code",
   "execution_count": 4,
   "metadata": {},
   "outputs": [
    {
     "data": {
      "image/png": "[encoded data removed]",
      "text/plain": [
       "<Figure size 432x288 with 1 Axes>"
      ]
     },
     "metadata": {},
     "output_type": "display_data"
    }
   ],
   "source": [
    "cv2.line(image, pt1, pt2, red)\n",
    "cv2.line(image, pt3, pt4, green, 3, cv2.LINE_AA) # 계산 현상 감소선\n",
    "\n",
    "b, g, r = cv2.split(image)\n",
    "image2 = cv2.merge([r, g, b])\n",
    "plt.imshow(image2)\n",
    "plt.xticks([])  # x축 눈금\n",
    "plt.yticks([])  # y축 눈금\n",
    "plt.show()"
   ]
  },
  {
   "cell_type": "markdown",
   "metadata": {},
   "source": [
    "### 사각형 그리기"
   ]
  },
  {
   "cell_type": "code",
   "execution_count": 5,
   "metadata": {},
   "outputs": [],
   "source": [
    "# cv2.imshow(\"Line & Rectangle\", image)\n",
    "# cv2.waitKey(0)\n",
    "# cv2.destroyAllWindows()"
   ]
  },
  {
   "cell_type": "code",
   "execution_count": 6,
   "metadata": {},
   "outputs": [
    {
     "data": {
      "image/png": "[encoded data removed]",
      "text/plain": [
       "<Figure size 432x288 with 1 Axes>"
      ]
     },
     "metadata": {},
     "output_type": "display_data"
    }
   ],
   "source": [
    "cv2.rectangle(image, pt1, pt2, blue, 3, cv2.LINE_4) # 4방향 연결선\n",
    "cv2.rectangle(image, roi, red, 3, cv2.LINE_8) # 8방향 연결선\n",
    "cv2.rectangle(image, (400, 200, 100, 100), green, cv2.FILLED) # 내부채움\n",
    "\n",
    "b, g, r = cv2.split(image)\n",
    "image2 = cv2.merge([r, g, b])\n",
    "plt.imshow(image2)\n",
    "plt.xticks([])  # x축 눈금\n",
    "plt.yticks([])  # y축 눈금\n",
    "plt.show()"
   ]
  },
  {
   "cell_type": "markdown",
   "metadata": {},
   "source": [
    "### 윈도우에 이미지 표시"
   ]
  },
  {
   "cell_type": "code",
   "execution_count": 10,
   "metadata": {},
   "outputs": [],
   "source": [
    "cv2.imshow(\"Line & Rectangle\", image)\n",
    "cv2.waitKey(0)\n",
    "cv2.destroyAllWindows()"
   ]
  },
  {
   "cell_type": "markdown",
   "metadata": {},
   "source": [
    "### Jupyter 이미지 표시"
   ]
  },
  {
   "cell_type": "code",
   "execution_count": 11,
   "metadata": {},
   "outputs": [
    {
     "data": {
      "image/png": "[encoded data removed]",
      "text/plain": [
       "<Figure size 432x288 with 1 Axes>"
      ]
     },
     "metadata": {},
     "output_type": "display_data"
    }
   ],
   "source": [
    "b, g, r = cv2.split(image)\n",
    "image2 = cv2.merge([r, g, b])\n",
    "plt.imshow(image2)\n",
    "plt.xticks([])  # x축 눈금\n",
    "plt.yticks([])  # y축 눈금\n",
    "plt.show()"
   ]
  },
  {
   "cell_type": "code",
   "execution_count": null,
   "metadata": {},
   "outputs": [],
   "source": []
  }
 ],
 "metadata": {
  "kernelspec": {
   "display_name": "Python 3",
   "language": "python",
   "name": "python3"
  },
  "language_info": {
   "codemirror_mode": {
    "name": "ipython",
    "version": 3
   },
   "file_extension": ".py",
   "mimetype": "text/x-python",
   "name": "python",
   "nbconvert_exporter": "python",
   "pygments_lexer": "ipython3",
   "version": "3.7.7"
  }
 },
 "nbformat": 4,
 "nbformat_minor": 4
}
