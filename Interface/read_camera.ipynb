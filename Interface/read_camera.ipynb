{
 "cells": [
  {
   "cell_type": "markdown",
   "metadata": {},
   "source": [
    "# 카메라에서 프레임 읽기"
   ]
  },
  {
   "cell_type": "code",
   "execution_count": 1,
   "metadata": {},
   "outputs": [],
   "source": [
    "import cv2"
   ]
  },
  {
   "cell_type": "code",
   "execution_count": 2,
   "metadata": {},
   "outputs": [],
   "source": [
    "def put_string(frame, text, pt, value, color=(120, 200, 90)): # 문자열 출력 함수 - 그림자 효과\n",
    "    text += str(value)\n",
    "    shade = (pt[0] + 2, pt[1] + 2)\n",
    "    font = cv2.FONT_HERSHEY_SIMPLEX\n",
    "    cv2.putText(frame, text, shade, font, 0.7, (0, 0, 0), 2)  # 그림자 효과\n",
    "    cv2.putText(frame, text, pt, font, 0.7, (120, 200, 90), 2)  # 글자 적기\n",
    "\n",
    "# put_string() 함수는 text 문자와 value 숫자를 pt 좌표에 글자로 적는다 \n",
    "# 같은 문자열을 본래 위치와 2화소 이동된 위치에서 각각 그리기 해서 그림자 효과를 준다 "
   ]
  },
  {
   "cell_type": "code",
   "execution_count": 3,
   "metadata": {},
   "outputs": [],
   "source": [
    "capture = cv2.VideoCapture(0)  # 0번 카메라 연결\n",
    "if capture.isOpened() == False:\n",
    "    raise Exception(\"카메라 연결 안됨\")\n"
   ]
  },
  {
   "cell_type": "code",
   "execution_count": 4,
   "metadata": {},
   "outputs": [
    {
     "name": "stdout",
     "output_type": "stream",
     "text": [
      "너비 640\n",
      "높이 480\n",
      "노출 -6\n",
      "밝기 0\n"
     ]
    }
   ],
   "source": [
    "# 카메라 속성 획득 및 출력\n",
    "print(\"너비 %d\" % capture.get(cv2.CAP_PROP_FRAME_WIDTH))\n",
    "print(\"높이 %d\" % capture.get(cv2.CAP_PROP_FRAME_HEIGHT))\n",
    "print(\"노출 %d\" % capture.get(cv2.CAP_PROP_EXPOSURE))\n",
    "print(\"밝기 %d\" % capture.get(cv2.CAP_PROP_BRIGHTNESS))"
   ]
  },
  {
   "cell_type": "code",
   "execution_count": 5,
   "metadata": {},
   "outputs": [],
   "source": [
    "while True:  # 무한 반복\n",
    "    ret, frame = capture.read()  # 카메라 영상 받기\n",
    "    if not ret: break\n",
    "    if cv2.waitKey(30) >= 0: break\n",
    "\n",
    "    exposure = capture.get(cv2.CAP_PROP_EXPOSURE)\n",
    "    put_string(frame, \"EXPOS: \", (10, 40), exposure)\n",
    "    title = \"View Frame from Camera\"\n",
    "    cv2.imshow(title, frame)  # 윈도우에 영상 띄우기\n",
    "capture.release()\n",
    "\n",
    "# 카메라에서  cv2.VideoCapture.read()  메서드로 카메라에서 프레임을 받아오며, 2춰놋 튜플로 반환되는데 ret와 frame로 나누어 반환받는다 \n",
    "# ret이 true이면 frmae에 정상적으로 영상 프레임을 가져온 것이다 "
   ]
  }
 ],
 "metadata": {
  "kernelspec": {
   "display_name": "Python 3",
   "language": "python",
   "name": "python3"
  },
  "language_info": {
   "codemirror_mode": {
    "name": "ipython",
    "version": 3
   },
   "file_extension": ".py",
   "mimetype": "text/x-python",
   "name": "python",
   "nbconvert_exporter": "python",
   "pygments_lexer": "ipython3",
   "version": "3.7.7"
  }
 },
 "nbformat": 4,
 "nbformat_minor": 4
}
