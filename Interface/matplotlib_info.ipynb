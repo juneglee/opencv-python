{
 "cells": [
  {
   "cell_type": "markdown",
   "metadata": {},
   "source": [
    "# Matplotlib 패키지 활용 \n",
    "- matplotlib 패키지는 파이썬에서 데이터를 차트나 그래프로 그려주는 라이브러리 "
   ]
  },
  {
   "cell_type": "markdown",
   "metadata": {},
   "source": [
    "- pyplot.figure(num=None, figsize=None, dpi=None) : 그림(figure) 객체를 생성해서 플롯(plot)을 그릴수 있게 한다 \n",
    "    - num : 그림이름, 정수 or 문자열 \n",
    "    - figsize  : 그림 크기(가로,세로), 인치 단위(실수형)\n",
    "    - dpi : 그림 해상도 (정수형)\n"
   ]
  },
  {
   "cell_type": "markdown",
   "metadata": {},
   "source": [
    "- pyplot(X, cmap=None, norm=None, aspect=None, interpolation=None, alpha=None) : 데이터 X를 그래프에 영상으로 그려준다 \n",
    "    - X : 그리려는 데이터 (ndarray), 2차원 혹은 3차원\n",
    "    - cmap : 컬러 맵, 정해진 컬러 조합에 따라서 색상 매칭\n",
    "    - aspect : 그려지는 영상의 종횡비\n",
    "    - interpolation : 영상의 보간법 (ex, nearest, bilinear, bicubic)\n",
    "    - alpha : 투명도 (0 :완전투명, 1: 완전 불투명)"
   ]
  },
  {
   "cell_type": "markdown",
   "metadata": {},
   "source": [
    "- pyplot.plot (*arg, scalex=None, scaley=None, **kwargs) : x에 대해서 y 값으로 그래서(선, 마크)를 그려준다 \n",
    "    - *arg : [x], y, [fmt] 순으로 인수작성, []는 생략가능\n",
    "    - fmt : 선을 나타내는 문자열 (\"[color][marker][line]\")\n",
    "    \n",
    "|color(색)|       |       |marker|      |       | line |       |      |line|       | \n",
    "|:------|:------|:---|:------|:------|:---|:------|:------|:---|:------|:------|\n",
    "| 'b' | 파란색 ||'.' | 점 ||'s' | 점 ||'-' | 실선 |\n",
    "| 'g' | 초록색 ||',' | 픽셀 ||'p' | 점 ||'--' | 파선 |\n",
    "| 'r' | 빨간색 ||'o' | 원 ||'h' | 점 ||'-.' | 파선 점선 |\n",
    "| 'c' | 청록색 ||'v' | 삼각형1 ||'*' | 점 ||':' | 점선 |\n",
    "| 'm' | 자주색 ||'^' | 삼각형2 ||'+' | 점 ||||\n",
    "| 'y' | 노란색 ||'>' | 삼각형3 ||'x' | 점 ||||\n",
    "| 'k' | 검정색 ||'1' | 삼각뿔1 ||'d' | 점 ||||\n",
    "| 'w' | 흰색 ||'2' | 삼각뿔2 ||'-' | 점 ||||\n",
    "\n",
    "    - scalex, scaley x축, y축 스케일 자동으로 조절하는 독립변수\n",
    "    - **kwargs :라인 속석을 각 인수 별로 지정\n",
    "    \n",
    "|속성  |자료형 | 설명 |\n",
    "|:------|:------|:------|\n",
    "| label | 객체  | 라벨로 입력받는 변수를 문자열형으로 치환하여 라벨을 세팅 |\n",
    "| linestyle | str | 선 스타일 (solid,dashed, dotted) |\n",
    "| linewidth | float | 선 두께 |\n",
    "| color | str | 선 색 |\n",
    "| dashed | 리스트, 튜플 | 선 형태 |\n",
    "| macker | str | 선 스타일 |\n",
    "| mackersize | float | 마커 크기 |\n",
    "| visible | bool | 표시 여부 설정 |\n",
    "| fillstyle | str | 마커 내부 채움 설정 |"
   ]
  },
  {
   "cell_type": "markdown",
   "metadata": {},
   "source": [
    "- pyplot.subplot(*arg,*kwargs) : 현재 그림에 서브 플롯을 추가 \n",
    "    - *arg : 행, 열 , 순번 지정\n",
    "        - nrows, nclos, index : 콤마 분리 숫자  (ex, 3, 3, 3)\n",
    "        - pos : 세자리 숫자 (ex, 333)\n",
    "        - axes :axesSubplot 객체 "
   ]
  },
  {
   "cell_type": "markdown",
   "metadata": {},
   "source": [
    "- pyplot.title(label, fontdict=None, loc=\"center\") : 서브 플롯의 제목을 지정 \n",
    "    - label : 그림 제목\n",
    "    - fontdict : 라벨의 모양 편집, 사전 자료형\n",
    "    - loc : 제목의 위치 (ex, center, left, right)\n",
    "    - pad : 그림과의 간격"
   ]
  },
  {
   "cell_type": "markdown",
   "metadata": {},
   "source": [
    "- pyplot.subtitle(t,**kwargs) :메인 그림 (figure)의 제목을 지정\n",
    "    - t : 그림 제목 텍스트\n",
    "    - **kwargs : 추가 인수 (x, y, ha, va, size 등 개별 지정)\n",
    "        - x, y : 제목 위치\n",
    "        - ha : 가로 방향 위치 (ex, center, left, right)\n",
    "        - va : 세로 방향 위치 (ex, top, center, bottom, baseline)\n",
    "        - size : 제목 텍스트 크기 \n",
    "        "
   ]
  },
  {
   "cell_type": "markdown",
   "metadata": {},
   "source": [
    "- pyplot.tight_layout(pad=1.08, h_pad=None, w_pad=None)\n",
    "    - pad : 그림 여백 설정 ,float\n",
    "    - h_pad : 상하 여백  ,float\n",
    "    - w_pad : 좌우 여백  ,float\n",
    "    "
   ]
  },
  {
   "cell_type": "markdown",
   "metadata": {},
   "source": [
    "- pyplot.axis (*arg,*kwargs) : 플롯의 축 조정 \n",
    "    - *arg : [xmin, xmax, ymin, ymax]를 리스트로 지정\n",
    "    - **kwargs option 지정\n",
    "    \n",
    "|option  |설명 |\n",
    "|:------|:------|\n",
    "| 'on' | 축과 레벨을 켠다 |\n",
    "| 'off' | 축과 레벨을 끈다 |\n",
    "| 'equal' | 축의 범위와 축 스케일 동일|\n",
    "| 'scaled' | 그림크기와 축 스케일 동일 |\n",
    "| 'tight' | 모든 값 표시되도록 축 범위 크게 |\n",
    "| 'auto' | 축 스케일 자동 |\n",
    "| 'image' |  데이터 범위 만 scaled |\n",
    "| 'square' | xmin- xmax ymin- ymax 되도록 |"
   ]
  },
  {
   "cell_type": "markdown",
   "metadata": {},
   "source": [
    "- pyplot.show() : 그림 객체를 윈도우에 띄운다 "
   ]
  },
  {
   "cell_type": "markdown",
   "metadata": {},
   "source": [
    "- pyplot.subplots(nrows=1, nclos=1, **fig_kw) : 그림 객체와 서브 플롯들을 생성"
   ]
  },
  {
   "cell_type": "markdown",
   "metadata": {},
   "source": [
    "- pyplot.savefig(*arg,*kwargs)  : 그림 객체를 영상 파일로 저장\n",
    "    - *arg : 파일명(fname) 지정\n",
    "    - **kwargs : 추가 키워드 인수 "
   ]
  }
 ],
 "metadata": {
  "kernelspec": {
   "display_name": "Python 3",
   "language": "python",
   "name": "python3"
  },
  "language_info": {
   "codemirror_mode": {
    "name": "ipython",
    "version": 3
   },
   "file_extension": ".py",
   "mimetype": "text/x-python",
   "name": "python",
   "nbconvert_exporter": "python",
   "pygments_lexer": "ipython3",
   "version": "3.7.7"
  }
 },
 "nbformat": 4,
 "nbformat_minor": 4
}
